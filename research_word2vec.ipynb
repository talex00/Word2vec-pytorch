{
 "cells": [
  {
   "cell_type": "markdown",
   "metadata": {
    "id": "nTSf4ro-qU0d"
   },
   "source": [
    "## Исследование методов векторного представления слов: Реализация word2vec на PyTorch\n",
    "\n",
    "В данной работе исследуется метод word2vec, предложенный в [Mikolov et al., 2013](https://arxiv.org/pdf/1310.4546). \n",
    "Цель исследования – изучить принципы построения плотных векторных представлений слов, реализовав word2vec с использованием PyTorch.\n"
   ]
  },
  {
   "cell_type": "markdown",
   "metadata": {
    "id": "bTBz3ZnuNl2-"
   },
   "source": [
    "### Установка зависимостей\n",
    "\n",
    "Для запуска экспериментов необходимо установить следующие библиотеки:\n",
    "\n",
    "```bash\n",
    "pip install --upgrade nltk bokeh umap-learn\n",
    "```\n",
    "\n",
    "Эти библиотеки понадобятся для обработки текста, визуализации результатов и снижения размерности представлений.\n"
   ]
  },
  {
   "cell_type": "code",
   "execution_count": null,
   "metadata": {
    "id": "Oipe2DU8qfm7"
   },
   "outputs": [],
   "source": [
    "#!pip install --upgrade nltk bokeh umap-learn"
   ]
  },
  {
   "cell_type": "code",
   "execution_count": 1,
   "metadata": {
    "id": "pqPU4Lu2qU0h"
   },
   "outputs": [
    {
     "name": "stderr",
     "output_type": "stream",
     "text": [
      "c:\\Users\\rhji2\\AppData\\Local\\Programs\\Python\\Python312\\Lib\\site-packages\\tqdm\\auto.py:21: TqdmWarning: IProgress not found. Please update jupyter and ipywidgets. See https://ipywidgets.readthedocs.io/en/stable/user_install.html\n",
      "  from .autonotebook import tqdm as notebook_tqdm\n"
     ]
    }
   ],
   "source": [
    "import itertools\n",
    "import random\n",
    "import string\n",
    "from collections import Counter\n",
    "from itertools import chain\n",
    "\n",
    "import matplotlib.pyplot as plt\n",
    "import numpy as np\n",
    "import torch\n",
    "import torch.autograd as autograd\n",
    "import torch.nn as nn\n",
    "import torch.nn.functional as F\n",
    "import torch.optim as optim\n",
    "import umap\n",
    "from IPython.display import clear_output\n",
    "from matplotlib import pyplot as plt\n",
    "from nltk.tokenize import WordPunctTokenizer\n",
    "from torch.optim.lr_scheduler import ReduceLROnPlateau, StepLR\n",
    "from tqdm.auto import tqdm as tqdma"
   ]
  },
  {
   "cell_type": "code",
   "execution_count": null,
   "metadata": {
    "id": "8Fbx57z3qU0i"
   },
   "outputs": [],
   "source": [
    "# Данные необходимо загрузить вручную перед запуском эксперимента."
   ]
  },
  {
   "cell_type": "code",
   "execution_count": 2,
   "metadata": {
    "id": "8EYy5dQpqU0i",
    "scrolled": false
   },
   "outputs": [
    {
     "data": {
      "text/plain": [
       "\"What TV shows or books help you read people's body language?\\n\""
      ]
     },
     "execution_count": 2,
     "metadata": {},
     "output_type": "execute_result"
    }
   ],
   "source": [
    "data = list(open(\"./quora.txt\", encoding=\"utf-8\"))\n",
    "data[50]"
   ]
  },
  {
   "cell_type": "markdown",
   "metadata": {
    "id": "feBEGI2eqU0j"
   },
   "source": [
    "Токенизация – первый шаг.\n",
    "Тексты, с которыми мы работаем, включают в себя пунктуацию, смайлики и прочие нестандартные токены, так что простой `str.split` не подойдет.\n",
    "\n",
    "Обратимся к `nltk` - библиотеку, нашла широкое применеие в области NLP."
   ]
  },
  {
   "cell_type": "code",
   "execution_count": 3,
   "metadata": {
    "id": "7mWTvm50qU0j"
   },
   "outputs": [
    {
     "name": "stdout",
     "output_type": "stream",
     "text": [
      "['What', 'TV', 'shows', 'or', 'books', 'help', 'you', 'read', 'people', \"'\", 's', 'body', 'language', '?']\n"
     ]
    }
   ],
   "source": [
    "tokenizer = WordPunctTokenizer()\n",
    "\n",
    "print(tokenizer.tokenize(data[50]))"
   ]
  },
  {
   "cell_type": "code",
   "execution_count": 4,
   "metadata": {
    "id": "HzC05EHWqU0j"
   },
   "outputs": [],
   "source": [
    "data_tok = [\n",
    "    tokenizer.tokenize(\n",
    "        line.translate(str.maketrans(\"\", \"\", string.punctuation)).lower()\n",
    "    )\n",
    "    for line in data\n",
    "]\n",
    "data_tok = [x for x in data_tok if len(x) >= 3]"
   ]
  },
  {
   "cell_type": "markdown",
   "metadata": {
    "id": "6azRAgHIqU0k"
   },
   "source": [
    "Несколько проверок:"
   ]
  },
  {
   "cell_type": "code",
   "execution_count": 5,
   "metadata": {
    "id": "Cp8UpxdWqU0k"
   },
   "outputs": [],
   "source": [
    "assert all(\n",
    "    isinstance(row, (list, tuple)) for row in data_tok\n",
    "), \"please convert each line into a list of tokens (strings)\"\n",
    "assert all(\n",
    "    all(isinstance(tok, str) for tok in row) for row in data_tok\n",
    "), \"please convert each line into a list of tokens (strings)\"\n",
    "is_latin = lambda tok: all(\"a\" <= x.lower() <= \"z\" for x in tok)\n",
    "assert all(\n",
    "    map(lambda l: not is_latin(l) or l.islower(), map(\" \".join, data_tok))\n",
    "), \"please make sure to lowercase the data\""
   ]
  },
  {
   "cell_type": "markdown",
   "metadata": {
    "id": "37e7-MIhqU0x"
   },
   "source": [
    "Ниже заданы константы ширины окна контекста и проведена предобработка для построения skip-gram модели."
   ]
  },
  {
   "cell_type": "code",
   "execution_count": 6,
   "metadata": {
    "id": "fugc1IomqU0x"
   },
   "outputs": [],
   "source": [
    "min_count = 5\n",
    "window_radius = 5"
   ]
  },
  {
   "cell_type": "code",
   "execution_count": 7,
   "metadata": {
    "id": "rp4EJILvNl3I"
   },
   "outputs": [],
   "source": [
    "vocabulary_with_counter = Counter(chain.from_iterable(data_tok))\n",
    "\n",
    "word_count_dict = dict()\n",
    "for word, counter in vocabulary_with_counter.items():\n",
    "    if counter >= min_count:\n",
    "        word_count_dict[word] = counter\n",
    "\n",
    "vocabulary = set(word_count_dict.keys())\n",
    "del vocabulary_with_counter"
   ]
  },
  {
   "cell_type": "code",
   "execution_count": 8,
   "metadata": {
    "id": "4flQuYKcNl3I"
   },
   "outputs": [],
   "source": [
    "word_to_index = {word: index for index, word in enumerate(vocabulary)}\n",
    "index_to_word = {index: word for word, index in word_to_index.items()}"
   ]
  },
  {
   "cell_type": "markdown",
   "metadata": {
    "id": "4Y8rlBfqqU0x"
   },
   "source": [
    "Пары `(слово, контекст)` на основе доступного датасета сгенерированы ниже."
   ]
  },
  {
   "cell_type": "code",
   "execution_count": 9,
   "metadata": {
    "id": "h2-aqyyaqU0x"
   },
   "outputs": [
    {
     "name": "stdout",
     "output_type": "stream",
     "text": [
      "Generated 40220313 pairs of target and context words.\n"
     ]
    }
   ],
   "source": [
    "context_pairs = []\n",
    "\n",
    "for text in data_tok:\n",
    "    for i, central_word in enumerate(text):\n",
    "        context_indices = range(\n",
    "            max(0, i - window_radius), min(i + window_radius, len(text))\n",
    "        )\n",
    "        for j in context_indices:\n",
    "            if j == i:\n",
    "                continue\n",
    "            context_word = text[j]\n",
    "            if central_word in vocabulary and context_word in vocabulary:\n",
    "                context_pairs.append(\n",
    "                    (word_to_index[central_word], word_to_index[context_word])\n",
    "                )\n",
    "\n",
    "print(f\"Generated {len(context_pairs)} pairs of target and context words.\")"
   ]
  },
  {
   "cell_type": "markdown",
   "metadata": {
    "id": "keP7vBmGNl3J"
   },
   "source": [
    "#### Подзадача №1: subsampling\n",
    "Для того, чтобы сгладить разницу в частоте встречаемсости слов, необходимо реализовать механизм subsampling'а.\n",
    "Для этого нам необходимо реализовать функцию ниже.\n",
    "\n",
    "Вероятность **исключить** слово из обучения (на фиксированном шаге) вычисляется как\n",
    "$$\n",
    "P_\\text{drop}(w_i)=1 - \\sqrt{\\frac{t}{f(w_i)}},\n",
    "$$\n",
    "где $f(w_i)$ – нормированная частота встречаемости слова, а $t$ – заданный порог (threshold)."
   ]
  },
  {
   "cell_type": "code",
   "execution_count": 18,
   "metadata": {
    "id": "fryFq6LENl3K"
   },
   "outputs": [],
   "source": [
    "def subsample_frequent_words(word_count_dict, threshold=1e-5):\n",
    "    \"\"\"\n",
    "    Calculates the subsampling probabilities for words based on their frequencies.\n",
    "\n",
    "    This function is used to determine the probability of keeping a word in the dataset\n",
    "    when subsampling frequent words. The method used is inspired by the subsampling approach\n",
    "    in Word2Vec, where each word's frequency affects its probability of being kept.\n",
    "\n",
    "    Parameters:\n",
    "    - word_count_dict (dict): A dictionary where keys are words and values are the counts of those words.\n",
    "    - threshold (float, optional): A threshold parameter used to adjust the frequency of word subsampling.\n",
    "                                   Defaults to 1e-5.\n",
    "\n",
    "    Returns:\n",
    "    - dict: A dictionary where keys are words and values are the probabilities of keeping each word.\n",
    "\n",
    "    Example:\n",
    "    >>> word_counts = {'the': 5000, 'is': 1000, 'apple': 50}\n",
    "    >>> subsample_frequent_words(word_counts)\n",
    "    {'the': 0.028, 'is': 0.223, 'apple': 1.0}\n",
    "    \"\"\"\n",
    "\n",
    "    total_count = sum(word_count_dict.values())\n",
    "    keep_prob_dict = {}\n",
    "\n",
    "    for word, count in word_count_dict.items():\n",
    "        # Calculate the probability of keeping the word\n",
    "        keep_prob = 1 - (threshold / count) ** 0.5 if count > threshold else 1.0\n",
    "        keep_prob_dict[word] = keep_prob\n",
    "        \n",
    "    return keep_prob_dict"
   ]
  },
  {
   "cell_type": "markdown",
   "metadata": {
    "id": "E_q_QYVSNl3K"
   },
   "source": [
    "#### Подзадача №2: negative sampling\n",
    "Для более эффективного обучения необходимо не только предсказывать высокие вероятности для слов из контекста, но и предсказывать низкие для слов, не встреченных в контексте. Для этого вам необходимо вычислить вероятност использовать слово в качестве negative sample, реализовав функцию ниже.\n",
    "\n",
    "В оригинальной статье предлагается оценивать вероятность слов выступать в качестве negative sample согласно распределению $P_n(w)$\n",
    "$$\n",
    "P_n(w) = \\frac{U(w)^{3/4}}{Z},\n",
    "$$\n",
    "\n",
    "где $U(w)$ распределение слов по частоте (или, как его еще называют, по униграммам), а $Z$ – нормировочная константа, чтобы общая мера была равна $1$."
   ]
  },
  {
   "cell_type": "code",
   "execution_count": 20,
   "metadata": {
    "id": "nMpXLf-qNl3K"
   },
   "outputs": [],
   "source": [
    "def get_negative_sampling_prob(word_count_dict):\n",
    "    \"\"\"\n",
    "    Calculates the negative sampling probabilities for words based on their frequencies.\n",
    "\n",
    "    This function adjusts the frequency of each word raised to the power of 0.75, which is\n",
    "    commonly used in algorithms like Word2Vec to moderate the influence of very frequent words.\n",
    "    It then normalizes these adjusted frequencies to ensure they sum to 1, forming a probability\n",
    "    distribution used for negative sampling.\n",
    "\n",
    "    Parameters:\n",
    "    - word_count_dict (dict): A dictionary where keys are words and values are the counts of those words.\n",
    "\n",
    "    Returns:\n",
    "    - dict: A dictionary where keys are words and values are the probabilities of selecting each word\n",
    "            for negative sampling.\n",
    "\n",
    "    Example:\n",
    "    >>> word_counts = {'the': 5000, 'is': 1000, 'apple': 50}\n",
    "    >>> get_negative_sampling_prob(word_counts)\n",
    "    {'the': 0.298, 'is': 0.160, 'apple': 0.042}\n",
    "    \"\"\"\n",
    "    \n",
    "    # Step 1: Calculate the adjusted frequencies\n",
    "    adjusted_frequencies = {word: count ** 0.75 for word, count in word_count_dict.items()}\n",
    "\n",
    "    # Step 2: Normalize the adjusted frequencies\n",
    "    total_adjusted_frequency = sum(adjusted_frequencies.values())\n",
    "    negative_sampling_prob_dict = {word: freq / total_adjusted_frequency for word, freq in adjusted_frequencies.items()}\n",
    "\n",
    "\n",
    "    return negative_sampling_prob_dict"
   ]
  },
  {
   "cell_type": "markdown",
   "metadata": {
    "id": "dlOtg9RCNl3K"
   },
   "source": [
    "Для удобства, преобразуем полученные словари в массивы (т.к. все слова все равно уже пронумерованы)."
   ]
  },
  {
   "cell_type": "code",
   "execution_count": 21,
   "metadata": {
    "id": "0VtQLSWsNl3L"
   },
   "outputs": [],
   "source": [
    "keep_prob_dict = subsample_frequent_words(word_count_dict)\n",
    "assert keep_prob_dict.keys() == word_count_dict.keys()"
   ]
  },
  {
   "cell_type": "code",
   "execution_count": 22,
   "metadata": {
    "id": "p4eFKSklNl3L"
   },
   "outputs": [],
   "source": [
    "negative_sampling_prob_dict = get_negative_sampling_prob(word_count_dict)\n",
    "assert negative_sampling_prob_dict.keys() == negative_sampling_prob_dict.keys()\n",
    "assert np.allclose(sum(negative_sampling_prob_dict.values()), 1)"
   ]
  },
  {
   "cell_type": "code",
   "execution_count": 23,
   "metadata": {
    "id": "Z_As6vPdNl3L"
   },
   "outputs": [],
   "source": [
    "keep_prob_array = np.array(\n",
    "    [keep_prob_dict[index_to_word[idx]] for idx in range(len(word_to_index))]\n",
    ")\n",
    "negative_sampling_prob_array = np.array(\n",
    "    [\n",
    "        negative_sampling_prob_dict[index_to_word[idx]]\n",
    "        for idx in range(len(word_to_index))\n",
    "    ]\n",
    ")"
   ]
  },
  {
   "cell_type": "markdown",
   "metadata": {
    "id": "SPTZPwJ6Nl3L"
   },
   "source": [
    "Если все прошло успешно, функция ниже поможет вам с генерацией подвыборок (батчей)."
   ]
  },
  {
   "cell_type": "code",
   "execution_count": 24,
   "metadata": {
    "id": "6Sf0Y6R3Nl3L"
   },
   "outputs": [],
   "source": [
    "def generate_batch_with_neg_samples(\n",
    "    context_pairs,\n",
    "    batch_size,\n",
    "    keep_prob_array,\n",
    "    word_to_index,\n",
    "    num_negatives,\n",
    "    negative_sampling_prob_array,\n",
    "):\n",
    "    batch = []\n",
    "    neg_samples = []\n",
    "\n",
    "    while len(batch) < batch_size:\n",
    "        center, context = random.choice(context_pairs)\n",
    "        if random.random() < keep_prob_array[center]:\n",
    "            batch.append((center, context))\n",
    "            neg_sample = np.random.choice(\n",
    "                range(len(negative_sampling_prob_array)),\n",
    "                size=num_negatives,\n",
    "                p=negative_sampling_prob_array,\n",
    "            )\n",
    "            neg_samples.append(neg_sample)\n",
    "    batch = np.array(batch)\n",
    "    neg_samples = np.vstack(neg_samples)\n",
    "    return batch, neg_samples"
   ]
  },
  {
   "cell_type": "code",
   "execution_count": 25,
   "metadata": {
    "id": "YTGIswhENl3M"
   },
   "outputs": [],
   "source": [
    "batch_size = 4\n",
    "num_negatives = 15\n",
    "batch, neg_samples = generate_batch_with_neg_samples(\n",
    "    context_pairs,\n",
    "    batch_size,\n",
    "    keep_prob_array,\n",
    "    word_to_index,\n",
    "    num_negatives,\n",
    "    negative_sampling_prob_array,\n",
    ")"
   ]
  },
  {
   "cell_type": "markdown",
   "metadata": {
    "id": "ajD2UmXfNl3M"
   },
   "source": [
    "Наконец, время реализовать модель. Обращаем ваше внимание, использование линейных слоев (`nn.Linear`) далеко не всегда оправданно!\n",
    "\n",
    "Напомним, что в случае negative sampling решается задача максимизации следующего функционала:\n",
    "\n",
    "$$\n",
    "\\mathcal{L} = \\log \\sigma({\\mathbf{v}'_{w_O}}^\\top \\mathbf{v}_{w_I}) + \\sum_{i=1}^{k} \\mathbb{E}_{w_i \\sim P_n(w)} \\left[ \\log \\sigma({-\\mathbf{v}'_{w_i}}^\\top \\mathbf{v}_{w_I}) \\right],\n",
    "$$\n",
    "\n",
    "где:\n",
    "- $\\mathbf{v}_{w_I}$ – вектор центрального слова $w_I$,\n",
    "- $\\mathbf{v}'_{w_O}$ – вектор слова из контекста $w_O$,\n",
    "- $k$ – число negative samplesЮ,\n",
    "- $P_n(w)$ – распределение negative samples, заданное выше,\n",
    "- $\\sigma$ – сигмоида."
   ]
  },
  {
   "cell_type": "code",
   "execution_count": 43,
   "metadata": {
    "id": "B-K5qC2DNl3M"
   },
   "outputs": [],
   "source": [
    "class SkipGramModelWithNegSampling(nn.Module):\n",
    "    def __init__(self, vocab_size, embedding_dim):\n",
    "        super().__init__()\n",
    "        # Initialize the embedding layers\n",
    "        self.center_embeddings = nn.Embedding(vocab_size, embedding_dim)\n",
    "        self.context_embeddings = nn.Embedding(vocab_size, embedding_dim)\n",
    "\n",
    "    def forward(self, center_words, pos_context_words, neg_context_words):\n",
    "        # Get the embeddings for the center words\n",
    "        center_embeds = self.center_embeddings(center_words)\n",
    "        \n",
    "        # Get the embeddings for the positive context words\n",
    "        pos_context_embeds = self.context_embeddings(pos_context_words)\n",
    "        \n",
    "        # Calculate positive scores\n",
    "        pos_scores = torch.sum(center_embeds * pos_context_embeds, dim=1)\n",
    "        \n",
    "        # Get the embeddings for the negative context words\n",
    "        neg_context_embeds = self.context_embeddings(neg_context_words)\n",
    "        \n",
    "        # Calculate negative scores\n",
    "        neg_scores = torch.bmm(neg_context_embeds, center_embeds.unsqueeze(2)).squeeze()\n",
    "        \n",
    "        return pos_scores, neg_scores"
   ]
  },
  {
   "cell_type": "code",
   "execution_count": 44,
   "metadata": {
    "id": "CYisUxJnNl3N"
   },
   "outputs": [],
   "source": [
    "device = torch.device(\"cpu\")"
   ]
  },
  {
   "cell_type": "code",
   "execution_count": 45,
   "metadata": {
    "id": "Tn98QaCdNl3N"
   },
   "outputs": [],
   "source": [
    "vocab_size = len(word_to_index)\n",
    "embedding_dim = 32\n",
    "num_negatives = 15\n",
    "\n",
    "model = SkipGramModelWithNegSampling(vocab_size, embedding_dim).to(device)\n",
    "optimizer = optim.Adam(model.parameters(), lr=0.05)\n",
    "lr_scheduler = ReduceLROnPlateau(optimizer, factor=0.5, patience=150)\n",
    "criterion = nn.BCEWithLogitsLoss()"
   ]
  },
  {
   "cell_type": "code",
   "execution_count": 46,
   "metadata": {
    "id": "hkmdPlq1Nl3N"
   },
   "outputs": [],
   "source": [
    "params_counter = 0\n",
    "for weights in model.parameters():\n",
    "    params_counter += weights.shape.numel()\n",
    "assert params_counter == len(word_to_index) * embedding_dim * 2"
   ]
  },
  {
   "cell_type": "code",
   "execution_count": 47,
   "metadata": {
    "id": "Ss0tkLv5Nl3O"
   },
   "outputs": [],
   "source": [
    "def train_skipgram_with_neg_sampling(\n",
    "    model,\n",
    "    context_pairs,\n",
    "    keep_prob_array,\n",
    "    word_to_index,\n",
    "    batch_size,\n",
    "    num_negatives,\n",
    "    negative_sampling_prob_array,\n",
    "    steps,\n",
    "    optimizer=optimizer,\n",
    "    lr_scheduler=lr_scheduler,\n",
    "    device=device,\n",
    "):\n",
    "    pos_labels = torch.ones(batch_size).to(device)\n",
    "    neg_labels = torch.zeros(batch_size, num_negatives).to(device)\n",
    "    loss_history = []\n",
    "    for step in tqdma(range(steps)):\n",
    "        batch, neg_samples = generate_batch_with_neg_samples(\n",
    "            context_pairs,\n",
    "            batch_size,\n",
    "            keep_prob_array,\n",
    "            word_to_index,\n",
    "            num_negatives,\n",
    "            negative_sampling_prob_array,\n",
    "        )\n",
    "        center_words = torch.tensor([pair[0] for pair in batch], dtype=torch.long).to(\n",
    "            device\n",
    "        )\n",
    "        pos_context_words = torch.tensor(\n",
    "            [pair[1] for pair in batch], dtype=torch.long\n",
    "        ).to(device)\n",
    "        neg_context_words = torch.tensor(neg_samples, dtype=torch.long).to(device)\n",
    "\n",
    "        optimizer.zero_grad()\n",
    "        pos_scores, neg_scores = model(\n",
    "            center_words, pos_context_words, neg_context_words\n",
    "        )\n",
    "\n",
    "        loss_pos = criterion(pos_scores, pos_labels)\n",
    "        loss_neg = criterion(neg_scores, neg_labels)\n",
    "\n",
    "        loss = loss_pos + loss_neg\n",
    "        loss.backward()\n",
    "        optimizer.step()\n",
    "\n",
    "        loss_history.append(loss.item())\n",
    "        lr_scheduler.step(loss_history[-1])\n",
    "\n",
    "        if step % 100 == 0:\n",
    "            print(\n",
    "                f\"Step {step}, Loss: {np.mean(loss_history[-100:])}, learning rate: {lr_scheduler._last_lr}\"\n",
    "            )"
   ]
  },
  {
   "cell_type": "code",
   "execution_count": 48,
   "metadata": {
    "id": "81Igcf4kNl3O"
   },
   "outputs": [
    {
     "name": "stderr",
     "output_type": "stream",
     "text": [
      "  0%|          | 0/2500 [00:00<?, ?it/s]"
     ]
    },
    {
     "name": "stderr",
     "output_type": "stream",
     "text": [
      "  0%|          | 1/2500 [00:02<1:47:10,  2.57s/it]"
     ]
    },
    {
     "name": "stdout",
     "output_type": "stream",
     "text": [
      "Step 0, Loss: 4.902479648590088, learning rate: [0.05]\n"
     ]
    },
    {
     "name": "stderr",
     "output_type": "stream",
     "text": [
      "  4%|▍         | 101/2500 [03:35<1:24:13,  2.11s/it]"
     ]
    },
    {
     "name": "stdout",
     "output_type": "stream",
     "text": [
      "Step 100, Loss: 2.8261939477920532, learning rate: [0.05]\n"
     ]
    },
    {
     "name": "stderr",
     "output_type": "stream",
     "text": [
      "  8%|▊         | 201/2500 [07:07<1:20:27,  2.10s/it]"
     ]
    },
    {
     "name": "stdout",
     "output_type": "stream",
     "text": [
      "Step 200, Loss: 1.9668841195106506, learning rate: [0.05]\n"
     ]
    },
    {
     "name": "stderr",
     "output_type": "stream",
     "text": [
      " 12%|█▏        | 301/2500 [10:38<1:16:24,  2.08s/it]"
     ]
    },
    {
     "name": "stdout",
     "output_type": "stream",
     "text": [
      "Step 300, Loss: 1.8073722994327546, learning rate: [0.05]\n"
     ]
    },
    {
     "name": "stderr",
     "output_type": "stream",
     "text": [
      " 16%|█▌        | 401/2500 [14:08<1:13:42,  2.11s/it]"
     ]
    },
    {
     "name": "stdout",
     "output_type": "stream",
     "text": [
      "Step 400, Loss: 1.7485730242729187, learning rate: [0.05]\n"
     ]
    },
    {
     "name": "stderr",
     "output_type": "stream",
     "text": [
      " 20%|██        | 501/2500 [17:47<1:12:59,  2.19s/it]"
     ]
    },
    {
     "name": "stdout",
     "output_type": "stream",
     "text": [
      "Step 500, Loss: 1.740952204465866, learning rate: [0.05]\n"
     ]
    },
    {
     "name": "stderr",
     "output_type": "stream",
     "text": [
      " 24%|██▍       | 601/2500 [21:27<1:09:28,  2.20s/it]"
     ]
    },
    {
     "name": "stdout",
     "output_type": "stream",
     "text": [
      "Step 600, Loss: 1.7436968779563904, learning rate: [0.05]\n"
     ]
    },
    {
     "name": "stderr",
     "output_type": "stream",
     "text": [
      " 28%|██▊       | 701/2500 [25:06<1:05:52,  2.20s/it]"
     ]
    },
    {
     "name": "stdout",
     "output_type": "stream",
     "text": [
      "Step 700, Loss: 1.7388209474086762, learning rate: [0.025]\n"
     ]
    },
    {
     "name": "stderr",
     "output_type": "stream",
     "text": [
      " 32%|███▏      | 801/2500 [28:46<1:02:03,  2.19s/it]"
     ]
    },
    {
     "name": "stdout",
     "output_type": "stream",
     "text": [
      "Step 800, Loss: 1.6620480370521546, learning rate: [0.025]\n"
     ]
    },
    {
     "name": "stderr",
     "output_type": "stream",
     "text": [
      " 36%|███▌      | 901/2500 [32:26<58:14,  2.19s/it]  "
     ]
    },
    {
     "name": "stdout",
     "output_type": "stream",
     "text": [
      "Step 900, Loss: 1.6292895185947418, learning rate: [0.025]\n"
     ]
    },
    {
     "name": "stderr",
     "output_type": "stream",
     "text": [
      " 40%|████      | 1001/2500 [36:05<54:29,  2.18s/it]"
     ]
    },
    {
     "name": "stdout",
     "output_type": "stream",
     "text": [
      "Step 1000, Loss: 1.6044743430614472, learning rate: [0.025]\n"
     ]
    },
    {
     "name": "stderr",
     "output_type": "stream",
     "text": [
      " 44%|████▍     | 1101/2500 [39:44<50:59,  2.19s/it]"
     ]
    },
    {
     "name": "stdout",
     "output_type": "stream",
     "text": [
      "Step 1100, Loss: 1.5878677082061767, learning rate: [0.025]\n"
     ]
    },
    {
     "name": "stderr",
     "output_type": "stream",
     "text": [
      " 48%|████▊     | 1201/2500 [43:23<47:20,  2.19s/it]"
     ]
    },
    {
     "name": "stdout",
     "output_type": "stream",
     "text": [
      "Step 1200, Loss: 1.5696332597732543, learning rate: [0.0125]\n"
     ]
    },
    {
     "name": "stderr",
     "output_type": "stream",
     "text": [
      " 52%|█████▏    | 1301/2500 [47:03<44:10,  2.21s/it]"
     ]
    },
    {
     "name": "stdout",
     "output_type": "stream",
     "text": [
      "Step 1300, Loss: 1.5400527822971344, learning rate: [0.0125]\n"
     ]
    },
    {
     "name": "stderr",
     "output_type": "stream",
     "text": [
      " 56%|█████▌    | 1401/2500 [50:42<39:58,  2.18s/it]"
     ]
    },
    {
     "name": "stdout",
     "output_type": "stream",
     "text": [
      "Step 1400, Loss: 1.5290797603130342, learning rate: [0.00625]\n"
     ]
    },
    {
     "name": "stderr",
     "output_type": "stream",
     "text": [
      " 60%|██████    | 1501/2500 [54:21<36:23,  2.19s/it]"
     ]
    },
    {
     "name": "stdout",
     "output_type": "stream",
     "text": [
      "Step 1500, Loss: 1.5079099249839782, learning rate: [0.00625]\n"
     ]
    },
    {
     "name": "stderr",
     "output_type": "stream",
     "text": [
      " 64%|██████▍   | 1601/2500 [58:00<32:45,  2.19s/it]"
     ]
    },
    {
     "name": "stdout",
     "output_type": "stream",
     "text": [
      "Step 1600, Loss: 1.4936948716640472, learning rate: [0.00625]\n"
     ]
    },
    {
     "name": "stderr",
     "output_type": "stream",
     "text": [
      " 68%|██████▊   | 1701/2500 [1:01:42<31:01,  2.33s/it]"
     ]
    },
    {
     "name": "stdout",
     "output_type": "stream",
     "text": [
      "Step 1700, Loss: 1.4826807951927186, learning rate: [0.003125]\n"
     ]
    },
    {
     "name": "stderr",
     "output_type": "stream",
     "text": [
      " 72%|███████▏  | 1801/2500 [1:05:26<25:53,  2.22s/it]"
     ]
    },
    {
     "name": "stdout",
     "output_type": "stream",
     "text": [
      "Step 1800, Loss: 1.4834973907470703, learning rate: [0.0015625]\n"
     ]
    },
    {
     "name": "stderr",
     "output_type": "stream",
     "text": [
      " 76%|███████▌  | 1901/2500 [1:09:08<22:08,  2.22s/it]"
     ]
    },
    {
     "name": "stdout",
     "output_type": "stream",
     "text": [
      "Step 1900, Loss: 1.4698597252368928, learning rate: [0.0015625]\n"
     ]
    },
    {
     "name": "stderr",
     "output_type": "stream",
     "text": [
      " 80%|████████  | 2001/2500 [1:12:51<18:37,  2.24s/it]"
     ]
    },
    {
     "name": "stdout",
     "output_type": "stream",
     "text": [
      "Step 2000, Loss: 1.4793601274490356, learning rate: [0.00078125]\n"
     ]
    },
    {
     "name": "stderr",
     "output_type": "stream",
     "text": [
      " 84%|████████▍ | 2101/2500 [1:16:34<14:45,  2.22s/it]"
     ]
    },
    {
     "name": "stdout",
     "output_type": "stream",
     "text": [
      "Step 2100, Loss: 1.471222492456436, learning rate: [0.000390625]\n"
     ]
    },
    {
     "name": "stderr",
     "output_type": "stream",
     "text": [
      " 88%|████████▊ | 2201/2500 [1:20:15<11:01,  2.21s/it]"
     ]
    },
    {
     "name": "stdout",
     "output_type": "stream",
     "text": [
      "Step 2200, Loss: 1.4646042776107788, learning rate: [0.000390625]\n"
     ]
    },
    {
     "name": "stderr",
     "output_type": "stream",
     "text": [
      " 92%|█████████▏| 2301/2500 [1:23:57<07:31,  2.27s/it]"
     ]
    },
    {
     "name": "stdout",
     "output_type": "stream",
     "text": [
      "Step 2300, Loss: 1.4597335505485534, learning rate: [0.0001953125]\n"
     ]
    },
    {
     "name": "stderr",
     "output_type": "stream",
     "text": [
      " 96%|█████████▌| 2401/2500 [1:27:39<03:39,  2.22s/it]"
     ]
    },
    {
     "name": "stdout",
     "output_type": "stream",
     "text": [
      "Step 2400, Loss: 1.4699453175067902, learning rate: [0.0001953125]\n"
     ]
    },
    {
     "name": "stderr",
     "output_type": "stream",
     "text": [
      "100%|██████████| 2500/2500 [1:31:18<00:00,  2.19s/it]\n"
     ]
    }
   ],
   "source": [
    "steps = 2500\n",
    "batch_size = 512\n",
    "train_skipgram_with_neg_sampling(\n",
    "    model,\n",
    "    context_pairs,\n",
    "    keep_prob_array,\n",
    "    word_to_index,\n",
    "    batch_size,\n",
    "    num_negatives,\n",
    "    negative_sampling_prob_array,\n",
    "    steps,\n",
    ")"
   ]
  },
  {
   "cell_type": "markdown",
   "metadata": {
    "id": "HrlpGT6mNl3O"
   },
   "source": [
    "Наконец, используйте полученную матрицу весов в качестве матрицы в векторными представлениями слов. Рекомендуем использовать для сдачи матрицу, которая отвечала за слова из контекста (т.е. декодера)."
   ]
  },
  {
   "cell_type": "code",
   "execution_count": 49,
   "metadata": {
    "id": "sHGfXgx8Nl3P"
   },
   "outputs": [],
   "source": [
    "_model_parameters = model.parameters()\n",
    "embedding_matrix_center = next(\n",
    "    _model_parameters\n",
    ").detach()  # Assuming that first matrix was for central word\n",
    "embedding_matrix_context = next(\n",
    "    _model_parameters\n",
    ").detach()  # Assuming that second matrix was for context word"
   ]
  },
  {
   "cell_type": "code",
   "execution_count": 50,
   "metadata": {
    "id": "zzjravwNNl3P"
   },
   "outputs": [],
   "source": [
    "def get_word_vector(word, embedding_matrix, word_to_index=word_to_index):\n",
    "    return embedding_matrix[word_to_index[word]]"
   ]
  },
  {
   "cell_type": "markdown",
   "metadata": {
    "id": "SBSHrm-LNl3P"
   },
   "source": [
    "Простые проверки:"
   ]
  },
  {
   "cell_type": "code",
   "execution_count": 51,
   "metadata": {
    "id": "adUMUuqwNl3W"
   },
   "outputs": [],
   "source": [
    "similarity_1 = F.cosine_similarity(\n",
    "    get_word_vector(\"iphone\", embedding_matrix_context)[None, :],\n",
    "    get_word_vector(\"apple\", embedding_matrix_context)[None, :],\n",
    ")\n",
    "similarity_2 = F.cosine_similarity(\n",
    "    get_word_vector(\"iphone\", embedding_matrix_context)[None, :],\n",
    "    get_word_vector(\"dell\", embedding_matrix_context)[None, :],\n",
    ")\n",
    "assert similarity_1 > similarity_2"
   ]
  },
  {
   "cell_type": "code",
   "execution_count": 52,
   "metadata": {
    "id": "-Cq5HtfONl3W"
   },
   "outputs": [],
   "source": [
    "similarity_1 = F.cosine_similarity(\n",
    "    get_word_vector(\"windows\", embedding_matrix_context)[None, :],\n",
    "    get_word_vector(\"laptop\", embedding_matrix_context)[None, :],\n",
    ")\n",
    "similarity_2 = F.cosine_similarity(\n",
    "    get_word_vector(\"windows\", embedding_matrix_context)[None, :],\n",
    "    get_word_vector(\"macbook\", embedding_matrix_context)[None, :],\n",
    ")\n",
    "assert similarity_1 > similarity_2"
   ]
  },
  {
   "cell_type": "markdown",
   "metadata": {
    "id": "Oq7P9EweNl3W"
   },
   "source": [
    "Наконец, взглянем на ближайшие по косинусной мере слова. Функция реализована ниже."
   ]
  },
  {
   "cell_type": "code",
   "execution_count": 53,
   "metadata": {
    "id": "dA0V6rOYtsLk"
   },
   "outputs": [],
   "source": [
    "def find_nearest(word, embedding_matrix, word_to_index=word_to_index, k=10):\n",
    "    word_vector = get_word_vector(word, embedding_matrix)[None, :]\n",
    "    dists = F.cosine_similarity(embedding_matrix, word_vector)\n",
    "    index_sorted = torch.argsort(dists)\n",
    "    top_k = index_sorted[-k:]\n",
    "    return [(index_to_word[x], dists[x].item()) for x in top_k.numpy()]"
   ]
  },
  {
   "cell_type": "code",
   "execution_count": 54,
   "metadata": {
    "id": "McZgqnxiNl3X"
   },
   "outputs": [
    {
     "data": {
      "text/plain": [
       "[('tailbone', 0.5869908332824707),\n",
       " ('expats', 0.5888866186141968),\n",
       " ('budapest', 0.5965152978897095),\n",
       " ('rusty', 0.5993348956108093),\n",
       " ('sanding', 0.6034250259399414),\n",
       " ('weaving', 0.6273056864738464),\n",
       " ('cosmetic', 0.6416147947311401),\n",
       " ('math', 0.6438966989517212),\n",
       " ('ms2', 0.674453616142273),\n",
       " ('python', 0.9999998807907104)]"
      ]
     },
     "execution_count": 54,
     "metadata": {},
     "output_type": "execute_result"
    }
   ],
   "source": [
    "find_nearest(\"python\", embedding_matrix_context, k=10)"
   ]
  },
  {
   "cell_type": "markdown",
   "metadata": {
    "id": "WmrZD9eHNl3X"
   },
   "source": [
    "Также вы можете визуально проверить, как представлены в латентном пространстве часто встречающиеся слова."
   ]
  },
  {
   "cell_type": "code",
   "execution_count": 55,
   "metadata": {
    "id": "d9cLLD5fNl3Y"
   },
   "outputs": [],
   "source": [
    "top_k = 5000\n",
    "_top_words = sorted([x for x in word_count_dict.items()], key=lambda x: x[1])[\n",
    "    -top_k - 100 : -100\n",
    "]  # ignoring 100 most frequent words\n",
    "top_words = [x[0] for x in _top_words]\n",
    "del _top_words"
   ]
  },
  {
   "cell_type": "code",
   "execution_count": 56,
   "metadata": {
    "id": "xx-vsNVFNl3Y"
   },
   "outputs": [],
   "source": [
    "word_embeddings = torch.cat(\n",
    "    [embedding_matrix_context[word_to_index[x]][None, :] for x in top_words], dim=0\n",
    ").numpy()"
   ]
  },
  {
   "cell_type": "code",
   "execution_count": 57,
   "metadata": {
    "id": "1GLPyZ4nNl3Y"
   },
   "outputs": [
    {
     "data": {
      "text/html": [
       "    <style>\n",
       "        .bk-notebook-logo {\n",
       "            display: block;\n",
       "            width: 20px;\n",
       "            height: 20px;\n",
       "            background-image: url(data:image/png;base64,iVBORw0KGgoAAAANSUhEUgAAABQAAAAUCAYAAACNiR0NAAAABHNCSVQICAgIfAhkiAAAAAlwSFlzAAALEgAACxIB0t1+/AAAABx0RVh0U29mdHdhcmUAQWRvYmUgRmlyZXdvcmtzIENTNui8sowAAAOkSURBVDiNjZRtaJVlGMd/1/08zzln5zjP1LWcU9N0NkN8m2CYjpgQYQXqSs0I84OLIC0hkEKoPtiH3gmKoiJDU7QpLgoLjLIQCpEsNJ1vqUOdO7ppbuec5+V+rj4ctwzd8IIbbi6u+8f1539dt3A78eXC7QizUF7gyV1fD1Yqg4JWz84yffhm0qkFqBogB9rM8tZdtwVsPUhWhGcFJngGeWrPzHm5oaMmkfEg1usvLFyc8jLRqDOMru7AyC8saQr7GG7f5fvDeH7Ej8CM66nIF+8yngt6HWaKh7k49Soy9nXurCi1o3qUbS3zWfrYeQDTB/Qj6kX6Ybhw4B+bOYoLKCC9H3Nu/leUTZ1JdRWkkn2ldcCamzrcf47KKXdAJllSlxAOkRgyHsGC/zRday5Qld9DyoM4/q/rUoy/CXh3jzOu3bHUVZeU+DEn8FInkPBFlu3+nW3Nw0mk6vCDiWg8CeJaxEwuHS3+z5RgY+YBR6V1Z1nxSOfoaPa4LASWxxdNp+VWTk7+4vzaou8v8PN+xo+KY2xsw6une2frhw05CTYOmQvsEhjhWjn0bmXPjpE1+kplmmkP3suftwTubK9Vq22qKmrBhpY4jvd5afdRA3wGjFAgcnTK2s4hY0/GPNIb0nErGMCRxWOOX64Z8RAC4oCXdklmEvcL8o0BfkNK4lUg9HTl+oPlQxdNo3Mg4Nv175e/1LDGzZen30MEjRUtmXSfiTVu1kK8W4txyV6BMKlbgk3lMwYCiusNy9fVfvvwMxv8Ynl6vxoByANLTWplvuj/nF9m2+PDtt1eiHPBr1oIfhCChQMBw6Aw0UulqTKZdfVvfG7VcfIqLG9bcldL/+pdWTLxLUy8Qq38heUIjh4XlzZxzQm19lLFlr8vdQ97rjZVOLf8nclzckbcD4wxXMidpX30sFd37Fv/GtwwhzhxGVAprjbg0gCAEeIgwCZyTV2Z1REEW8O4py0wsjeloKoMr6iCY6dP92H6Vw/oTyICIthibxjm/DfN9lVz8IqtqKYLUXfoKVMVQVVJOElGjrnnUt9T9wbgp8AyYKaGlqingHZU/uG2NTZSVqwHQTWkx9hxjkpWDaCg6Ckj5qebgBVbT3V3NNXMSiWSDdGV3hrtzla7J+duwPOToIg42ChPQOQjspnSlp1V+Gjdged7+8UN5CRAV7a5EdFNwCjEaBR27b3W890TE7g24NAP/mMDXRWrGoFPQI9ls/MWO2dWFAar/xcOIImbbpA3zgAAAABJRU5ErkJggg==);\n",
       "        }\n",
       "    </style>\n",
       "    <div>\n",
       "        <a href=\"https://bokeh.org\" target=\"_blank\" class=\"bk-notebook-logo\"></a>\n",
       "        <span id=\"a76fcb23-816c-4137-88d3-753b2d1ae7c3\">Loading BokehJS ...</span>\n",
       "    </div>\n"
      ]
     },
     "metadata": {},
     "output_type": "display_data"
    },
    {
     "data": {
      "application/javascript": "'use strict';\n(function(root) {\n  function now() {\n    return new Date();\n  }\n\n  const force = true;\n\n  if (typeof root._bokeh_onload_callbacks === \"undefined\" || force === true) {\n    root._bokeh_onload_callbacks = [];\n    root._bokeh_is_loading = undefined;\n  }\n\nconst JS_MIME_TYPE = 'application/javascript';\n  const HTML_MIME_TYPE = 'text/html';\n  const EXEC_MIME_TYPE = 'application/vnd.bokehjs_exec.v0+json';\n  const CLASS_NAME = 'output_bokeh rendered_html';\n\n  /**\n   * Render data to the DOM node\n   */\n  function render(props, node) {\n    const script = document.createElement(\"script\");\n    node.appendChild(script);\n  }\n\n  /**\n   * Handle when an output is cleared or removed\n   */\n  function handleClearOutput(event, handle) {\n    function drop(id) {\n      const view = Bokeh.index.get_by_id(id)\n      if (view != null) {\n        view.model.document.clear()\n        Bokeh.index.delete(view)\n      }\n    }\n\n    const cell = handle.cell;\n\n    const id = cell.output_area._bokeh_element_id;\n    const server_id = cell.output_area._bokeh_server_id;\n\n    // Clean up Bokeh references\n    if (id != null) {\n      drop(id)\n    }\n\n    if (server_id !== undefined) {\n      // Clean up Bokeh references\n      const cmd_clean = \"from bokeh.io.state import curstate; print(curstate().uuid_to_server['\" + server_id + \"'].get_sessions()[0].document.roots[0]._id)\";\n      cell.notebook.kernel.execute(cmd_clean, {\n        iopub: {\n          output: function(msg) {\n            const id = msg.content.text.trim()\n            drop(id)\n          }\n        }\n      });\n      // Destroy server and session\n      const cmd_destroy = \"import bokeh.io.notebook as ion; ion.destroy_server('\" + server_id + \"')\";\n      cell.notebook.kernel.execute(cmd_destroy);\n    }\n  }\n\n  /**\n   * Handle when a new output is added\n   */\n  function handleAddOutput(event, handle) {\n    const output_area = handle.output_area;\n    const output = handle.output;\n\n    // limit handleAddOutput to display_data with EXEC_MIME_TYPE content only\n    if ((output.output_type != \"display_data\") || (!Object.prototype.hasOwnProperty.call(output.data, EXEC_MIME_TYPE))) {\n      return\n    }\n\n    const toinsert = output_area.element.find(\".\" + CLASS_NAME.split(' ')[0]);\n\n    if (output.metadata[EXEC_MIME_TYPE][\"id\"] !== undefined) {\n      toinsert[toinsert.length - 1].firstChild.textContent = output.data[JS_MIME_TYPE];\n      // store reference to embed id on output_area\n      output_area._bokeh_element_id = output.metadata[EXEC_MIME_TYPE][\"id\"];\n    }\n    if (output.metadata[EXEC_MIME_TYPE][\"server_id\"] !== undefined) {\n      const bk_div = document.createElement(\"div\");\n      bk_div.innerHTML = output.data[HTML_MIME_TYPE];\n      const script_attrs = bk_div.children[0].attributes;\n      for (let i = 0; i < script_attrs.length; i++) {\n        toinsert[toinsert.length - 1].firstChild.setAttribute(script_attrs[i].name, script_attrs[i].value);\n        toinsert[toinsert.length - 1].firstChild.textContent = bk_div.children[0].textContent\n      }\n      // store reference to server id on output_area\n      output_area._bokeh_server_id = output.metadata[EXEC_MIME_TYPE][\"server_id\"];\n    }\n  }\n\n  function register_renderer(events, OutputArea) {\n\n    function append_mime(data, metadata, element) {\n      // create a DOM node to render to\n      const toinsert = this.create_output_subarea(\n        metadata,\n        CLASS_NAME,\n        EXEC_MIME_TYPE\n      );\n      this.keyboard_manager.register_events(toinsert);\n      // Render to node\n      const props = {data: data, metadata: metadata[EXEC_MIME_TYPE]};\n      render(props, toinsert[toinsert.length - 1]);\n      element.append(toinsert);\n      return toinsert\n    }\n\n    /* Handle when an output is cleared or removed */\n    events.on('clear_output.CodeCell', handleClearOutput);\n    events.on('delete.Cell', handleClearOutput);\n\n    /* Handle when a new output is added */\n    events.on('output_added.OutputArea', handleAddOutput);\n\n    /**\n     * Register the mime type and append_mime function with output_area\n     */\n    OutputArea.prototype.register_mime_type(EXEC_MIME_TYPE, append_mime, {\n      /* Is output safe? */\n      safe: true,\n      /* Index of renderer in `output_area.display_order` */\n      index: 0\n    });\n  }\n\n  // register the mime type if in Jupyter Notebook environment and previously unregistered\n  if (root.Jupyter !== undefined) {\n    const events = require('base/js/events');\n    const OutputArea = require('notebook/js/outputarea').OutputArea;\n\n    if (OutputArea.prototype.mime_types().indexOf(EXEC_MIME_TYPE) == -1) {\n      register_renderer(events, OutputArea);\n    }\n  }\n  if (typeof (root._bokeh_timeout) === \"undefined\" || force === true) {\n    root._bokeh_timeout = Date.now() + 5000;\n    root._bokeh_failed_load = false;\n  }\n\n  const NB_LOAD_WARNING = {'data': {'text/html':\n     \"<div style='background-color: #fdd'>\\n\"+\n     \"<p>\\n\"+\n     \"BokehJS does not appear to have successfully loaded. If loading BokehJS from CDN, this \\n\"+\n     \"may be due to a slow or bad network connection. Possible fixes:\\n\"+\n     \"</p>\\n\"+\n     \"<ul>\\n\"+\n     \"<li>re-rerun `output_notebook()` to attempt to load from CDN again, or</li>\\n\"+\n     \"<li>use INLINE resources instead, as so:</li>\\n\"+\n     \"</ul>\\n\"+\n     \"<code>\\n\"+\n     \"from bokeh.resources import INLINE\\n\"+\n     \"output_notebook(resources=INLINE)\\n\"+\n     \"</code>\\n\"+\n     \"</div>\"}};\n\n  function display_loaded(error = null) {\n    const el = document.getElementById(\"a76fcb23-816c-4137-88d3-753b2d1ae7c3\");\n    if (el != null) {\n      const html = (() => {\n        if (typeof root.Bokeh === \"undefined\") {\n          if (error == null) {\n            return \"BokehJS is loading ...\";\n          } else {\n            return \"BokehJS failed to load.\";\n          }\n        } else {\n          const prefix = `BokehJS ${root.Bokeh.version}`;\n          if (error == null) {\n            return `${prefix} successfully loaded.`;\n          } else {\n            return `${prefix} <b>encountered errors</b> while loading and may not function as expected.`;\n          }\n        }\n      })();\n      el.innerHTML = html;\n\n      if (error != null) {\n        const wrapper = document.createElement(\"div\");\n        wrapper.style.overflow = \"auto\";\n        wrapper.style.height = \"5em\";\n        wrapper.style.resize = \"vertical\";\n        const content = document.createElement(\"div\");\n        content.style.fontFamily = \"monospace\";\n        content.style.whiteSpace = \"pre-wrap\";\n        content.style.backgroundColor = \"rgb(255, 221, 221)\";\n        content.textContent = error.stack ?? error.toString();\n        wrapper.append(content);\n        el.append(wrapper);\n      }\n    } else if (Date.now() < root._bokeh_timeout) {\n      setTimeout(() => display_loaded(error), 100);\n    }\n  }\n\n  function run_callbacks() {\n    try {\n      root._bokeh_onload_callbacks.forEach(function(callback) {\n        if (callback != null)\n          callback();\n      });\n    } finally {\n      delete root._bokeh_onload_callbacks\n    }\n    console.debug(\"Bokeh: all callbacks have finished\");\n  }\n\n  function load_libs(css_urls, js_urls, callback) {\n    if (css_urls == null) css_urls = [];\n    if (js_urls == null) js_urls = [];\n\n    root._bokeh_onload_callbacks.push(callback);\n    if (root._bokeh_is_loading > 0) {\n      console.debug(\"Bokeh: BokehJS is being loaded, scheduling callback at\", now());\n      return null;\n    }\n    if (js_urls == null || js_urls.length === 0) {\n      run_callbacks();\n      return null;\n    }\n    console.debug(\"Bokeh: BokehJS not loaded, scheduling load and callback at\", now());\n    root._bokeh_is_loading = css_urls.length + js_urls.length;\n\n    function on_load() {\n      root._bokeh_is_loading--;\n      if (root._bokeh_is_loading === 0) {\n        console.debug(\"Bokeh: all BokehJS libraries/stylesheets loaded\");\n        run_callbacks()\n      }\n    }\n\n    function on_error(url) {\n      console.error(\"failed to load \" + url);\n    }\n\n    for (let i = 0; i < css_urls.length; i++) {\n      const url = css_urls[i];\n      const element = document.createElement(\"link\");\n      element.onload = on_load;\n      element.onerror = on_error.bind(null, url);\n      element.rel = \"stylesheet\";\n      element.type = \"text/css\";\n      element.href = url;\n      console.debug(\"Bokeh: injecting link tag for BokehJS stylesheet: \", url);\n      document.body.appendChild(element);\n    }\n\n    for (let i = 0; i < js_urls.length; i++) {\n      const url = js_urls[i];\n      const element = document.createElement('script');\n      element.onload = on_load;\n      element.onerror = on_error.bind(null, url);\n      element.async = false;\n      element.src = url;\n      console.debug(\"Bokeh: injecting script tag for BokehJS library: \", url);\n      document.head.appendChild(element);\n    }\n  };\n\n  function inject_raw_css(css) {\n    const element = document.createElement(\"style\");\n    element.appendChild(document.createTextNode(css));\n    document.body.appendChild(element);\n  }\n\n  const js_urls = [\"https://cdn.bokeh.org/bokeh/release/bokeh-3.6.0.min.js\", \"https://cdn.bokeh.org/bokeh/release/bokeh-gl-3.6.0.min.js\", \"https://cdn.bokeh.org/bokeh/release/bokeh-widgets-3.6.0.min.js\", \"https://cdn.bokeh.org/bokeh/release/bokeh-tables-3.6.0.min.js\", \"https://cdn.bokeh.org/bokeh/release/bokeh-mathjax-3.6.0.min.js\"];\n  const css_urls = [];\n\n  const inline_js = [    function(Bokeh) {\n      Bokeh.set_log_level(\"info\");\n    },\nfunction(Bokeh) {\n    }\n  ];\n\n  function run_inline_js() {\n    if (root.Bokeh !== undefined || force === true) {\n      try {\n            for (let i = 0; i < inline_js.length; i++) {\n      inline_js[i].call(root, root.Bokeh);\n    }\n\n      } catch (error) {display_loaded(error);throw error;\n      }if (force === true) {\n        display_loaded();\n      }} else if (Date.now() < root._bokeh_timeout) {\n      setTimeout(run_inline_js, 100);\n    } else if (!root._bokeh_failed_load) {\n      console.log(\"Bokeh: BokehJS failed to load within specified timeout.\");\n      root._bokeh_failed_load = true;\n    } else if (force !== true) {\n      const cell = $(document.getElementById(\"a76fcb23-816c-4137-88d3-753b2d1ae7c3\")).parents('.cell').data().cell;\n      cell.output_area.append_execute_result(NB_LOAD_WARNING)\n    }\n  }\n\n  if (root._bokeh_is_loading === 0) {\n    console.debug(\"Bokeh: BokehJS loaded, going straight to plotting\");\n    run_inline_js();\n  } else {\n    load_libs(css_urls, js_urls, function() {\n      console.debug(\"Bokeh: BokehJS plotting callback run at\", now());\n      run_inline_js();\n    });\n  }\n}(window));",
      "application/vnd.bokehjs_load.v0+json": ""
     },
     "metadata": {},
     "output_type": "display_data"
    }
   ],
   "source": [
    "import bokeh.models as bm\n",
    "import bokeh.plotting as pl\n",
    "from bokeh.io import output_notebook\n",
    "\n",
    "output_notebook()\n",
    "\n",
    "\n",
    "def draw_vectors(\n",
    "    x,\n",
    "    y,\n",
    "    radius=10,\n",
    "    alpha=0.25,\n",
    "    color=\"blue\",\n",
    "    width=600,\n",
    "    height=400,\n",
    "    show=True,\n",
    "    **kwargs,\n",
    "):\n",
    "    \"\"\"draws an interactive plot for data points with auxilirary info on hover\"\"\"\n",
    "    if isinstance(color, str):\n",
    "        color = [color] * len(x)\n",
    "    data_source = bm.ColumnDataSource({\"x\": x, \"y\": y, \"color\": color, **kwargs})\n",
    "\n",
    "    fig = pl.figure(active_scroll=\"wheel_zoom\", width=width, height=height)\n",
    "    fig.scatter(\"x\", \"y\", size=radius, color=\"color\", alpha=alpha, source=data_source)\n",
    "\n",
    "    fig.add_tools(bm.HoverTool(tooltips=[(key, \"@\" + key) for key in kwargs.keys()]))\n",
    "    if show:\n",
    "        pl.show(fig)\n",
    "    return fig"
   ]
  },
  {
   "cell_type": "code",
   "execution_count": 58,
   "metadata": {
    "id": "ByC5eZETNl3b"
   },
   "outputs": [],
   "source": [
    "embedding = umap.UMAP(n_neighbors=5).fit_transform(word_embeddings)"
   ]
  },
  {
   "cell_type": "code",
   "execution_count": 59,
   "metadata": {
    "id": "3JPQ92YONl3c"
   },
   "outputs": [
    {
     "data": {
      "text/html": [
       "\n",
       "  <div id=\"f74da55e-90fe-4439-8d23-e48ade8d51c9\" data-root-id=\"p1004\" style=\"display: contents;\"></div>\n"
      ]
     },
     "metadata": {},
     "output_type": "display_data"
    },
    {
     "data": {
      "application/javascript": "(function(root) {\n  function embed_document(root) {\n  const docs_json = {\"c091e9eb-3641-41d6-97b1-db37783d0b24\":{\"version\":\"3.6.0\",\"title\":\"Bokeh Application\",\"roots\":[{\"type\":\"object\",\"name\":\"Figure\",\"id\":\"p1004\",\"attributes\":{\"height\":400,\"x_range\":{\"type\":\"object\",\"name\":\"DataRange1d\",\"id\":\"p1005\"},\"y_range\":{\"type\":\"object\",\"name\":\"DataRange1d\",\"id\":\"p1006\"},\"x_scale\":{\"type\":\"object\",\"name\":\"LinearScale\",\"id\":\"p1013\"},\"y_scale\":{\"type\":\"object\",\"name\":\"LinearScale\",\"id\":\"p1014\"},\"title\":{\"type\":\"object\",\"name\":\"Title\",\"id\":\"p1011\"},\"renderers\":[{\"type\":\"object\",\"name\":\"GlyphRenderer\",\"id\":\"p1044\",\"attributes\":{\"data_source\":{\"type\":\"object\",\"name\":\"ColumnDataSource\",\"id\":\"p1001\",\"attributes\":{\"selected\":{\"type\":\"object\",\"name\":\"Selection\",\"id\":\"p1002\",\"attributes\":{\"indices\":[],\"line_indices\":[]}},\"selection_policy\":{\"type\":\"object\",\"name\":\"UnionRenderers\",\"id\":\"p1003\"},\"data\":{\"type\":\"map\",\"entries\":[[\"x\",{\"type\":\"ndarray\",\"array\":{\"type\":\"bytes\",\"data\":\"cAvOQLZXz0BTmBRBk36NQLvJykC5ybZAP/ASQe6kBUEp/+RAtAjAQKRi90DJcRRBWTL4QE2mqEDmC/tA6WfCQFORxUD6Se9AhQOXQNT65EAkJANBEDQVQbLX+kADOudAPVsQQREyC0Ebpb9AkKmJQGOTtUB3o9BAoCurQMZA1EA8PxVBPCihQLrFEkGAD3hANoHxQDFTGkFODRdB7cmuQFbkBUFn8n5AQEMjQWuyDEE/TPdAlR/4QKmuhkCrEQpBO8uMQKwElEAtjrZACFWTQIr0lkCWF55ACoS2QM8ro0BYDLdAZAkLQTCmAkFv6R5BpGcpQXtH40AhRAVBo/DuQLh08UAn3gRBwNezQGxADEF2TMZAGuAUQUsUAEE9u5tAvgf/QA0IoEAvm/9A4Q+aQF+Ew0BoXahAGNYKQYDemUBJKsRAVGfCQC8LFUEsDMxAXhi3QBUiG0E2JwRBxLv8QIEkIEE5msdAyGd5QGBYkUAxPyNBc1kmQTC00UASQiFBfm3NQHKUb0Bvo5pAP4/SQEJPqUDmO8dAfjWxQILhIkENWuhAXeN8QFYRpkCZJrRA/F+5QNX9sUC3zJNAn8OaQBSfzUCI9AZBSvKUQNHp90DFAg9BKF7PQFXb3kAjrgFBNJcBQWA1GUEKEhpBUOaLQLI12kDGtPlAqd6TQNwxEUHmce1APziqQLVgvEAuidpAA2MGQakx30CcZQNBPPrFQHGJHUENuRxBpLENQSt3xUA43d9A3mO+QB995EDPPfZADWhyQPM9tUAvlqhAon13QHTh8UDfr75A9Q3qQDrKsEBD3KBAqKGxQBEEu0BXTQJBHLzbQJ6wBEEOU49AV1qYQNIGo0D7xLxAKqnkQALtFEG1N/5AELYGQYkJnEBRGv9AfAC3QLM1qED5rhtBUZ7IQLftykB+lNFA42DDQPUgtUCMMRhBbYe6QGdAEUHGyuRAL/skQSPR2kBD4gFBOoOHQMHv/UDniApB4MjFQObSB0EC66lAaSGiQM/P7EDW6R1BthYjQU+JAUH12uJA6EumQLc1FUHL7sdAhCsAQS1I7kBtNsVA8R8OQQqFIkE6+4pA6YmAQI/m7EDHvtBAlYrtQBo3p0A4VARBpbaAQEaSpECGp/VAACkiQfd//UC7xMFAJYK0QBaXy0BO4etA0j2nQIEK8EDLmN1AiYHtQFlXmUCtPxFBu8W2QL/Ss0BmJ7RA3o7IQMwh20B1I6hA8Wv4QE5iKEHeqZBAEQoMQZh/6UDQdqdA/Bj+QOClgEC6wCZBcDuuQMG3IkHmqLFA9gmyQCQ5tEBg1ZRA3i6uQHGzs0AdoBxBvYbfQMTg2EAg0SBBT4byQAC7aEDoLu5AVOGHQGxylED3bulAR7IeQVhL/0C5kaFAaqjlQKvnt0BxtsJAqCkGQbLm90DBnwBBcgH7QHi2C0Em/45AJ8IKQf5rzkDnUOBAY5xfQDkGpkAqQ5NAlv17QCdf20Bcr79AHJP3QID8nUBlju1AAw32QD1l2UBFVKpA3ZCDQFl3AEHHaI1AIFm5QAEGhEAsDr1A4VDRQDNdjEDG9Q5BNWkAQaZUpkDn0ahAHwQYQfcnDEErPAlBhbqrQEWjukAT1R1B3S7YQK044UBjaaFAmioTQXNI0kDIce1AARbTQEDfF0HjsdtAL/8DQa7Tu0CLOulAnZHfQDMO5kB4l/RAzvcTQcjdnEAdkMtA/fX0QEOE0kCWk91AJJoEQTNBu0A7WgBBCAYQQcAQ70CVOcpAaS7NQBYp/kCPZQFB9hUOQRCwDkH20olABLrpQEpSw0CsZgRBbHcLQWrv9kA3LxdBHG/vQBS16UBSJaNAhPr2QMNwHkEdQp9AXD8dQRB4gEA8wvNARqbIQOm7sUCkc5VAel2YQOSD30CZYY1AIFEBQaermUAgFwtB1e4pQRtXHkEgpfVAtt0fQbRcCEERa/BAZIXYQB9EFEEnUt1Ar4mbQAICEkF1jB5BR7TBQLXiAkH7l6tAcPEBQc4OpUDHL/ZAivKiQHgfwUDiXPdA0MJ/QFuM+0B+codALxDsQC93EEHP9wJB/NiuQNYc4UDTh5dAox7pQDsc6kDIFudAe3UMQQOwC0FCJv5As5iuQP1VykDl5I9Aum0TQVtV+0AVD6dAaW4cQSiEEEGUOthAr+N3QHuIIkFlR5ZA4O2RQG8kq0CumxlBC/DaQAKz+kAihvJA/+ndQCaGq0BCKA5BHhjfQLQDgkBdMXdAmlnFQM4r2kBy1g9BgokgQVjgH0HeCHpAF4MZQSyZnkAsgLZAJe/4QOkow0DnPQhBudumQAEgC0HWcp1ANVjAQPp46UBRLMlA7eiyQA8W3UBP+g5Bfc4BQVCHvUD+YRpByJ4OQZZ+EUFJH+hAGnyQQE2bpkAfbtxAGOqMQLiInUDpS+tARszuQGCFd0A8rZVAPhzxQNIyFkGGoRtBCI+WQGMRBEH8NBBBRAOXQLOigEDOos1A2DokQSLO1ED56KVACqiuQJ7O8ED/hfZAECWPQE063kCcmPVA2qkeQRhu5UCbe/9A04F0QJ+gIkHUnKRAmkOtQEvZ5EAHgAFBgEDFQLMeCkHu9wdB5+r1QMoi2kBuDhxBD1usQCJE00D2KaVAKk/FQLlpy0AhVP9AW15uQOUID0FmbA9BB/8EQXxejEDkYptA3fLQQP197UAKIRFB1q8UQX8wjUDJb+ZAqorzQFLrrEABdfBA4OUjQTzwe0BwHw5BIEgHQU4DBEHBtu5A3zJpQGJlr0B4LRxBr+WkQIsLjkB/qBtBvY0QQYlZckChyAtBfjCsQE5unUAn3LVA9brnQAfRqUDfQrVAeWcBQUnW40B+pJBAsoUmQbJ9gEChePJA8wENQXsK+0A3xZNAx3GnQIR9hkBSeeFAjNukQJCPo0AGftdAYnnNQC1zHEEEASNBr+CeQA9z/UCTJOtAWfWfQJ6bG0GCB9ZAr1ukQPwf9kBH/qNAhq3lQK+zJEFFahRB+Q4dQearqUB1TaZAUuDkQJ1+H0EZzZhAJcCFQHmjHEFkE3NAXVjdQBXK7UCgVKhASmdyQBaiGUEm7SRBpiIDQZUeuUBn351A7wQUQYjGzECYEBNBdzUBQaFiqkA/rsBAr50JQaxzF0FuYtBAR6cdQXejt0ACNAtBrQISQbRoD0EWfBZBrn6VQANiC0ErJ/tACYsXQbnjDUFvEhNB3H77QHZJzEA0D/hAyrmbQCqpCUG+V9pAaVTIQNN+pkBjJBFB094dQbVs60DpIYFAWRr9QAs4J0FOT8lAlfXvQPDDBUGbRQpBF/GrQB5JIkEbDt9AdzXHQJWFBEF+wZpAazHyQOmsrkADc4RACZqfQLE6zkB89M9AgISpQPvzGkEabuFA5z+7QOXUC0E0PyhBvaIHQea9+0DdofBATLy0QD+3FEEwcZFAy2biQPJ6yEAqWCZBh9FoQF+WjkANaxlBpwOMQNrW2kCy2MNAuy3OQB+D2UDfipxA2/AkQQtRwEBLFv5AW3uGQBZ7yUBpYddA5+MOQZYW3kDQrAZBSIfuQDUKhUA3VsRAo1IVQRD2AUGmT8BAe4x9QImAAEFulRRB4yDiQOHtKUGK/CdB4LCSQOs6IkHv1fhAKlbcQIm/o0DnXBdBx0G8QFyXCEHuiblAUWPUQLzCwUAyf9tAPF4RQagUkUA+qaxACBIaQZtmEEHoZ3RAEjcjQSvcLEG4URZBZTjJQDcjE0Hk1A9BVaHbQADcHEE6QgRB+oWgQLI5J0GuDd1AUwrlQOg6BUHU4itBebePQFiap0DW5hlBaNmrQAMrlkAQExRBLCK0QB7dHkEdGx5BrTkZQUrFBkGOB7hAPFDQQAFknUBpABBBcgXhQIZaAUE9wqlAYAUNQb96kEB2vr9AovbTQILR7kAjdNFANiO8QLr4D0GTzRpB2AnEQBXcekDu2JVA0BcdQXX51UB+z+dAF9PZQJbk9kA6ghFBdzPAQIjUyECigcBASkIXQe8y80BuagFB8KsoQYiL4UBIYARBOQWFQC15FEHc7c5AN0CpQJfKIUGV8PhAxdUIQXzeA0FQc8dAuN4BQYZdCEGfvhtBVKsYQX3KxECC28tAaZbXQN6YDkEUh/JAPgP0QCd1q0A2AQBBGuUTQaDVnEBU87dAceC2QHrtC0Ea/ZVAq8KrQILkpkCw5OFAzoGqQE3jzEDwpepA+MuwQP1vDkE3/OdAjT6VQHpW/EBbRP5AJbL/QOeo8UBp3qxAWtlxQI5T4EA2HP9AaQvIQH9DJkEBCJJAZ3moQLBL0kB3Z7xASW2eQPBQCUG3GABBlcTkQGmjIkFv8ZZAX5r/QEL+HEFv3BRBdoojQY56ukCdi45ASc3yQDFoDUF6DhBBBYDWQG0WokABy/5ABxDFQIRDJEGxbvVAt5UbQURxq0CQ7OJALcsRQeD6jEAZMQJBoQ34QE1t70CoevlA7RrBQKErCEGTNStBk0eDQOCc7ECGoP1AxOPRQHFhEEFHJ6VAoDHbQKZ5H0HnctpAypLzQMJ2gkBomiJB6U/ZQDW8BkE+TxxBQaPrQK0u/kBpWAxBtX3+QKKqlEAOMNdAXVQCQfzKC0HhDC5BW5jCQCno5UAMxgJBaKTkQDGrikCYQQpBpUZ8QFO6EEHhP/dAXi+1QA1mFkEJrglBTzC+QHj+3EDEEYpAhJ6nQLVjokAdzMlATtXBQON1FEF57eVAgm6hQOE8gkDtUvhAC9gQQYslA0FHmbtATqLpQCIpG0FaEOBAFkMlQe66nUAaDgdBOQByQA1UEkEfptNAITO+QPAyeEDNjhVBN0PhQP8dykAzrRZB1D0VQTMIhECUF4VAtx/SQBO9CEF8OtlAbwWlQEkdAkHZ3yRBGI8bQWrIu0BB2htBdwnFQFSzqUBKxtFAVc4hQWIQh0CMmYlApPTqQKycGUHp94dACgD0QOXRCUG7KxpBo/qUQPSQEUHhiy1BchQbQXwsIUH7VhZBTUyBQBk1EUEzDHdAOVcPQac6KUFKXuFA4Uv8QK50IEHup4VAMkoDQQgS4UAXuoRApxLKQE3ptUBNGvZAYGbLQAXeDUHo5g1BYefXQGsi6ECCcqVARESMQGAF+UA4AMVArA4VQXscFEGkmChBDoncQNJKCEG/MwFBjgwbQbRLv0BezopAXJG2QGt/HUELrRBBbQumQPc0JkGxW+hAFoOSQOivt0Ad5n5A9XzFQMPsx0CZoABB4VS9QKNXKEF4m/ZAcqPoQBNE9EBum6FAwnYAQb5yqEDaGOFAlxyGQATzIUGZoStBFFLWQB5hFkEieKhARDYNQaCSBUGNCdlAQIqaQLYPAUGiFuhA88KVQPbvHkFh4s9AmvObQG6GukDYOaZAmcMIQVTX1UAwxBxBgdmyQO5lpECiQgtBv0aVQKpg1UAKSb1AMFwHQcSn40DxbrZAqOwEQZbvKEEDxy1B15/0QITwIUFoXoJAnCKkQIYK6EAyZN1A2SWHQOIfFkG+n7dAZAbOQJnFx0A74gRBE1ESQUJK2UDmHMdAuLYCQXO01kDq6B1BekrPQL++AEHI5MBA9snSQKpW2UAOEhZBAs+XQC9wt0BIvRFBiYm4QApJx0DjqK1Aey8WQdt64kAx2dVAHBzGQNjeAUEhEAFBCpH8QC7sdEAhmvNATjfOQOPUzEAJkiFBqqr3QFik0kA6G+xA4LzAQIOalkCc7BBBT2rYQMBg7UCedwRBSZ3UQMOoZUDxXa9AZPC2QF5QD0EXk8lAxh8iQTGa1kCEuwRBspYAQb1cmEDftCVBqa/XQNT0pkBKvvRABESKQA2AmUBfbfRAlgx2QMJNrkBoXulAuknbQBYeEkGYBuRA+8sGQajKzUCARg1BpJccQcrP3kD1hR5Ba7jWQALAj0Dx+OJA41GWQF7NiEDqE9JA8eesQDIceEDwxARBs/DMQEOsGEGmdfFAmd8JQSm9hEAa+phAqSXkQEaG+UCNknxARKabQI1z60C77hJBRzzdQLY67kA+LJJAPN2lQFkxw0A04alAbMujQJlOmUDJm/xAVUnNQDIcdUCt0hVBhY7zQO0itEDlW/1AWDsAQUke1EDO4gNB8bomQaDNEUE1HaRAVqPyQMCUq0B5a4BAfK4HQe++g0CuSL1Ar9fXQEiaH0FJDQdBZvDZQPPTvUCv8qJA/o0cQetIqECP4RBBGQIHQa2yoUA1F6xAhZeNQDsdvECMGcFAHiAkQTxknECVK+dA47WgQEgG8EBVbdtA5w4XQXfT3UAnegtBy5+SQOuAxUDdH7VAZ8cDQQvZuECSoq9AKTuiQH+qCEH6Fw9B80PwQFaQG0EkiyBB3bYOQfzdsEA8kwhB1T4WQWiWEkHIqw9BHq2kQKBnmUBerwVBWTTvQMIN0kAbAAxBNq7nQCP8JEEJTfpAyxDUQCQED0GvBuBAncihQGVf+0BU2RlB5WzQQA68+ECXkdRApPrdQK2XA0GnpwtBBbjwQC5WAUGpPJJAJFLVQMlGA0FSTAhBctaxQLIloUDIqvxAwS0BQY5CiECmuqdAoMwWQZ8go0DxjuVA5OcSQc+560Bd/PJAdHCeQFCYrkDZEgBBOoCVQIdBkUDqaw9BL4GrQKZsHkFX8CBB85UaQY29BkHVAxtBj7sUQXCuuUCg9BBBbUwcQbqUgkBj37VA61MOQfxTG0FDrK9AhIG3QNE2JUGgCQhB88cDQZKXE0EMbiVBRH+KQIiIgUAoio9AO/H9QO3QDUHYucRATcAXQYY/FEG4piFBqUynQMgft0AjwbFAgO0AQfU3v0A5owpB7SWMQD3ThkBifwtBa04eQZERBkGZMthAFmTIQCJcq0D1phNBhhPAQPnTBkHZ3hpB553RQOZNGkHILgFBIZcAQS1WyEA9ORtBvrjOQLxGokBSKwFB4ykRQd4v/0C3PxZB2l4FQdhn3EAJFtVAYu8eQZvZpUCHzapANYvbQGLsEEFaNo5Ak16zQIwMrUCaKA1BJLnqQHCg10BGd7NARhcEQe+H3kCDkppAnFfdQMKpEkG3L9dAfxEcQZOLDkEPCplA9gH0QHt4CUGUIR1BCk7yQLvDxEAKIr1Azh28QJsS7kDL2CNBgk2/QDmWfUCU+oZAH9EMQXFJBUE99rhAE4IFQY3NokDZV7FAoX4jQTkgk0CJOv1AfkeqQJt9f0A93g1BNUbJQB1m0UCzOcJA828RQeTa7kAmb/hAnKHMQE/x4kD31aNAamUEQebfkEDYTatACCWgQPoBAkG1l75ADirRQDMqG0ECfARBpun/QCXCCUHzcBFBbmfcQOw9wEAhTpNANGe4QM4wtUB9JOdA2mAEQXlPskCxTq9AVjfEQIJVAkEfYflAFJoEQQWSDEGMkpZA0XkeQZiJ+UAc+CZBD+jiQOA8zkAH+BRBOAAcQTkJEUGEmNVAznbQQC914UAuCiBBFGYgQSgc3kBSOPNA+nEBQeFit0CvsARBELIaQcsShkDvNJVA0TmCQNJ5y0D0+7dAWYASQdl3wEB1z4tAcOp2QA8OCUFPvw9BGHUiQd+TykCvkOZAVrSqQDcf7kAmNGVAWkuKQMg6skDuLd1AQlHgQNd5HUHqxg5B+m/sQBYIhkDBwotAJw3WQNQY+kC67QFBY++jQBHK0ECVnB1BwyCgQLr8/0AGgQ1BndPAQFL0fkDXUOhAnDIDQYcw0kDdKalAJjcOQTP9F0GdqZ5A/DaxQAntxUA8WetALwXUQFGHcUBrbBJBzcMTQWTzsUCVEOVAQXvcQPh4sEAP2YVAXxfpQKb+eEAZOMZA2sqmQHxQB0F2nPtA3kvGQCo7FEF2HblA1WobQaEDuUBU4u1A41MPQWJ990AqIdJAF4noQOSU7kAzocRAxiKPQPvVl0BMBR1BNwi6QPUOJkE0PsBAlAkMQSfiakBeSh5BG1KFQKcTh0CmOR5Bdo2rQDir7EAttwNBbCTjQP1f9ECIJRNBZ6h1QGKhF0E31B9Bxh6HQDypzUBk/B9BPr2yQAdQi0BO7P1A6CIAQTWpHUHaFetAlEccQc8WkkCRTsVAFYV3QC0+DUF8AqlAILWJQHhz8EBn8mJAiU6+QFF8+kBu195A7AIkQbC72kDioZ9ANe+hQMDVqkDmKN9ArCsVQa3KrECb4fJAgQ8HQQQUF0Gk1bFACiTIQIrS0UCzE8JAHQiFQJBAxUACP/tAEt4HQdCZ3UAWiBZBfliOQJxHj0CTLwhBfc50QNmD/kCFEBJBJ+ImQYBVkkD8WYdAO4qEQLsA/0BcT8RA3j4EQamGvUApktpAMw/3QO6wAUEF/dNAyHXoQMqCEkHs2hBBRi+XQCTpBUFloPNA2pPFQJiMJEEOv5FAEvUOQSaXiUA9YrdAEUohQQDBEkFfXuBAmm4CQbjozUAgFrpAV2etQJYsF0G9+ONAHsSRQAYeDUGkBBpBdiGlQIwgvkA9HwlBZKfLQG8xGEHOSOhAUpDAQNKuFUHigiJBKP/aQBkWDkF2xMNA0iWuQJ3El0DLueZApRXHQHdtpUCqg9dAsT/cQDADI0FLvxdBW0KkQHVvtUCFutdAPzICQRXlAkErHcpAY70DQXqBy0CZEBdB2G4EQcMOlUDfpCdBuT+9QAhUc0D+QxdBBAjpQHCQF0FE2pFAg2SQQMxU10AAQK1AdEJ2QGlcAEGDk+pAumwjQThklEBSia1AcEEXQYn0xUDK15ZAWcyfQIf1fkAQ6ytB/QXBQMtC3EC5SqpA52XbQOecAkF/Dh5BG9W0QNQd2kCTGJdAFCXjQB7RskAeOhdBtACnQB0RHkGC+iVB0LIWQf+s+UAAQftAsQUNQTVFmEDmJK9AO/7pQGlopkAweKlAeRceQUcdn0CvcJlAR/SzQCWakEDATtBAxUqzQCWSGUGzvgxBt0a4QNihvkBsWyBB8x/WQBOtBEFMKK9AjlPWQGGuy0Cq+WRA9FG/QIzsm0Ap3PlAmz8GQR8pI0EcwLlAnPDhQDlYEEFjgOdAwtYTQeJd20DBdolAWwamQEsaz0CwablArmu6QDKzx0BEbQxBJYiBQGqCBkHCK/dAmKgfQZ3VhEBuAQ5Bq1KmQEa3yUD7ustAzLbLQEWk/kA9LwdBG4TWQMay9kBZFAZBgw2sQHmXekA6qBFBBNqzQMiJxkBMLpRAd8SVQCGA40AoeKNAfxwfQUKcD0HNuBdBK28ZQezO1kAcXcVAnEMMQcoa8kDvwhNB7P/eQDie3ECK3NVAUwjLQE96D0H/VK1AJuq0QP0ZpEB24BVBGSuFQBGuikDiWPhA2qnKQGcankB0hLZA3rnOQOi+H0GayNtAWq3jQI9f6UBgoRZBFNyWQN+r2kCxXxxB20cKQZX63ED8X7JA4HjzQBnGB0Eot+RAqFOsQNvJuECmwApBDjYeQRixkkAIB9ZACjr6QHtU20C55/dA/VXwQAytAEEzq+JA7wwkQZ7L+EDwxK1ALdLJQCQU5UAOmxJBf2q9QJk6GEHCYZJAq4IOQXfDikA7YMNAEnISQd0s20A+n6xAlW6wQH6oakDYOM5AIqTtQMD4y0A+CblADnXSQDbaokBkTs5Abdb0QNk2DEGTjNFAJZrfQBY47kDDwptA/6sbQe1sxUBJUtFAVTDzQPwJBkHoip9AjurTQEoVnECeDIBA7M7pQBkd10BHLvVAoW0XQaXB0UCzMYFAJLmuQIByFkHWJM9A6Ir2QFAO/kBFdhFBIQwlQS7fc0B/PZtAdgb2QCHGA0FWe/BASU8BQUXoEkGyuvNAULS4QInzyEDKzQJBsgEAQfR3tUDSbhNBh/8GQQU7gEDlDphANMv3QDsEyECSlxJBwtyqQPWgHEGJd4tAEiLWQIUDAUHkULJAwmzXQNx690BSL5xAdgSGQN51g0BUYs5AYB8kQXcJEEG/c8ZATtKFQHGjiEAFvtxA6eQFQXuzH0FL+fFA8dsXQRhaB0E4jbBAHK5gQC2Gu0Ai0NlAvHsUQS9j/kD5ys9AwCfJQOQi9EB1ARJBdJekQHmy0UBCgpFA4pAdQbgCsEDFavpAAVUUQUGrBEG0W+tABgHIQCR/D0EmfCNBBhSmQBx4oUAvUr9A+VzeQESPuUCY5q1A1B37QBoyA0EL3QNB8WgeQaX5GUGjSLBAAIiEQHeD9kBHsB9B084bQXW5Y0B0cu5AiNnPQNiuZkDbZ/VA2Y8FQdUi8UCzMLpAYoLUQO8Z9EB7SxdBvCKhQF3eKUG2yQ5BgUCrQEMmCEFzsB9BNYsFQfcFzED+Y71Aql/yQANl3ECbRglBDHJfQK4rxUBwoHxA86LpQE5xD0F8vftAecTbQHCw8kBit+RAf8rKQKnJHUE7Eg5BVMsFQV/azkBCsLpAl6iiQO6H1kD/KpVAg1P0QBjq90DYDM1Ar/nmQAI34kBVD7JAEunyQFHFKEHa5iVBdBGQQINF8kAtttZAJOPDQBbMl0D1M7xAuny/QK5VB0G98HdAH/HdQCyoJUGKMoRAIYSRQAigEkFL9+9AxxMJQd9VD0F/8uVA587NQOL9wUC4uh5BeoDWQP0kBUF4Ou5A+FaaQFEXEEG7m5VA6WW6QIajuUAVnhFBBh/EQDyMvUBctRVBZhzzQAs450Dwi/tAMlmkQF2RCkHnW/pACGCnQD0iEEGfFhBBeGX2QLlf3EDXR/9A30n2QL/1H0EzVJFA1T8TQRrvzECnu/dAQyEDQakA3UBPAABBCJaqQNbAFUE6KOlASMqTQPEnp0AzZxJBSRkFQZ0BAUGKqtpAvpmOQG6K40BPq8lAHuWfQGh2/UC8Ih1BSB6ZQIkF6kCOFPNAVWieQAV0dED9nudAG6ALQW3tk0BBBH1ApcYbQdA5AkFSJ4lAhu7zQKvXo0AwJQJBX7uvQMmVoECy9wFBptTsQA0d2EB6PAtBNVQdQRaz+0DCFRdBZ+/0QM+jvEBcN6JAtgmjQAVlGEHgzhlB3gbqQH4T+UAOa49AsL8gQSn1CkHKkB1BpM28QIURsEDdSQxBx4KiQAYRq0AikpVA3LPdQJR8vUDSSptALs3tQNu9GkEjvsVAmXnuQEk9/UDcjhtBIdX0QMzSl0DRfY9AADcGQeyz10BPLIxA4szHQFeP6UC5taJA6ufxQHSvEkG4vwBBII7CQEoaEEGStLNAq+WhQEwpDEHgFbVAdwGRQA58y0DWDOhAPMwlQX7zuUAeV5lA25wdQfIlB0HgO/BAMU0CQaU1dkAvFv5AW5aHQFBkCEGvsd1A0X/eQME+B0GTsQFBf96+QCa2ykAozdNABVSZQCuHx0DNaPNA3Ym2QPDghkCsHB9BO4exQGKVtkD/rRhBM2+eQIpcGUF02pNA51HTQFD7BUEnu31AStYOQVpB3UC1y8JAANm7QK32nUCBTfhAFL8cQbODxkDonutAYYsaQcOfCUECXwpBFB34QLSs8EB2KatAtQflQAUTCUG+ab9AE/zmQLoHsEACGetABoj+QJko10C4wcFAyjPfQOWDD0Gi8g5Bfm2TQKqAr0Dm9MlA6Wq3QE3OxkB3/fpA8nqhQGyn30CF3o5AW5gPQTkj/kAqNBJBkiXBQJZAxEDJms9AFaIYQfVeF0FQQwRBYTx2QOMwBkFDmfRAfwK/QLloq0Ch9QtBQO7yQBHrAUGl0/tA7hrAQIjL9ECIoCZBGK7oQCzS0kCl0LlAsPPYQOV4JkEydQVBENaKQHCn6kCfbCBBgp4mQTgqrkDLX4NAHhTQQLrTt0BGXR5B2EuHQIAPn0DYl9VA6DUkQf+e7kCRkZ9AzRCjQADcBkEFkdZA0lbKQP1YGEEXZNtAWyuhQNmlxkDIh9dAg012QPhg40AUxtlAdRWwQO9Br0BzBb5A7wYWQSrkGEFI4KBAfMioQLHCnUBsUSJBxv2WQNWpCkGF0glBT970QIZXCUFjxiRBMWwHQUjJg0Ao1MRA+RIVQTV/FEG7ng1Bx0aYQBqgD0ELpaVAwyoQQfAKzkDsUL9AwRe4QKGGl0D3X8FALX7ZQAyTqUBgNeNAaf0CQQ2Yx0DDFeZA6bHzQOrGDEGVXg5B1tMDQc2IqEBT5CFBU/wYQZi1EEGviNxAY1kfQb6YGUFVkQpB7eh/QO/YF0F/XvxAlxKQQJEzrkAYK/5AdjYSQe0fy0DzVx9BvQ0CQSH2C0GM0pVANZedQNxr+EBmyqtA6FoXQavnAUEczX5A91EPQX7q7ECu8qxAInwcQW9vpECG+x1B+D0GQarRBkEgAM9AUgQQQYHS9UDZLqVAsc6bQOPekUADNvlAR9T8QFWBwkCjSB1B1DIBQYt7u0DJnZZAc26cQGltEEGZ+QVB0VfpQLc9CUHFE4tAYXmCQASDpkCVRxFBq+jyQMXaBEGM1dZAetfsQBpdFUEqN71Afbh5QDqRFkGxk6VA+ev/QAdEsUCsq+xAykrOQGFs00BmdxlBJF4YQZY1qECAEMdAucP6QH+dzEAbTsNAApecQOsNw0BOIPtAcxaPQIxz/EA19a1Als/IQA2KDEHSebFA1sLHQKbM5kAIastAEQD7QMZR20AzQOVAu9XvQKZpAkFDcYRAmuABQXeD4kAt/gdBSocjQThOGkGaNONA1BASQay2nUAHU9pAV2bLQAXtzkALZgZBjIn1QMMdq0BJoBRBJMfQQK3Zv0Ae1/lA6be1QFWOqkDD+PtAmNn0QEBj0UDoB9hAlpKbQFvfq0ARWc5A3DMfQe4cB0GAabZAAzasQH+hpkAjUg9B36WgQNHX0kBcRR5BkNW9QNes00BdNvJArr3vQKqZB0FFJOJAuMgIQe0XGEHmSdVAbDwIQa0MFUFJOqhA3hz6QJFnB0ENhMdAAqglQWzK5EDR3JtATP6WQKqkF0HD4P9AO5fEQMiHhUDSPstAE/gVQUBL+0D50AZBEuu/QOwCH0EZdRRBNY8WQXJfA0Hu8vtACe8EQW41xkAxNsdAdWvfQJbYlUBf5PpAS6a3QJklh0DHGwRBTHGFQMXliECm2MNAv8kMQRWyhECVVgRBDs7dQIGvpUARaApBqtHxQHBaE0HalqhA6kuiQBpFqUBYjBVBl4PfQA8+g0BwwN9A4JflQNuzHkGIIMlA4YXlQKdSGEFrFSRB6pvJQEO+8ECs7OZArED9QB1m+EBy2RBBRyKPQP/pBkHjkeRA7YkNQQgQu0C3ABdBZaMVQSuZDkGpg/lA9dP0QCG79EBVAhJBmqgMQQxrB0GFY/pA4pHyQHPk3UCmJslAR+3pQJKD40CoLQBBelT+QEN180AgOhJB7T6OQBifAEF01KlAsvMGQQTZ8kCHGxBBBHwWQYmvBUHbv+RA7N60QOheAEF6vgFBHZ0BQTd6FUGqFOZAhUojQVRk+0BC7fZAUcWqQPid5kCtZqxAM+fSQPz+00BvP5VA+HLAQEoKI0E/+xlBrgXjQIHQD0GFkBFBv2AaQRcVykAOmtdATVUIQXCitkA5gNxAATO2QGv5yECuNwhB332TQG8050CpFdNAgMSsQHpZtkCyRQpBFyHdQMGWw0BNawJBTOEJQewa8UB4+ZlAjqIRQYsJI0E8Z3xAALzRQJy1pECw2bRAXADaQOef80ClChJBJdkiQcqY9EDABahASM+sQP6m7kAZnwRBLqfoQPB5z0Ads7dAZawpQfwp3UCURSdBJhmHQOB1D0HfYB5BLBHZQLYW1kAkL+pAoFkKQdDS8UD2nBRB7anOQCN0BkFYmvxAJ/cBQfUCuUA/mxNBLD8KQSypHUERgJNAUk4NQZ8OqkBX2BRBfkSUQPzqHkEfJhFBUtzZQAqN00A3CQxB/49mQGlH1UDJTQ5B91K7QFH7y0Amgd9ARGMdQZxfq0CZhQFBC6EbQZK8BUGGzLFAuEOOQFUhIEF+1R5BTpi2QLZ+D0E0wH5A5saVQCu4FkHnm6NAHvsXQYmsm0DEg/1AnpIBQbMN10CviylBtQuZQEIzCEGW7/FARkKZQGsUBUFeUutAXe+fQOm980DaaLhA5yGrQBMr1UCkmdBAKZ/TQMuVl0C1VqlAeuvrQBk7+0AdR+9A+kAgQWRt+UDakQFBA/oBQT9TGUEY8AtBF9b0QIxjmEBz3e5A61EjQeAizEDn2IVA8cHRQKr+b0DW1AVB17eQQHQwCUErERVBVYoaQST9x0AttCFBHSEkQaxxh0Celr1AcFbjQE28vUAW/vVA277VQK3yu0CIpwVBP/HeQIqcEEH0kNhAnUaEQIa9uUDtmIpAuF7kQDpUA0HhHhBBqC7qQIIw00DjTdFAzTWPQL1BzUBChrRAqdQUQTMF+UAfqiVBBuboQLKw2kDBc+dAj2OKQHxluEBr+wdBaUnqQE/KeUAglAtBidzyQMOvGUFCBqpAiWECQbXBBEE7Ah1BdgEoQUNHkEAluvNAs+okQSaR4kDMNatAawGmQAY2/kD/LCBB+1acQAueu0BuHblAi+ejQNnP5UBkxhpBNZkEQZ7tpkBrj9xA5bWdQOvliUDPg61AR/wMQWxM4kCafslAV7MhQfPoAEHtF31AcFUqQeZUzUAVQ/1AwbO/QP2fFkGz4tlAF8YaQRwnEEGsHf9AZKOqQM//GkEwJxpBGgH9QAVtsUCKhhVBM27eQPiK2UD2R/FAoZr5QFPPvkDWmBFBwlANQf+DCkE0uqdAwIoIQe0i1kAZMAFBuz4VQSUzs0CNzJFAUHHBQCcbFkHnJMFA/M32QKCYsUB2ev5AGCDQQBbu0EAHutdAa3KwQPYW7kC2RiZBOfHHQA8r50C/XNZAhpAFQQLX7UAQ0fRA+ATYQHPVEEFdiBpBt9kGQZ71CkGPgfFAROG4QKq06UDwLI1AVgG/QN/N9UDnHQ5Bwy31QIjeyUDFGRdBXej9QKGbwkC8KLhAQg0NQUEiA0GU9iBBsoYWQSC2B0HnOhdBghUcQVN4nkAGeZ1Au1ziQGg7G0E/dhhBoUIAQdVFzUCmUqRA6GfMQEhKnkD3ZB9BhvcEQfX/CUFMjshATM8KQSBz1kDniAtBQWGvQMC7BkGv6iNBDFEUQWZdJkEGqoZAN8jmQKquAkElrwhBQTTxQDRbIUGklqpA8dLXQKIOsECNdqJAS7rDQMVwKkFniIBAyFzvQHBMo0ClDwFB7HbjQL7xGEGcotZAjekOQVGYBkGwhvFAd+3qQFQcDkEuWqlAjuGSQCJc7ECuy+NAjpWuQObzu0BngN5ABxnKQAm0F0EDi9xAF/PLQHBlHkEohCFBuhjUQP/jBkEtttFA9ogaQeKGt0BekJZAe32oQDg5oUA4fg9B30oZQbWWvUDEqoJAKeiMQN69lUD17qhAPIeyQO8o0UCV99VAuG0KQbOfIEFDP95AKZ2mQMbGEkGdjelACtgoQRx9EkHdWhBBNFzBQBr+kkBXxvNAr6rhQLR270AjUPdA/6GzQFrsD0E7OtRAwnEQQVqK/0BncNRAL0TnQLoo/kAIkgpBbZbnQI9X/kCsSAxBixkFQb/P90AbcYpAI5CFQP3FIUEupJtA0ckFQaGWG0E3dPRARWbIQH3G1ECoHQNBygLYQCqPDEF7hwdBsQnfQC/4gkAhxgVBNSEZQQ1RkEABXhVBhfsIQcgFy0AZydRAm+EeQV0VhkB+qCBBucjsQCkqu0Ca9tFASvcBQRVk7kBiA6pACUsYQSJjp0DN1QVBHpEAQd0Z1UA8VsFARlQkQdqfCEHLHhxBwagHQXtSzUD1ugRBC8zRQG1J/0AGfd1AJuraQB6VfkBoHARBJG6GQDs7BkEHAABBmRv4QCy/0UAZrBtBJekDQTzBzUDSFNRA257nQMsQ0UDh045Alf8WQexeC0FrCfhAdS0gQWrS70DxEwBBCIRyQHLzBkHtiCFBeAaqQFls3kBgxhVBidzGQDk7AUFyxvVA47bnQKyGHEHDzhVBy5gFQcHv50AAzxNB9iHbQDWY/UCOHgNBlw8KQa1mikDOUwRBYzXCQLz2rEDEVslAZNC9QHJzDUHpAAFB+6nfQEX150CmfmRAiMOoQO3ouECB5Q1B9YrVQPFc8EC5boJAC3vQQBL61EAKHtpADMHWQGO7q0CEsuVAlralQNmblkCjCR9BU7n4QJOgGUHF+PJA8J/lQBCVA0Hb175AufXoQNdeFEEPANNAOeoKQbcs60DU2uFAYQcFQUvL1kBKiApBR2H1QA447EBD17pA5UWUQLwy7UDppOlAuP+9QPoAHkFltRVBveDtQGyUEkHeawRB56TTQD7lC0HKRB1BdNAjQdcZ1UCChyFBrFAWQeJFBUFiBf1A0vYUQQ3cDkFC4qVA0avsQNj60ECBCuNAVuQrQaU8/ED0UqJAzq+1QKoQw0A7Ww5B5sTEQOelGkFaMCVBSEnjQP28ikB2n6RAGTW7QHDAA0FIKp1AFGMPQe+XEkHEjsJAUcjOQNWHekDrjA1BFDmiQONx+kBQyvtAioCfQIbQxEDYNBFB4NiIQMSCA0EnixhB9dTGQIBBkkDLwwVBukyyQCXTqUB1qIxAJZrJQDAttUBFlyJBgTAiQan1tEDWStxACRgYQU3Ch0B6autAzYm7QIumiUBlcAdB3mu+QJJ0y0BstwZBHOXGQKuvp0AAIMtAVtZxQGrZ+UCU0f1A/lHaQC3x30AttulAWGAaQeMSpEDldCFBcoclQaEdC0EkEOhARgLrQPbPhUCAdwpBDv4aQZV16ECZs61A7a0CQSCXsEDq6xBBYfn9QN1bwkAUNpRAj6+ZQBm+9UAuVaVAI7GpQHhE7EDXjspAAqjKQHmGlEADN+RAvCHQQD0kBkHjWAtBBJDWQNUMz0D7GrJAq73MQA8ymEBJJAlBXNObQL9R3EAYdBZB+OSwQKGC1kCf1M5A264lQUtk80DaOrpAcCy7QGNw9UC0KRJBm5L5QDa/7UBQJtlAfZYQQYLTikDjGRdBPrAQQajG4kDa1N5ALcW7QINtEUH/krNA2c3TQPIuBUH6tQRBMKf/QEuF80DhrZxACHGnQOaOD0EQ/59A+PSmQMaSGEGJZOdAgQQXQZy2AUHJiotACvTHQHJ3/UDkyh1BcNsBQYh5l0DBMKZAxv3gQO7hHEEENQRBWq4VQQLM3kAFSw1BSxWMQOVkKkGX/PtAeCr6QPCAEEHrsfhAUHzKQI1GFkH0cstAstHHQBqBBEET+rJAdVuUQJuC90BBFw1BMy0EQYVl+EC6UPlAABIiQUZyy0BI091AFY3jQHJ6G0FT6MtAvr0LQablikCVZ+lAYnIhQchKlUCBIuxA/xjEQJ+E60AYc6FAYhzXQEtLf0CnESZBoLrCQO341UD4PhZB1QQKQbiGp0CqZwJBcZ37QOONnkCc4wNBlEUDQbQDy0DdzuhA0Q79QNzU4kBkEwBB5CvUQLRW+kAPdvVAXP2zQHNi7kCmc+VALb+RQEaF6UCqEB9B8rgdQd7h7UAuHxpBXZzXQHS5G0FsRBhBRpQMQWcbrUArkJNAoKQmQRvThEAAkvBAq+wNQQgGBUEfpQxBZN8VQe5hHkGCoxBB5E4LQaOaBUFAyARBCerUQPWcDkF5LwNB4fPyQMrn6ECOrftARcrSQOFDAkEIEhJBX/OwQNIM0EB9NJRAjtAJQSvJA0EqbgBBO3+rQEFVlUDQh/NAHuL7QDhlpEAXB8xArqHTQJ3W1kC0J9xAlWidQNfRJEGzzr1A1aoNQcoIAkFAQQhBTtwXQbxp/0C0zRVBnNC5QDOcH0HTJRNBPiGYQMtVzkBkfqJAbdHqQOk9HkEbQtdAbuCEQDG3E0GzRoBAaUe7QHyws0BCZt1AsMQOQRm0A0ErNdxA7yIPQRC2C0Gg5r1ArLrOQKQw/0DEUfhAWDMdQYQS9UBXXa1AQzLaQFfPEUGBqSlBHcKmQDnpG0HIfedA3WvpQMlEqUCEKxRBUXj9QGHuqUDChQlB6pACQTKvEkG2zLNAojYBQdPA1EC1EwlBbBGtQLGwC0GvhsFAHA+uQDQHh0DAfwpBIEfLQCqkCUGo8hNB0CMTQUY1qEDWLchATIfXQHRk8kA3O/RAwFUFQQ7p0EDo9CJBlucVQWj4vkC6TwBBQfEcQbFAhEAPkPpAGCDjQEJdAEFtBsVANzC1QJKWHUFNpBRB0F7yQDnNGUG5GotAz3kHQW4FIEEzVRVB/WyuQE4IA0EC6xJBISq8QHIY6UDpVQtBHMYMQWalFEF20YtAM7zqQE1oB0G/TBxBC8OFQHEkmUCxSQZBY+IGQUOs4kAPHBpBQBb2QI1TFUHZl6ZAkpzBQN4pxUDjV71AaSmvQMvyl0DjQO5AXH/PQGepAEFToORABa7XQIfM8EDFULZAHOANQckin0BeNxtB7dmdQPbMwEDTPwNBF3vtQB9t/EBZhAdBNkUdQUzW2kCIOApBf6kEQaXX6EAxcc1AK94NQeoUykCvP/lATe4PQQkV4UAvzdZA9myNQHmgFUF4NRBB9B/SQAzQ6UAtgPBAPnW3QDWLgEDXQ5xA1fz2QJ9+AkE5nwVBXtMJQZciIEF0HKdA2onQQLRw90A8SplAvUseQdQxD0GW9s1A8JgVQT741UCWQN1AdIUCQeCbkkCi+uxA7vPsQDaeaED/6x5BLxDaQDQKG0EVBRVBJVcUQe7IFkHE7gFB5b/wQEpZAUG2R9xAJt4eQcy15UCL69pAikkOQd9G7UB7gt5AKIwFQc7X10BVxfZAdj8HQVgnmEDEdNxAOM0aQWiwd0DtZShBvNcNQVAj2kAMq8tA5rcDQS57LUH2iABBnPL6QKLJ+0ADDCpBeQX8QDXsAEE/OfJAJeMcQXt/8kAAtw9B+wDcQPxlBEGv7e1AorqwQDOD9UCdn79AWHQcQVpIqkAtkOtABBu7QGIUA0G6UQ1BNALkQGAw9UA/wrVAqoEeQUiY0UDeSOFAF2jnQLMCDUHJKq1AiTkSQUWiukCcdI9A+w/FQIm++UD58xVBQ0UGQZInD0GK+Q5BSFbcQI6vAEHHlhFBpAyNQKG+HEFSTgZBSJb5QLfeIUETuqVAx338QLH2x0DtLaFAqdAOQYmEIEHB999AHLzXQBlXxECGTiFBnHoUQQW5wEAAB7xA2jH6QDeWA0HQwJ5ACC31QGfbxkAMJa1AXrbGQF4OBkHWxf5AsbgZQSsL/EBBhNhAXwywQOPu7UD7yQJBANCiQBBrEEH4EhRBwX7NQA37+0AdfCBBH1LaQMEx30A74QtBABMIQX1xDEHqmNlAAi0aQZyUhkAzTiBB1XMfQRCN+EAQXBJBNC/PQEP7ukDjt59Alju2QMyCH0E8PwJBMD8WQWfYJEEhqtNAGnH5QMWmvkALPQRBWr2zQM12gUB9xO5ACd8KQfs4sUDZUCJBWN0BQf4BqUA7qolA26cNQezLHkEaN/ZAoFfsQNmEC0Ffc5RA7agIQdWJBUE0XeVAJUzHQHpadUBV1A1BQlLxQM6pyUADFxFBdAfcQFXxt0C1dxFB0BEfQa7ovECjRAFBsv+gQCg52EB47ARBVLncQD2x7kBkj4JAbWP5QAMxvkDZieRA4ZUTQfI70kB9CKlAFXgfQero6kB4KAZBkmjwQNb7zECoMf9AhirUQNP060DBtx9BWhiAQM1KFkEbnidBwmcPQRHiEkGG/gVBuMwIQZIWwUCTe7ZAEBvUQLekHkG8EhlBK8bxQPILKUG7TRRB7OgsQXti3kABhhBBJlXsQEh63UBnNv9AvdaxQM0frUDptqpAmDHzQAoYHEF8/6pAiU3LQLMfnUBg9OJAyPcBQQXOzEAWu+ZAKHLkQNth7EAle55Ai5/fQLgjn0CKshBBhzX4QI/xwkDiTRFBPhPcQJyO5EDrPnxAlLe9QE3w10AMXQhBVEHtQFUg7UCKnRBBsm4QQdx320A/2AtBQ9nAQCUkjEC1fBpB2UweQQILEEFquthAtV8TQUCrv0C78JlA2Pq7QFS1E0FXx+9Ako/oQFrZqkCnJAZBZhYYQXxwrUBpWghBfAL2QAIsn0CRoZdAaN2XQM65nEC/Us5A90O5QFN3DUFIuapAMUEcQRoQHEFFhQtBlkzeQMHgDkEy49VA8K3dQK2/5EAi1bxAxpIJQZNJnEANYL1A2c2oQCqW30CYsulALTEfQYuNDkGeZyVBDHEAQaRQ50Aws/BAUaogQcHNxkDSFQhBOlmWQDKYA0HtVpVAFeS3QJymCEEVnRNB6wXwQOURJEFAkPRA9MvrQGAfE0GewRhByxgJQVm3okAHZAFBEp2pQFYRCkEkiNNAgXPyQCR8EkHu+upACCKtQOy8EEEQ+d5APdbrQOuu2kCSvyVBBBwJQTF17UCav9ZAEImiQA1dHEFDw+FA2S8FQb4GB0E8ld9AYhgOQbDmFkHJdwFBq+YjQfmLhEAIw8NAdsLjQFfzAkER7A1B6ITNQCl/jkCjqxJBgSvXQPf8EkEWBolAi3CsQH4x6ECzjvFASkHVQG5GD0EcwgNBHerlQKpCJEEH6fhAUYgIQYCUp0CKKB1BvnEDQY07yEATw7NA4S4KQQsUwkC3AvFAtQoQQaX/zUD3kw1BPRnlQG1Y+0D2kOpAPkKyQJU1AkF2YvBADkC9QJIl+UDJTeRAbzPBQHtL0ED/lidBz2z1QOqxHkFT9u9AxSrPQJS9AEE5b+1AtAy9QAzIDEG9JaBAm2yCQF6TtEB1i+VAgSgdQXuUBEEXOA1BhPINQQ6er0BBD45AsdoWQceP+0DzLftAPjcBQbgacUAUagxBOOraQHGYw0CYiKZA1dDkQNyiGkFHWs1AMOULQeVnHUFWtgRBk8UMQVHR3ECHwCVBbE8cQVL5BkHDbpxAgYskQRgb1UAGzQxBw1z3QERgHkHadd9AFqzBQJlR6ECUt9hALwbTQGRBB0GBJ/lAMTDVQBcjF0E64ghBO/cOQTIc60C/wwFBKqUMQUV2d0CXvA5BlB7yQBzz7EBc6RpBoYsCQeTgH0GQVd9AWoklQWi5A0GS4b5AnOiWQO8n7EAMrbRA7gH7QHUWvED3gutAduMLQTF4sUBbdvRACLmsQCEXxkArheNAXELqQOZrA0HhLAJBrufFQDpNAkExRA1BKDoCQQcjykCMc/9AzGy1QKPWGkGkmIZAU/zWQEERJEEIkQtBgeEdQXj+F0En+6BAXxTgQGvyCUEQYBBB1+7nQINZ/UCLat9AtqrtQLd40UBbVMlAfxrjQAYa90AulxpBn9khQREB40DBrtZAjbkHQU9gDkGrtvJANovfQGTKA0ErhsNAI4HGQLsho0BNkgFBHBUIQcDgB0HhaBdBnX7GQKtDv0D3VAFBfSMKQfbVAUGBKhhBchoHQfZfDkFolxtB3cIXQa5h8UBnhM9AsHgBQRIa/EBipddAjS/FQI+rAEGbCcdALA8XQQV2+UBA95NAN9sGQfN3wUDp7iNB+piKQC9JJUEgLPRALBuhQOGUEkF6MfdAC7GgQF9NrUAiOvxAVjTHQCwc30Az5eRA9lbnQBbBDUFExt1AJXixQGo9l0D9WQtBwLwPQWeFC0HFtvxAfmohQT6cGkF7RINADADiQO2CBkFgGRZBtesJQbSf/ECV/7dA6HHGQE/6C0EvwbVAP2rZQHvQ6UAzx6pA5yCUQBq5AUFPxftAEtrZQKOkr0DN6R1BRuENQQGowkDH0phAWb8AQXcYHUFzQxRB3dQBQSkiDEGofdNAWVnKQDIeB0Fw2RhBLVYTQdj2x0DFUh5BVyflQIEFGEHVrtxAwwC2QLUVK0FRpoxANWYSQZ/HtUBrfsRA7g94QNZY7kANpA1BmHnXQHXF6UCLjaZA3+QcQVuLm0BDExFBaCuhQFFY70Ajz9VAGWPXQJHmiUCB6tpAifvoQGW+BEFqcrJAe7aGQEej+kCMKwZBg02XQELxD0Hgb71AYxwYQUrlCEEy3Q5B4QDqQBNkl0DGH9VA92cKQW+9FkEKwQtB0bsRQRXE2UDb3qtA45fCQJ6EE0ELzQhBww8MQWU0w0CTnsxAg+bjQKH67EDaeMxAlzAeQX6L0ECZZ/RA+zQJQW7B8kAsqiJBsrAiQc1mDEER7hlBdmQCQaR+D0HRC/pAq8mFQDUn+UDkjgxB5n3xQOtGgED4zMpAu2bjQFtFtUDUcOtAqB+vQEB1sUCwoKRAA4aoQG076kAgwglBmTPgQO+LC0HA3J5AxwpwQENt1UD5ldFAgjsXQS4askDeks5AyZoOQbnEx0B79gRBOqgeQeptokCpjv9AS6moQEh0CEFf5epA7ZfkQDVMAEHrkSZBzdQWQSVXE0HWzdJAU+AGQcbBI0F/DvdADdMMQbeH2UCqChBBESwAQegw1ECLwA5B5onZQMpJvkAT0SNB1dSVQKl8wEBOhNZA8tMAQcgzAkGyjxVBlBHTQCqHIUEBx91Az9O9QIdb8UDPCwhBtooFQU6YzkAYGxNB4J4OQRak3UC5BrxAB7v2QCMjBUE3a9VAWfD0QL2U50B7IwdBtefIQHC0CEHL/utAwRzCQBKapkABpa1Al+zPQANYmkAVHP1A1lCtQEOQG0Fq4s9ANWALQbFSwECPWxFBULgcQdciEUFgWbBALg6fQKiXsUB6r9ZAiPoCQT0O60D3brtAohTgQOlYEUG148FAHFmvQN9O90C2wqxAGafzQPJG10D2DP9ABj0SQdFdxUCgW6dAsVfNQM5ZBUE1rvZAOboNQYdNBUFQNLxAx8rnQPc8wEBaQgFBbUbkQEgED0Eg38JAFmkbQTwxmkBf0QtBUSKKQCf580BWur5AemoMQVaYxUD0g85AgxHEQEln70ANLPtAwrKkQEFxxkBfu5pA8ioaQSDuHkG9WCFBssffQFQyFUHVPvdA8vCzQJ2B/0B6WyZByNEEQQFKB0FuYfxA9CbzQNzqBUHQe+pADqLWQLBU4EAlUMpAA7LtQGzjDkGMdhZBjKL7QPeOHUGWUBtB0Az3QMUZuEDnde9ADOGiQJAMl0CSwRRBb0mgQNDpDkHNbeNA3BnGQNmmJkHXtiRBWgcdQRScAUFmlK1AIaDbQNcFB0HwQgBBXjbWQHrRr0Dtu7pAjpjKQLxE0UDI5uNAa5raQMYQFkFGP/9Amy73QLvEHEEtBK9AfssYQcB2jkDkeBFBqBjRQF9C0kACBalAama/QB3OiUD135NA3IfdQAl7BEFhrOlARx4LQfk1DkGZ4AVBx4EPQeMmlkCZ/wlBTIi2QLrj/EBYWQZB/uMRQfVO30BxKu5AMByyQPHIyUDVwsZAZnIfQe/CvECB2d9AsjG/QOtOuUAE6/pArRbkQBR2HUEN2u9ABSHfQMT8dkBghP9AjyCHQFf4GUGUlo1AGBrYQECLEUEbwYhAijjjQPbjsUBnCRpBSXoAQdP//UBajAtB9QWoQKri9UC/Bf1AThirQIcDxkDZQgNByHIAQXP3FkENUM5AF43RQLG1/kCDqKZAgKIDQRI13kAQGiNBZV7QQDZZJEHpQK5AO8QRQQJp/EDfOgFBdRQFQRNp9EC4F85AwMIhQecTGkE11hdBpIQpQS3yE0F5+/pA6OYGQWbQGUGw8vdAtT/FQMJX40DVtsxAlcCyQBdwpUCmZAJBrf7OQAZrn0AbCwhBBikOQWaP9UCY1htBJD8CQcqv7UDM3exAFToUQbkVAEHPTwVB//uqQHxSz0ANOBNB4jjCQMh3AkFrjf1AWbyVQKFcDEE4eyRBXOUbQWJ+FEE9pLhAbXDyQPG93EBkm+xAtlUPQcvA9EBxPOdAvyMTQQFYq0DqVAFBongDQcofG0H+1OFAZAn7QDiZxECZlghBEesMQcKl2kB/1YRAWQAbQX2bFkHAUM1A8AHtQBvGGUH0kwFB7rbRQEHY+EBR3sNAm53NQO/3rUBD7KBAC3iiQKzSA0E3vANBEvsQQWiJjUBWOa9Ai8XOQN5H7EDuewpBflccQVrFB0F4F+tAFy/GQBej8kC/jPdAze6KQB2noEDRROdA4WogQRsU80BhMuJAH3zbQFbs5UBhJ/1A4JedQMeSykDjWR5Bk1C/QExCDEFFT+9AFd8FQfYSnkA26fFAl5TwQKlezkCkFrpAQev9QHy2DkHFVPhA79/+QHiYDUHYErpAOiu5QGIS+UD3zPhAgYsVQbBIGkEkBARBSpHWQMpG7UAhAgZBkCv5QC+rJEF0cRNB1iAJQQlQBEHDhBpB1o7/QDO83UBVUKFAvFOdQMfUqEBWwwRBqpKnQME2A0GRQvZAExTrQJzuA0G9oAFBlEbhQHh53EA74gBBBBgQQR+D3kCfG5xAxZGZQG6+CEFdICFBWCMEQWFqFkEEqA9BNXnBQGgqEEEUnexAOAsHQQLZj0CsDQ5BlyYaQb13EkHFMPxAhr/LQIJ3lUAq2ehAywTnQLp220BIrOhAcdQOQb6290APAvpAoCaTQMTe00DlaMNAX8AHQb+R6kAvm+9AK9i3QNJs20AdpcZA6xoLQXKtu0DlMbRAFu/wQMeTrkCYmBlByk/PQL3QtUAfkxhB3DirQMygCUEEQRxBtD0FQcEDDEGiSwpBFHDOQO6QCkETFZ1AvvUAQWLdDUHKXQVB5AUFQWlPv0DrRQZB97IGQf6020B/4+dAjJ3wQDBN8kAW6LBALe0MQVcFFEGPIAtBTHscQSqukED1XQJBaWTOQIwGFkGMtB9B8RzJQBnqAUEqa+5A1YLeQIdpBUF1EQpB+i2oQCPS3EAbqMVAGCnTQB2/y0DC2AZBbczsQKYSEUGiORVBfYHEQHHf3kCVmhFBfxHRQOQ+BEHHw+tAMJWfQCgPAkHf7fhAebsXQfwx30BsJchAI+wLQW34g0De7clA/1QhQUsxCUE5shdBJHACQUAeG0FbmxRBVBMGQe781EB5LupACdfsQK+J0kBu/x9BH58ZQW7dA0HaigNBbcsXQeHJ/0DX7+5A3Vv5QNo7GkEzR7dAV60AQYcbrkAzGfdAi+vuQC9yAkFiOgtBYA/SQKv44UDU1clAdrgCQQJz4kAUdhBBDkXNQAM6GUF6FCBBiIAUQVp3DkFdv+JAcyYGQbHSE0HMFhdBXLUFQUIi2kCQwBdBDve3QC7ZCUEmU/JADrPrQPpzz0CfJ5FACikiQUpB6UAHF9NAfEzYQL52C0E7+ulAyvTYQJeF1kA5MhFBBhDUQIoWnEAjdAFB5yTeQEFqJkHo+etAoab+QAVdD0HHcf1AlLYDQV2FCEFneA5BQjfqQK/rGUHcfBRB71u1QCXlFUGUPNdAI0wYQZ96skClCMZAdjwdQdaXCkFxKdtAjlYEQSkX5kAhK65AT/EBQbElikAycxlBrOkIQRZnDkGX6e9Ay0kTQXnx8kAfrPJAC1EIQbDVB0HSThJBp24DQa/XB0HsgQtBc8zOQN4dwECRDiJBmQjlQByfE0F1d+1APF7fQI4wAkElhvtAjMsaQTNwvkBlnAhB93sDQSzZq0CKsBpBdVe2QFI43UBxpwxB6Q+DQKUdIUH7zgFBdh0WQeK6zkBGegFB1q8OQQufF0Gl/IZAYVvoQP07ykD/b9tAteahQBcZ40BYaRJBgXQeQaU8FkEASAlBwxbMQFcwqECN6A5BjbkHQWiLBkGCh+VA64TQQItM4kCyL8RA7UX5QGDJEEFDQtFAawEEQazr9kDytoxAUavHQHfHrkDJseJAHyUCQX6voEAbj+hAbxvzQMqgB0F+7QlB350NQXpXyEB+YflAo0oFQQsVo0C2TBZBZWjaQOpK2EB62N5AEdrsQCtkwUDK9PpA7NSeQNxGBEF+UPtA/1ACQTeX0kAR8/tAkG8hQQ8pDUHpufpAfHakQAiS20AXZNJA18bxQE+ZBUFJtNlAzL7kQNxyGkHNv/xA4azVQCnrv0Aav+dA0sf0QIam40C03vRA2KoIQZYzF0FJfLFAZxwQQQbgFkHTcKRAEsfRQNxDGUGg3BNBcnqtQGWM40AD6qxAyeb8QPeQ0UCBrtBAXxaJQGNTAkFlT8tANNULQfrsuUAlMQRB3KTjQEAYl0BDcPBAyNr0QASMD0HdBtVA3EPVQIA8sEDQBg1Bhc3PQArvFkEDOu1AHjOPQMlyAUHnvNdAwG6jQPLpz0Af/PtAqbkAQVaOCkEvqrtAKYUTQfru40D2hwZBah7ZQLBmGkESfsxA9sYNQdNN5UCaPeBAJhW7QCvxEUF4sgVBhfHpQOyBAEFutAlBW7wWQZAd7UC7kvJAEs3TQNAACkEiQPhA7sijQC7byEC94AlB/CYbQeya3EAufA9BjkvzQD0UBkEZ7q1Aqh4HQaU2GEHabRRBjKjwQALTAkGkf9JAMpQNQexQ9UCeax5BT/v+QNrctkD+Rd9A/AaaQAFPEEE1SLJAGZ7zQIHFCEGPksFAOeT/QDLezECZdQ5BPKcDQU6C1ECFxB1BdAfzQPNxFEF0YdpA24iOQCFetkCnMdxAynqaQN+n2UAV+gNBLPkPQfwvGUGfm71AgjwSQVT3uUBwWudAp5YWQbL5CEGKbshAkP6zQKT6D0FQwxtBjfUeQRGDqUCCRwhBJu/pQOHCGkEDnttAd50BQSoPwUAist9ATsjBQNeZ5EDLRhNB90nRQKXUsUC2s9JAZvn/QEq0zUAcvb1ACqoAQX83r0AQId9AtHyaQGax9EB379VAODivQMpC6UCqlAJBmlunQNQK5EDrwghBXO3AQCfoyEAKP/hAj3faQDLavkCQNuZAs7TyQAP4q0BFvRtBI3DFQI8rDEFNHxBBQRnDQCeKC0EYh7dATdrdQG+hn0Dk8LlAGX7uQI1fu0A=\"},\"shape\":[5000],\"dtype\":\"float32\",\"order\":\"little\"}],[\"y\",{\"type\":\"ndarray\",\"array\":{\"type\":\"bytes\",\"data\":\"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\"},\"shape\":[5000],\"dtype\":\"float32\",\"order\":\"little\"}],[\"color\",[\"blue\",\"blue\",\"blue\",\"blue\",\"blue\",\"blue\",\"blue\",\"blue\",\"blue\",\"blue\",\"blue\",\"blue\",\"blue\",\"blue\",\"blue\",\"blue\",\"blue\",\"blue\",\"blue\",\"blue\",\"blue\",\"blue\",\"blue\",\"blue\",\"blue\",\"blue\",\"blue\",\"blue\",\"blue\",\"blue\",\"blue\",\"blue\",\"blue\",\"blue\",\"blue\",\"blue\",\"blue\",\"blue\",\"blue\",\"blue\",\"blue\",\"blue\",\"blue\",\"blue\",\"blue\",\"blue\",\"blue\",\"blue\",\"blue\",\"blue\",\"blue\",\"blue\",\"blue\",\"blue\",\"blue\",\"blue\",\"blue\",\"blue\",\"blue\",\"blue\",\"blue\",\"blue\",\"blue\",\"blue\",\"blue\",\"blue\",\"blue\",\"blue\",\"blue\",\"blue\",\"blue\",\"blue\",\"blue\",\"blue\",\"blue\",\"blue\",\"blue\",\"blue\",\"blue\",\"blue\",\"blue\",\"blue\",\"blue\",\"blue\",\"blue\",\"blue\",\"blue\",\"blue\",\"blue\",\"blue\",\"blue\",\"blue\",\"blue\",\"blue\",\"blue\",\"blue\",\"blue\",\"blue\",\"blue\",\"blue\",\"blue\",\"blue\",\"blue\",\"blue\",\"blue\",\"blue\",\"blue\",\"blue\",\"blue\",\"blue\",\"blue\",\"blue\",\"blue\",\"blue\",\"blue\",\"blue\",\"blue\",\"blue\",\"blue\",\"blue\",\"blue\",\"blue\",\"blue\",\"blue\",\"blue\",\"blue\",\"blue\",\"blue\",\"blue\",\"blue\",\"blue\",\"blue\",\"blue\",\"blue\",\"blue\",\"blue\",\"blue\",\"blue\",\"blue\",\"blue\",\"blue\",\"blue\",\"blue\",\"blue\",\"blue\",\"blue\",\"blue\",\"blue\",\"blue\",\"blue\",\"blue\",\"blue\",\"blue\",\"blue\",\"blue\",\"blue\",\"blue\",\"blue\",\"blue\",\"blue\",\"blue\",\"blue\",\"blue\",\"blue\",\"blue\",\"blue\",\"blue\",\"blue\",\"blue\",\"blue\",\"blue\",\"blue\",\"blue\",\"blue\",\"blue\",\"blue\",\"blue\",\"blue\",\"blue\",\"blue\",\"blue\",\"blue\",\"blue\",\"blue\",\"blue\",\"blue\",\"blue\",\"blue\",\"blue\",\"blue\",\"blue\",\"blue\",\"blue\",\"blue\",\"blue\",\"blue\",\"blue\",\"blue\",\"blue\",\"blue\",\"blue\",\"blue\",\"blue\",\"blue\",\"blue\",\"blue\",\"blue\",\"blue\",\"blue\",\"blue\",\"blue\",\"blue\",\"blue\",\"blue\",\"blue\",\"blue\",\"blue\",\"blue\",\"blue\",\"blue\",\"blue\",\"blue\",\"blue\",\"blue\",\"blue\",\"blue\",\"blue\",\"blue\",\"blue\",\"blue\",\"blue\",\"blue\",\"blue\",\"blue\",\"blue\",\"blue\",\"blue\",\"blue\",\"blue\",\"blue\",\"blue\",\"blue\",\"blue\",\"blue\",\"blue\",\"blue\",\"blue\",\"blue\",\"blue\",\"blue\",\"blue\",\"blue\",\"blue\",\"blue\",\"blue\",\"blue\",\"blue\",\"blue\",\"blue\",\"blue\",\"blue\",\"blue\",\"blue\",\"blue\",\"blue\",\"blue\",\"blue\",\"blue\",\"blue\",\"blue\",\"blue\",\"blue\",\"blue\",\"blue\",\"blue\",\"blue\",\"blue\",\"blue\",\"blue\",\"blue\",\"blue\",\"blue\",\"blue\",\"blue\",\"blue\",\"blue\",\"blue\",\"blue\",\"blue\",\"blue\",\"blue\",\"blue\",\"blue\",\"blue\",\"blue\",\"blue\",\"blue\",\"blue\",\"blue\",\"blue\",\"blue\",\"blue\",\"blue\",\"blue\",\"blue\",\"blue\",\"blue\",\"blue\",\"blue\",\"blue\",\"blue\",\"blue\",\"blue\",\"blue\",\"blue\",\"blue\",\"blue\",\"blue\",\"blue\",\"blue\",\"blue\",\"blue\",\"blue\",\"blue\",\"blue\",\"blue\",\"blue\",\"blue\",\"blue\",\"blue\",\"blue\",\"blue\",\"blue\",\"blue\",\"blue\",\"blue\",\"blue\",\"blue\",\"blue\",\"blue\",\"blue\",\"blue\",\"blue\",\"blue\",\"blue\",\"blue\",\"blue\",\"blue\",\"blue\",\"blue\",\"blue\",\"blue\",\"blue\",\"blue\",\"blue\",\"blue\",\"blue\",\"blue\",\"blue\",\"blue\",\"blue\",\"blue\",\"blue\",\"blue\",\"blue\",\"blue\",\"blue\",\"blue\",\"blue\",\"blue\",\"blue\",\"blue\",\"blue\",\"blue\",\"blue\",\"blue\",\"blue\",\"blue\",\"blue\",\"blue\",\"blue\",\"blue\",\"blue\",\"blue\",\"blue\",\"blue\",\"blue\",\"blue\",\"blue\",\"blue\",\"blue\",\"blue\",\"blue\",\"blue\",\"blue\",\"blue\",\"blue\",\"blue\",\"blue\",\"blue\",\"blue\",\"blue\",\"blue\",\"blue\",\"blue\",\"blue\",\"blue\",\"blue\",\"blue\",\"blue\",\"blue\",\"blue\",\"blue\",\"blue\",\"blue\",\"blue\",\"blue\",\"blue\",\"blue\",\"blue\",\"blue\",\"blue\",\"blue\",\"blue\",\"blue\",\"blue\",\"blue\",\"blue\",\"blue\",\"blue\",\"blue\",\"blue\",\"blue\",\"blue\",\"blue\",\"blue\",\"blue\",\"blue\",\"blue\",\"blue\",\"blue\",\"blue\",\"blue\",\"blue\",\"blue\",\"blue\",\"blue\",\"blue\",\"blue\",\"blue\",\"blue\",\"blue\",\"blue\",\"blue\",\"blue\",\"blue\",\"blue\",\"blue\",\"blue\",\"blue\",\"blue\",\"blue\",\"blue\",\"blue\",\"blue\",\"blue\",\"blue\",\"blue\",\"blue\",\"blue\",\"blue\",\"blue\",\"blue\",\"blue\",\"blue\",\"blue\",\"blue\",\"blue\",\"blue\",\"blue\",\"blue\",\"blue\",\"blue\",\"blue\",\"blue\",\"blue\",\"blue\",\"blue\",\"blue\",\"blue\",\"blue\",\"blue\",\"blue\",\"blue\",\"blue\",\"blue\",\"blue\",\"blue\",\"blue\",\"blue\",\"blue\",\"blue\",\"blue\",\"blue\",\"blue\",\"blue\",\"blue\",\"blue\",\"blue\",\"blue\",\"blue\",\"blue\",\"blue\",\"blue\",\"blue\",\"blue\",\"blue\",\"blue\",\"blue\",\"blue\",\"blue\",\"blue\",\"blue\",\"blue\",\"blue\",\"blue\",\"blue\",\"blue\",\"blue\",\"blue\",\"blue\",\"blue\",\"blue\",\"blue\",\"blue\",\"blue\",\"blue\",\"blue\",\"blue\",\"blue\",\"blue\",\"blue\",\"blue\",\"blue\",\"blue\",\"blue\",\"blue\",\"blue\",\"blue\",\"blue\",\"blue\",\"blue\",\"blue\",\"blue\",\"blue\",\"blue\",\"blue\",\"blue\",\"blue\",\"blue\",\"blue\",\"blue\",\"blue\",\"blue\",\"blue\",\"blue\",\"blue\",\"blue\",\"blue\",\"blue\",\"blue\",\"blue\",\"blue\",\"blue\",\"blue\",\"blue\",\"blue\",\"blue\",\"blue\",\"blue\",\"blue\",\"blue\",\"blue\",\"blue\",\"blue\",\"blue\",\"blue\",\"blue\",\"blue\",\"blue\",\"blue\",\"blue\",\"blue\",\"blue\",\"blue\",\"blue\",\"blue\",\"blue\",\"blue\",\"blue\",\"blue\",\"blue\",\"blue\",\"blue\",\"blue\",\"blue\",\"blue\",\"blue\",\"blue\",\"blue\",\"blue\",\"blue\",\"blue\",\"blue\",\"blue\",\"blue\",\"blue\",\"blue\",\"blue\",\"blue\",\"blue\",\"blue\",\"blue\",\"blue\",\"blue\",\"blue\",\"blue\",\"blue\",\"blue\",\"blue\",\"blue\",\"blue\",\"blue\",\"blue\",\"blue\",\"blue\",\"blue\",\"blue\",\"blue\",\"blue\",\"blue\",\"blue\",\"blue\",\"blue\",\"blue\",\"blue\",\"blue\",\"blue\",\"blue\",\"blue\",\"blue\",\"blue\",\"blue\",\"blue\",\"blue\",\"blue\",\"blue\",\"blue\",\"blue\",\"blue\",\"blue\",\"blue\",\"blue\",\"blue\",\"blue\",\"blue\",\"blue\",\"blue\",\"blue\",\"blue\",\"blue\",\"blue\",\"blue\",\"blue\",\"blue\",\"blue\",\"blue\",\"blue\",\"blue\",\"blue\",\"blue\",\"blue\",\"blue\",\"blue\",\"blue\",\"blue\",\"blue\",\"blue\",\"blue\",\"blue\",\"blue\",\"blue\",\"blue\",\"blue\",\"blue\",\"blue\",\"blue\",\"blue\",\"blue\",\"blue\",\"blue\",\"blue\",\"blue\",\"blue\",\"blue\",\"blue\",\"blue\",\"blue\",\"blue\",\"blue\",\"blue\",\"blue\",\"blue\",\"blue\",\"blue\",\"blue\",\"blue\",\"blue\",\"blue\",\"blue\",\"blue\",\"blue\",\"blue\",\"blue\",\"blue\",\"blue\",\"blue\",\"blue\",\"blue\",\"blue\",\"blue\",\"blue\",\"blue\",\"blue\",\"blue\",\"blue\",\"blue\",\"blue\",\"blue\",\"blue\",\"blue\",\"blue\",\"blue\",\"blue\",\"blue\",\"blue\",\"blue\",\"blue\",\"blue\",\"blue\",\"blue\",\"blue\",\"blue\",\"blue\",\"blue\",\"blue\",\"blue\",\"blue\",\"blue\",\"blue\",\"blue\",\"blue\",\"blue\",\"blue\",\"blue\",\"blue\",\"blue\",\"blue\",\"blue\",\"blue\",\"blue\",\"blue\",\"blue\",\"blue\",\"blue\",\"blue\",\"blue\",\"blue\",\"blue\",\"blue\",\"blue\",\"blue\",\"blue\",\"blue\",\"blue\",\"blue\",\"blue\",\"blue\",\"blue\",\"blue\",\"blue\",\"blue\",\"blue\",\"blue\",\"blue\",\"blue\",\"blue\",\"blue\",\"blue\",\"blue\",\"blue\",\"blue\",\"blue\",\"blue\",\"blue\",\"blue\",\"blue\",\"blue\",\"blue\",\"blue\",\"blue\",\"blue\",\"blue\",\"blue\",\"blue\",\"blue\",\"blue\",\"blue\",\"blue\",\"blue\",\"blue\",\"blue\",\"blue\",\"blue\",\"blue\",\"blue\",\"blue\",\"blue\",\"blue\",\"blue\",\"blue\",\"blue\",\"blue\",\"blue\",\"blue\",\"blue\",\"blue\",\"blue\",\"blue\",\"blue\",\"blue\",\"blue\",\"blue\",\"blue\",\"blue\",\"blue\",\"blue\",\"blue\",\"blue\",\"blue\",\"blue\",\"blue\",\"blue\",\"blue\",\"blue\",\"blue\",\"blue\",\"blue\",\"blue\",\"blue\",\"blue\",\"blue\",\"blue\",\"blue\",\"blue\",\"blue\",\"blue\",\"blue\",\"blue\",\"blue\",\"blue\",\"blue\",\"blue\",\"blue\",\"blue\",\"blue\",\"blue\",\"blue\",\"blue\",\"blue\",\"blue\",\"blue\",\"blue\",\"blue\",\"blue\",\"blue\",\"blue\",\"blue\",\"blue\",\"blue\",\"blue\",\"blue\",\"blue\",\"blue\",\"blue\",\"blue\",\"blue\",\"blue\",\"blue\",\"blue\",\"blue\",\"blue\",\"blue\",\"blue\",\"blue\",\"blue\",\"blue\",\"blue\",\"blue\",\"blue\",\"blue\",\"blue\",\"blue\",\"blue\",\"blue\",\"blue\",\"blue\",\"blue\",\"blue\",\"blue\",\"blue\",\"blue\",\"blue\",\"blue\",\"blue\",\"blue\",\"blue\",\"blue\",\"blue\",\"blue\",\"blue\",\"blue\",\"blue\",\"blue\",\"blue\",\"blue\",\"blue\",\"blue\",\"blue\",\"blue\",\"blue\",\"blue\",\"blue\",\"blue\",\"blue\",\"blue\",\"blue\",\"blue\",\"blue\",\"blue\",\"blue\",\"blue\",\"blue\",\"blue\",\"blue\",\"blue\",\"blue\",\"blue\",\"blue\",\"blue\",\"blue\",\"blue\",\"blue\",\"blue\",\"blue\",\"blue\",\"blue\",\"blue\",\"blue\",\"blue\",\"blue\",\"blue\",\"blue\",\"blue\",\"blue\",\"blue\",\"blue\",\"blue\",\"blue\",\"blue\",\"blue\",\"blue\",\"blue\",\"blue\",\"blue\",\"blue\",\"blue\",\"blue\",\"blue\",\"blue\",\"blue\",\"blue\",\"blue\",\"blue\",\"blue\",\"blue\",\"blue\",\"blue\",\"blue\",\"blue\",\"blue\",\"blue\",\"blue\",\"blue\",\"blue\",\"blue\",\"blue\",\"blue\",\"blue\",\"blue\",\"blue\",\"blue\",\"blue\",\"blue\",\"blue\",\"blue\",\"blue\",\"blue\",\"blue\",\"blue\",\"blue\",\"blue\",\"blue\",\"blue\",\"blue\",\"blue\",\"blue\",\"blue\",\"blue\",\"blue\",\"blue\",\"blue\",\"blue\",\"blue\",\"blue\",\"blue\",\"blue\",\"blue\",\"blue\",\"blue\",\"blue\",\"blue\",\"blue\",\"blue\",\"blue\",\"blue\",\"blue\",\"blue\",\"blue\",\"blue\",\"blue\",\"blue\",\"blue\",\"blue\",\"blue\",\"blue\",\"blue\",\"blue\",\"blue\",\"blue\",\"blue\",\"blue\",\"blue\",\"blue\",\"blue\",\"blue\",\"blue\",\"blue\",\"blue\",\"blue\",\"blue\",\"blue\",\"blue\",\"blue\",\"blue\",\"blue\",\"blue\",\"blue\",\"blue\",\"blue\",\"blue\",\"blue\",\"blue\",\"blue\",\"blue\",\"blue\",\"blue\",\"blue\",\"blue\",\"blue\",\"blue\",\"blue\",\"blue\",\"blue\",\"blue\",\"blue\",\"blue\",\"blue\",\"blue\",\"blue\",\"blue\",\"blue\",\"blue\",\"blue\",\"blue\",\"blue\",\"blue\",\"blue\",\"blue\",\"blue\",\"blue\",\"blue\",\"blue\",\"blue\",\"blue\",\"blue\",\"blue\",\"blue\",\"blue\",\"blue\",\"blue\",\"blue\",\"blue\",\"blue\",\"blue\",\"blue\",\"blue\",\"blue\",\"blue\",\"blue\",\"blue\",\"blue\",\"blue\",\"blue\",\"blue\",\"blue\",\"blue\",\"blue\",\"blue\",\"blue\",\"blue\",\"blue\",\"blue\",\"blue\",\"blue\",\"blue\",\"blue\",\"blue\",\"blue\",\"blue\",\"blue\",\"blue\",\"blue\",\"blue\",\"blue\",\"blue\",\"blue\",\"blue\",\"blue\",\"blue\",\"blue\",\"blue\",\"blue\",\"blue\",\"blue\",\"blue\",\"blue\",\"blue\",\"blue\",\"blue\",\"blue\",\"blue\",\"blue\",\"blue\",\"blue\",\"blue\",\"blue\",\"blue\",\"blue\",\"blue\",\"blue\",\"blue\",\"blue\",\"blue\",\"blue\",\"blue\",\"blue\",\"blue\",\"blue\",\"blue\",\"blue\",\"blue\",\"blue\",\"blue\",\"blue\",\"blue\",\"blue\",\"blue\",\"blue\",\"blue\",\"blue\",\"blue\",\"blue\",\"blue\",\"blue\",\"blue\",\"blue\",\"blue\",\"blue\",\"blue\",\"blue\",\"blue\",\"blue\",\"blue\",\"blue\",\"blue\",\"blue\",\"blue\",\"blue\",\"blue\",\"blue\",\"blue\",\"blue\",\"blue\",\"blue\",\"blue\",\"blue\",\"blue\",\"blue\",\"blue\",\"blue\",\"blue\",\"blue\",\"blue\",\"blue\",\"blue\",\"blue\",\"blue\",\"blue\",\"blue\",\"blue\",\"blue\",\"blue\",\"blue\",\"blue\",\"blue\",\"blue\",\"blue\",\"blue\",\"blue\",\"blue\",\"blue\",\"blue\",\"blue\",\"blue\",\"blue\",\"blue\",\"blue\",\"blue\",\"blue\",\"blue\",\"blue\",\"blue\",\"blue\",\"blue\",\"blue\",\"blue\",\"blue\",\"blue\",\"blue\",\"blue\",\"blue\",\"blue\",\"blue\",\"blue\",\"blue\",\"blue\",\"blue\",\"blue\",\"blue\",\"blue\",\"blue\",\"blue\",\"blue\",\"blue\",\"blue\",\"blue\",\"blue\",\"blue\",\"blue\",\"blue\",\"blue\",\"blue\",\"blue\",\"blue\",\"blue\",\"blue\",\"blue\",\"blue\",\"blue\",\"blue\",\"blue\",\"blue\",\"blue\",\"blue\",\"blue\",\"blue\",\"blue\",\"blue\",\"blue\",\"blue\",\"blue\",\"blue\",\"blue\",\"blue\",\"blue\",\"blue\",\"blue\",\"blue\",\"blue\",\"blue\",\"blue\",\"blue\",\"blue\",\"blue\",\"blue\",\"blue\",\"blue\",\"blue\",\"blue\",\"blue\",\"blue\",\"blue\",\"blue\",\"blue\",\"blue\",\"blue\",\"blue\",\"blue\",\"blue\",\"blue\",\"blue\",\"blue\",\"blue\",\"blue\",\"blue\",\"blue\",\"blue\",\"blue\",\"blue\",\"blue\",\"blue\",\"blue\",\"blue\",\"blue\",\"blue\",\"blue\",\"blue\",\"blue\",\"blue\",\"blue\",\"blue\",\"blue\",\"blue\",\"blue\",\"blue\",\"blue\",\"blue\",\"blue\",\"blue\",\"blue\",\"blue\",\"blue\",\"blue\",\"blue\",\"blue\",\"blue\",\"blue\",\"blue\",\"blue\",\"blue\",\"blue\",\"blue\",\"blue\",\"blue\",\"blue\",\"blue\",\"blue\",\"blue\",\"blue\",\"blue\",\"blue\",\"blue\",\"blue\",\"blue\",\"blue\",\"blue\",\"blue\",\"blue\",\"blue\",\"blue\",\"blue\",\"blue\",\"blue\",\"blue\",\"blue\",\"blue\",\"blue\",\"blue\",\"blue\",\"blue\",\"blue\",\"blue\",\"blue\",\"blue\",\"blue\",\"blue\",\"blue\",\"blue\",\"blue\",\"blue\",\"blue\",\"blue\",\"blue\",\"blue\",\"blue\",\"blue\",\"blue\",\"blue\",\"blue\",\"blue\",\"blue\",\"blue\",\"blue\",\"blue\",\"blue\",\"blue\",\"blue\",\"blue\",\"blue\",\"blue\",\"blue\",\"blue\",\"blue\",\"blue\",\"blue\",\"blue\",\"blue\",\"blue\",\"blue\",\"blue\",\"blue\",\"blue\",\"blue\",\"blue\",\"blue\",\"blue\",\"blue\",\"blue\",\"blue\",\"blue\",\"blue\",\"blue\",\"blue\",\"blue\",\"blue\",\"blue\",\"blue\",\"blue\",\"blue\",\"blue\",\"blue\",\"blue\",\"blue\",\"blue\",\"blue\",\"blue\",\"blue\",\"blue\",\"blue\",\"blue\",\"blue\",\"blue\",\"blue\",\"blue\",\"blue\",\"blue\",\"blue\",\"blue\",\"blue\",\"blue\",\"blue\",\"blue\",\"blue\",\"blue\",\"blue\",\"blue\",\"blue\",\"blue\",\"blue\",\"blue\",\"blue\",\"blue\",\"blue\",\"blue\",\"blue\",\"blue\",\"blue\",\"blue\",\"blue\",\"blue\",\"blue\",\"blue\",\"blue\",\"blue\",\"blue\",\"blue\",\"blue\",\"blue\",\"blue\",\"blue\",\"blue\",\"blue\",\"blue\",\"blue\",\"blue\",\"blue\",\"blue\",\"blue\",\"blue\",\"blue\",\"blue\",\"blue\",\"blue\",\"blue\",\"blue\",\"blue\",\"blue\",\"blue\",\"blue\",\"blue\",\"blue\",\"blue\",\"blue\",\"blue\",\"blue\",\"blue\",\"blue\",\"blue\",\"blue\",\"blue\",\"blue\",\"blue\",\"blue\",\"blue\",\"blue\",\"blue\",\"blue\",\"blue\",\"blue\",\"blue\",\"blue\",\"blue\",\"blue\",\"blue\",\"blue\",\"blue\",\"blue\",\"blue\",\"blue\",\"blue\",\"blue\",\"blue\",\"blue\",\"blue\",\"blue\",\"blue\",\"blue\",\"blue\",\"blue\",\"blue\",\"blue\",\"blue\",\"blue\",\"blue\",\"blue\",\"blue\",\"blue\",\"blue\",\"blue\",\"blue\",\"blue\",\"blue\",\"blue\",\"blue\",\"blue\",\"blue\",\"blue\",\"blue\",\"blue\",\"blue\",\"blue\",\"blue\",\"blue\",\"blue\",\"blue\",\"blue\",\"blue\",\"blue\",\"blue\",\"blue\",\"blue\",\"blue\",\"blue\",\"blue\",\"blue\",\"blue\",\"blue\",\"blue\",\"blue\",\"blue\",\"blue\",\"blue\",\"blue\",\"blue\",\"blue\",\"blue\",\"blue\",\"blue\",\"blue\",\"blue\",\"blue\",\"blue\",\"blue\",\"blue\",\"blue\",\"blue\",\"blue\",\"blue\",\"blue\",\"blue\",\"blue\",\"blue\",\"blue\",\"blue\",\"blue\",\"blue\",\"blue\",\"blue\",\"blue\",\"blue\",\"blue\",\"blue\",\"blue\",\"blue\",\"blue\",\"blue\",\"blue\",\"blue\",\"blue\",\"blue\",\"blue\",\"blue\",\"blue\",\"blue\",\"blue\",\"blue\",\"blue\",\"blue\",\"blue\",\"blue\",\"blue\",\"blue\",\"blue\",\"blue\",\"blue\",\"blue\",\"blue\",\"blue\",\"blue\",\"blue\",\"blue\",\"blue\",\"blue\",\"blue\",\"blue\",\"blue\",\"blue\",\"blue\",\"blue\",\"blue\",\"blue\",\"blue\",\"blue\",\"blue\",\"blue\",\"blue\",\"blue\",\"blue\",\"blue\",\"blue\",\"blue\",\"blue\",\"blue\",\"blue\",\"blue\",\"blue\",\"blue\",\"blue\",\"blue\",\"blue\",\"blue\",\"blue\",\"blue\",\"blue\",\"blue\",\"blue\",\"blue\",\"blue\",\"blue\",\"blue\",\"blue\",\"blue\",\"blue\",\"blue\",\"blue\",\"blue\",\"blue\",\"blue\",\"blue\",\"blue\",\"blue\",\"blue\",\"blue\",\"blue\",\"blue\",\"blue\",\"blue\",\"blue\",\"blue\",\"blue\",\"blue\",\"blue\",\"blue\",\"blue\",\"blue\",\"blue\",\"blue\",\"blue\",\"blue\",\"blue\",\"blue\",\"blue\",\"blue\",\"blue\",\"blue\",\"blue\",\"blue\",\"blue\",\"blue\",\"blue\",\"blue\",\"blue\",\"blue\",\"blue\",\"blue\",\"blue\",\"blue\",\"blue\",\"blue\",\"blue\",\"blue\",\"blue\",\"blue\",\"blue\",\"blue\",\"blue\",\"blue\",\"blue\",\"blue\",\"blue\",\"blue\",\"blue\",\"blue\",\"blue\",\"blue\",\"blue\",\"blue\",\"blue\",\"blue\",\"blue\",\"blue\",\"blue\",\"blue\",\"blue\",\"blue\",\"blue\",\"blue\",\"blue\",\"blue\",\"blue\",\"blue\",\"blue\",\"blue\",\"blue\",\"blue\",\"blue\",\"blue\",\"blue\",\"blue\",\"blue\",\"blue\",\"blue\",\"blue\",\"blue\",\"blue\",\"blue\",\"blue\",\"blue\",\"blue\",\"blue\",\"blue\",\"blue\",\"blue\",\"blue\",\"blue\",\"blue\",\"blue\",\"blue\",\"blue\",\"blue\",\"blue\",\"blue\",\"blue\",\"blue\",\"blue\",\"blue\",\"blue\",\"blue\",\"blue\",\"blue\",\"blue\",\"blue\",\"blue\",\"blue\",\"blue\",\"blue\",\"blue\",\"blue\",\"blue\",\"blue\",\"blue\",\"blue\",\"blue\",\"blue\",\"blue\",\"blue\",\"blue\",\"blue\",\"blue\",\"blue\",\"blue\",\"blue\",\"blue\",\"blue\",\"blue\",\"blue\",\"blue\",\"blue\",\"blue\",\"blue\",\"blue\",\"blue\",\"blue\",\"blue\",\"blue\",\"blue\",\"blue\",\"blue\",\"blue\",\"blue\",\"blue\",\"blue\",\"blue\",\"blue\",\"blue\",\"blue\",\"blue\",\"blue\",\"blue\",\"blue\",\"blue\",\"blue\",\"blue\",\"blue\",\"blue\",\"blue\",\"blue\",\"blue\",\"blue\",\"blue\",\"blue\",\"blue\",\"blue\",\"blue\",\"blue\",\"blue\",\"blue\",\"blue\",\"blue\",\"blue\",\"blue\",\"blue\",\"blue\",\"blue\",\"blue\",\"blue\",\"blue\",\"blue\",\"blue\",\"blue\",\"blue\",\"blue\",\"blue\",\"blue\",\"blue\",\"blue\",\"blue\",\"blue\",\"blue\",\"blue\",\"blue\",\"blue\",\"blue\",\"blue\",\"blue\",\"blue\",\"blue\",\"blue\",\"blue\",\"blue\",\"blue\",\"blue\",\"blue\",\"blue\",\"blue\",\"blue\",\"blue\",\"blue\",\"blue\",\"blue\",\"blue\",\"blue\",\"blue\",\"blue\",\"blue\",\"blue\",\"blue\",\"blue\",\"blue\",\"blue\",\"blue\",\"blue\",\"blue\",\"blue\",\"blue\",\"blue\",\"blue\",\"blue\",\"blue\",\"blue\",\"blue\",\"blue\",\"blue\",\"blue\",\"blue\",\"blue\",\"blue\",\"blue\",\"blue\",\"blue\",\"blue\",\"blue\",\"blue\",\"blue\",\"blue\",\"blue\",\"blue\",\"blue\",\"blue\",\"blue\",\"blue\",\"blue\",\"blue\",\"blue\",\"blue\",\"blue\",\"blue\",\"blue\",\"blue\",\"blue\",\"blue\",\"blue\",\"blue\",\"blue\",\"blue\",\"blue\",\"blue\",\"blue\",\"blue\",\"blue\",\"blue\",\"blue\",\"blue\",\"blue\",\"blue\",\"blue\",\"blue\",\"blue\",\"blue\",\"blue\",\"blue\",\"blue\",\"blue\",\"blue\",\"blue\",\"blue\",\"blue\",\"blue\",\"blue\",\"blue\",\"blue\",\"blue\",\"blue\",\"blue\",\"blue\",\"blue\",\"blue\",\"blue\",\"blue\",\"blue\",\"blue\",\"blue\",\"blue\",\"blue\",\"blue\",\"blue\",\"blue\",\"blue\",\"blue\",\"blue\",\"blue\",\"blue\",\"blue\",\"blue\",\"blue\",\"blue\",\"blue\",\"blue\",\"blue\",\"blue\",\"blue\",\"blue\",\"blue\",\"blue\",\"blue\",\"blue\",\"blue\",\"blue\",\"blue\",\"blue\",\"blue\",\"blue\",\"blue\",\"blue\",\"blue\",\"blue\",\"blue\",\"blue\",\"blue\",\"blue\",\"blue\",\"blue\",\"blue\",\"blue\",\"blue\",\"blue\",\"blue\",\"blue\",\"blue\",\"blue\",\"blue\",\"blue\",\"blue\",\"blue\",\"blue\",\"blue\",\"blue\",\"blue\",\"blue\",\"blue\",\"blue\",\"blue\",\"blue\",\"blue\",\"blue\",\"blue\",\"blue\",\"blue\",\"blue\",\"blue\",\"blue\",\"blue\",\"blue\",\"blue\",\"blue\",\"blue\",\"blue\",\"blue\",\"blue\",\"blue\",\"blue\",\"blue\",\"blue\",\"blue\",\"blue\",\"blue\",\"blue\",\"blue\",\"blue\",\"blue\",\"blue\",\"blue\",\"blue\",\"blue\",\"blue\",\"blue\",\"blue\",\"blue\",\"blue\",\"blue\",\"blue\",\"blue\",\"blue\",\"blue\",\"blue\",\"blue\",\"blue\",\"blue\",\"blue\",\"blue\",\"blue\",\"blue\",\"blue\",\"blue\",\"blue\",\"blue\",\"blue\",\"blue\",\"blue\",\"blue\",\"blue\",\"blue\",\"blue\",\"blue\",\"blue\",\"blue\",\"blue\",\"blue\",\"blue\",\"blue\",\"blue\",\"blue\",\"blue\",\"blue\",\"blue\",\"blue\",\"blue\",\"blue\",\"blue\",\"blue\",\"blue\",\"blue\",\"blue\",\"blue\",\"blue\",\"blue\",\"blue\",\"blue\",\"blue\",\"blue\",\"blue\",\"blue\",\"blue\",\"blue\",\"blue\",\"blue\",\"blue\",\"blue\",\"blue\",\"blue\",\"blue\",\"blue\",\"blue\",\"blue\",\"blue\",\"blue\",\"blue\",\"blue\",\"blue\",\"blue\",\"blue\",\"blue\",\"blue\",\"blue\",\"blue\",\"blue\",\"blue\",\"blue\",\"blue\",\"blue\",\"blue\",\"blue\",\"blue\",\"blue\",\"blue\",\"blue\",\"blue\",\"blue\",\"blue\",\"blue\",\"blue\",\"blue\",\"blue\",\"blue\",\"blue\",\"blue\",\"blue\",\"blue\",\"blue\",\"blue\",\"blue\",\"blue\",\"blue\",\"blue\",\"blue\",\"blue\",\"blue\",\"blue\",\"blue\",\"blue\",\"blue\",\"blue\",\"blue\",\"blue\",\"blue\",\"blue\",\"blue\",\"blue\",\"blue\",\"blue\",\"blue\",\"blue\",\"blue\",\"blue\",\"blue\",\"blue\",\"blue\",\"blue\",\"blue\",\"blue\",\"blue\",\"blue\",\"blue\",\"blue\",\"blue\",\"blue\",\"blue\",\"blue\",\"blue\",\"blue\",\"blue\",\"blue\",\"blue\",\"blue\",\"blue\",\"blue\",\"blue\",\"blue\",\"blue\",\"blue\",\"blue\",\"blue\",\"blue\",\"blue\",\"blue\",\"blue\",\"blue\",\"blue\",\"blue\",\"blue\",\"blue\",\"blue\",\"blue\",\"blue\",\"blue\",\"blue\",\"blue\",\"blue\",\"blue\",\"blue\",\"blue\",\"blue\",\"blue\",\"blue\",\"blue\",\"blue\",\"blue\",\"blue\",\"blue\",\"blue\",\"blue\",\"blue\",\"blue\",\"blue\",\"blue\",\"blue\",\"blue\",\"blue\",\"blue\",\"blue\",\"blue\",\"blue\",\"blue\",\"blue\",\"blue\",\"blue\",\"blue\",\"blue\",\"blue\",\"blue\",\"blue\",\"blue\",\"blue\",\"blue\",\"blue\",\"blue\",\"blue\",\"blue\",\"blue\",\"blue\",\"blue\",\"blue\",\"blue\",\"blue\",\"blue\",\"blue\",\"blue\",\"blue\",\"blue\",\"blue\",\"blue\",\"blue\",\"blue\",\"blue\",\"blue\",\"blue\",\"blue\",\"blue\",\"blue\",\"blue\",\"blue\",\"blue\",\"blue\",\"blue\",\"blue\",\"blue\",\"blue\",\"blue\",\"blue\",\"blue\",\"blue\",\"blue\",\"blue\",\"blue\",\"blue\",\"blue\",\"blue\",\"blue\",\"blue\",\"blue\",\"blue\",\"blue\",\"blue\",\"blue\",\"blue\",\"blue\",\"blue\",\"blue\",\"blue\",\"blue\",\"blue\",\"blue\",\"blue\",\"blue\",\"blue\",\"blue\",\"blue\",\"blue\",\"blue\",\"blue\",\"blue\",\"blue\",\"blue\",\"blue\",\"blue\",\"blue\",\"blue\",\"blue\",\"blue\",\"blue\",\"blue\",\"blue\",\"blue\",\"blue\",\"blue\",\"blue\",\"blue\",\"blue\",\"blue\",\"blue\",\"blue\",\"blue\",\"blue\",\"blue\",\"blue\",\"blue\",\"blue\",\"blue\",\"blue\",\"blue\",\"blue\",\"blue\",\"blue\",\"blue\",\"blue\",\"blue\",\"blue\",\"blue\",\"blue\",\"blue\",\"blue\",\"blue\",\"blue\",\"blue\",\"blue\",\"blue\",\"blue\",\"blue\",\"blue\",\"blue\",\"blue\",\"blue\",\"blue\",\"blue\",\"blue\",\"blue\",\"blue\",\"blue\",\"blue\",\"blue\",\"blue\",\"blue\",\"blue\",\"blue\",\"blue\",\"blue\",\"blue\",\"blue\",\"blue\",\"blue\",\"blue\",\"blue\",\"blue\",\"blue\",\"blue\",\"blue\",\"blue\",\"blue\",\"blue\",\"blue\",\"blue\",\"blue\",\"blue\",\"blue\",\"blue\",\"blue\",\"blue\",\"blue\",\"blue\",\"blue\",\"blue\",\"blue\",\"blue\",\"blue\",\"blue\",\"blue\",\"blue\",\"blue\",\"blue\",\"blue\",\"blue\",\"blue\",\"blue\",\"blue\",\"blue\",\"blue\",\"blue\",\"blue\",\"blue\",\"blue\",\"blue\",\"blue\",\"blue\",\"blue\",\"blue\",\"blue\",\"blue\",\"blue\",\"blue\",\"blue\",\"blue\",\"blue\",\"blue\",\"blue\",\"blue\",\"blue\",\"blue\",\"blue\",\"blue\",\"blue\",\"blue\",\"blue\",\"blue\",\"blue\",\"blue\",\"blue\",\"blue\",\"blue\",\"blue\",\"blue\",\"blue\",\"blue\",\"blue\",\"blue\",\"blue\",\"blue\",\"blue\",\"blue\",\"blue\",\"blue\",\"blue\",\"blue\",\"blue\",\"blue\",\"blue\",\"blue\",\"blue\",\"blue\",\"blue\",\"blue\",\"blue\",\"blue\",\"blue\",\"blue\",\"blue\",\"blue\",\"blue\",\"blue\",\"blue\",\"blue\",\"blue\",\"blue\",\"blue\",\"blue\",\"blue\",\"blue\",\"blue\",\"blue\",\"blue\",\"blue\",\"blue\",\"blue\",\"blue\",\"blue\",\"blue\",\"blue\",\"blue\",\"blue\",\"blue\",\"blue\",\"blue\",\"blue\",\"blue\",\"blue\",\"blue\",\"blue\",\"blue\",\"blue\",\"blue\",\"blue\",\"blue\",\"blue\",\"blue\",\"blue\",\"blue\",\"blue\",\"blue\",\"blue\",\"blue\",\"blue\",\"blue\",\"blue\",\"blue\",\"blue\",\"blue\",\"blue\",\"blue\",\"blue\",\"blue\",\"blue\",\"blue\",\"blue\",\"blue\",\"blue\",\"blue\",\"blue\",\"blue\",\"blue\",\"blue\",\"blue\",\"blue\",\"blue\",\"blue\",\"blue\",\"blue\",\"blue\",\"blue\",\"blue\",\"blue\",\"blue\",\"blue\",\"blue\",\"blue\",\"blue\",\"blue\",\"blue\",\"blue\",\"blue\",\"blue\",\"blue\",\"blue\",\"blue\",\"blue\",\"blue\",\"blue\",\"blue\",\"blue\",\"blue\",\"blue\",\"blue\",\"blue\",\"blue\",\"blue\",\"blue\",\"blue\",\"blue\",\"blue\",\"blue\",\"blue\",\"blue\",\"blue\",\"blue\",\"blue\",\"blue\",\"blue\",\"blue\",\"blue\",\"blue\",\"blue\",\"blue\",\"blue\",\"blue\",\"blue\",\"blue\",\"blue\",\"blue\",\"blue\",\"blue\",\"blue\",\"blue\",\"blue\",\"blue\",\"blue\",\"blue\",\"blue\",\"blue\",\"blue\",\"blue\",\"blue\",\"blue\",\"blue\",\"blue\",\"blue\",\"blue\",\"blue\",\"blue\",\"blue\",\"blue\",\"blue\",\"blue\",\"blue\",\"blue\",\"blue\",\"blue\",\"blue\",\"blue\",\"blue\",\"blue\",\"blue\",\"blue\",\"blue\",\"blue\",\"blue\",\"blue\",\"blue\",\"blue\",\"blue\",\"blue\",\"blue\",\"blue\",\"blue\",\"blue\",\"blue\",\"blue\",\"blue\",\"blue\",\"blue\",\"blue\",\"blue\",\"blue\",\"blue\",\"blue\",\"blue\",\"blue\",\"blue\",\"blue\",\"blue\",\"blue\",\"blue\",\"blue\",\"blue\",\"blue\",\"blue\",\"blue\",\"blue\",\"blue\",\"blue\",\"blue\",\"blue\",\"blue\",\"blue\",\"blue\",\"blue\",\"blue\",\"blue\",\"blue\",\"blue\",\"blue\",\"blue\",\"blue\",\"blue\",\"blue\",\"blue\",\"blue\",\"blue\",\"blue\",\"blue\",\"blue\",\"blue\",\"blue\",\"blue\",\"blue\",\"blue\",\"blue\",\"blue\",\"blue\",\"blue\",\"blue\",\"blue\",\"blue\",\"blue\",\"blue\",\"blue\",\"blue\",\"blue\",\"blue\",\"blue\",\"blue\",\"blue\",\"blue\",\"blue\",\"blue\",\"blue\",\"blue\",\"blue\",\"blue\",\"blue\",\"blue\",\"blue\",\"blue\",\"blue\",\"blue\",\"blue\",\"blue\",\"blue\",\"blue\",\"blue\",\"blue\",\"blue\",\"blue\",\"blue\",\"blue\",\"blue\",\"blue\",\"blue\",\"blue\",\"blue\",\"blue\",\"blue\",\"blue\",\"blue\",\"blue\",\"blue\",\"blue\",\"blue\",\"blue\",\"blue\",\"blue\",\"blue\",\"blue\",\"blue\",\"blue\",\"blue\",\"blue\",\"blue\",\"blue\",\"blue\",\"blue\",\"blue\",\"blue\",\"blue\",\"blue\",\"blue\",\"blue\",\"blue\",\"blue\",\"blue\",\"blue\",\"blue\",\"blue\",\"blue\",\"blue\",\"blue\",\"blue\",\"blue\",\"blue\",\"blue\",\"blue\",\"blue\",\"blue\",\"blue\",\"blue\",\"blue\",\"blue\",\"blue\",\"blue\",\"blue\",\"blue\",\"blue\",\"blue\",\"blue\",\"blue\",\"blue\",\"blue\",\"blue\",\"blue\",\"blue\",\"blue\",\"blue\",\"blue\",\"blue\",\"blue\",\"blue\",\"blue\",\"blue\",\"blue\",\"blue\",\"blue\",\"blue\",\"blue\",\"blue\",\"blue\",\"blue\",\"blue\",\"blue\",\"blue\",\"blue\",\"blue\",\"blue\",\"blue\",\"blue\",\"blue\",\"blue\",\"blue\",\"blue\",\"blue\",\"blue\",\"blue\",\"blue\",\"blue\",\"blue\",\"blue\",\"blue\",\"blue\",\"blue\",\"blue\",\"blue\",\"blue\",\"blue\",\"blue\",\"blue\",\"blue\",\"blue\",\"blue\",\"blue\",\"blue\",\"blue\",\"blue\",\"blue\",\"blue\",\"blue\",\"blue\",\"blue\",\"blue\",\"blue\",\"blue\",\"blue\",\"blue\",\"blue\",\"blue\",\"blue\",\"blue\",\"blue\",\"blue\",\"blue\",\"blue\",\"blue\",\"blue\",\"blue\",\"blue\",\"blue\",\"blue\",\"blue\",\"blue\",\"blue\",\"blue\",\"blue\",\"blue\",\"blue\",\"blue\",\"blue\",\"blue\",\"blue\",\"blue\",\"blue\",\"blue\",\"blue\",\"blue\",\"blue\",\"blue\",\"blue\",\"blue\",\"blue\",\"blue\",\"blue\",\"blue\",\"blue\",\"blue\",\"blue\",\"blue\",\"blue\",\"blue\",\"blue\",\"blue\",\"blue\",\"blue\",\"blue\",\"blue\",\"blue\",\"blue\",\"blue\",\"blue\",\"blue\",\"blue\",\"blue\",\"blue\",\"blue\",\"blue\",\"blue\",\"blue\",\"blue\",\"blue\",\"blue\",\"blue\",\"blue\",\"blue\",\"blue\",\"blue\",\"blue\",\"blue\",\"blue\",\"blue\",\"blue\",\"blue\",\"blue\",\"blue\",\"blue\",\"blue\",\"blue\",\"blue\",\"blue\",\"blue\",\"blue\",\"blue\",\"blue\",\"blue\",\"blue\",\"blue\",\"blue\",\"blue\",\"blue\",\"blue\",\"blue\",\"blue\",\"blue\",\"blue\",\"blue\",\"blue\",\"blue\",\"blue\",\"blue\",\"blue\",\"blue\",\"blue\",\"blue\",\"blue\",\"blue\",\"blue\",\"blue\",\"blue\",\"blue\",\"blue\",\"blue\",\"blue\",\"blue\",\"blue\",\"blue\",\"blue\",\"blue\",\"blue\",\"blue\",\"blue\",\"blue\",\"blue\",\"blue\",\"blue\",\"blue\",\"blue\",\"blue\",\"blue\",\"blue\",\"blue\",\"blue\",\"blue\",\"blue\",\"blue\",\"blue\",\"blue\",\"blue\",\"blue\",\"blue\",\"blue\",\"blue\",\"blue\",\"blue\",\"blue\",\"blue\",\"blue\",\"blue\",\"blue\",\"blue\",\"blue\",\"blue\",\"blue\",\"blue\",\"blue\",\"blue\",\"blue\",\"blue\",\"blue\",\"blue\",\"blue\",\"blue\",\"blue\",\"blue\",\"blue\",\"blue\",\"blue\",\"blue\",\"blue\",\"blue\",\"blue\",\"blue\",\"blue\",\"blue\",\"blue\",\"blue\",\"blue\",\"blue\",\"blue\",\"blue\",\"blue\",\"blue\",\"blue\",\"blue\",\"blue\",\"blue\",\"blue\",\"blue\",\"blue\",\"blue\",\"blue\",\"blue\",\"blue\",\"blue\",\"blue\",\"blue\",\"blue\",\"blue\",\"blue\",\"blue\",\"blue\",\"blue\",\"blue\",\"blue\",\"blue\",\"blue\",\"blue\",\"blue\",\"blue\",\"blue\",\"blue\",\"blue\",\"blue\",\"blue\",\"blue\",\"blue\",\"blue\",\"blue\",\"blue\",\"blue\",\"blue\",\"blue\",\"blue\",\"blue\",\"blue\",\"blue\",\"blue\",\"blue\",\"blue\",\"blue\",\"blue\",\"blue\",\"blue\",\"blue\",\"blue\",\"blue\",\"blue\",\"blue\",\"blue\",\"blue\",\"blue\",\"blue\",\"blue\",\"blue\",\"blue\",\"blue\",\"blue\",\"blue\",\"blue\",\"blue\",\"blue\",\"blue\",\"blue\",\"blue\",\"blue\",\"blue\",\"blue\",\"blue\",\"blue\",\"blue\",\"blue\",\"blue\",\"blue\",\"blue\",\"blue\",\"blue\",\"blue\",\"blue\",\"blue\",\"blue\",\"blue\",\"blue\",\"blue\",\"blue\",\"blue\",\"blue\",\"blue\",\"blue\",\"blue\",\"blue\",\"blue\",\"blue\",\"blue\",\"blue\",\"blue\",\"blue\",\"blue\",\"blue\",\"blue\",\"blue\",\"blue\",\"blue\",\"blue\",\"blue\",\"blue\",\"blue\",\"blue\",\"blue\",\"blue\",\"blue\",\"blue\",\"blue\",\"blue\",\"blue\",\"blue\",\"blue\",\"blue\",\"blue\",\"blue\",\"blue\",\"blue\",\"blue\",\"blue\",\"blue\",\"blue\",\"blue\",\"blue\",\"blue\",\"blue\",\"blue\",\"blue\",\"blue\",\"blue\",\"blue\",\"blue\",\"blue\",\"blue\",\"blue\",\"blue\",\"blue\",\"blue\",\"blue\",\"blue\",\"blue\",\"blue\",\"blue\",\"blue\",\"blue\",\"blue\",\"blue\",\"blue\",\"blue\",\"blue\",\"blue\",\"blue\",\"blue\",\"blue\",\"blue\",\"blue\",\"blue\",\"blue\",\"blue\",\"blue\",\"blue\",\"blue\",\"blue\",\"blue\",\"blue\",\"blue\",\"blue\",\"blue\",\"blue\",\"blue\",\"blue\",\"blue\",\"blue\",\"blue\",\"blue\",\"blue\",\"blue\",\"blue\",\"blue\",\"blue\",\"blue\",\"blue\",\"blue\",\"blue\",\"blue\",\"blue\",\"blue\",\"blue\",\"blue\",\"blue\",\"blue\",\"blue\",\"blue\",\"blue\",\"blue\",\"blue\",\"blue\",\"blue\",\"blue\",\"blue\",\"blue\",\"blue\",\"blue\",\"blue\",\"blue\",\"blue\",\"blue\",\"blue\",\"blue\",\"blue\",\"blue\",\"blue\",\"blue\",\"blue\",\"blue\",\"blue\",\"blue\",\"blue\",\"blue\",\"blue\",\"blue\",\"blue\",\"blue\",\"blue\",\"blue\",\"blue\",\"blue\",\"blue\",\"blue\",\"blue\",\"blue\",\"blue\",\"blue\",\"blue\",\"blue\",\"blue\",\"blue\",\"blue\",\"blue\",\"blue\",\"blue\",\"blue\",\"blue\",\"blue\",\"blue\",\"blue\",\"blue\",\"blue\",\"blue\",\"blue\",\"blue\",\"blue\",\"blue\",\"blue\",\"blue\",\"blue\",\"blue\",\"blue\",\"blue\",\"blue\",\"blue\",\"blue\",\"blue\",\"blue\",\"blue\",\"blue\",\"blue\",\"blue\",\"blue\",\"blue\",\"blue\",\"blue\",\"blue\",\"blue\",\"blue\",\"blue\",\"blue\",\"blue\",\"blue\",\"blue\",\"blue\",\"blue\",\"blue\",\"blue\",\"blue\",\"blue\",\"blue\",\"blue\",\"blue\",\"blue\",\"blue\",\"blue\",\"blue\",\"blue\",\"blue\",\"blue\",\"blue\",\"blue\",\"blue\",\"blue\",\"blue\",\"blue\",\"blue\",\"blue\",\"blue\",\"blue\",\"blue\",\"blue\",\"blue\",\"blue\",\"blue\",\"blue\",\"blue\",\"blue\",\"blue\",\"blue\",\"blue\",\"blue\",\"blue\",\"blue\",\"blue\",\"blue\",\"blue\",\"blue\",\"blue\",\"blue\",\"blue\",\"blue\",\"blue\",\"blue\",\"blue\",\"blue\",\"blue\",\"blue\",\"blue\",\"blue\",\"blue\",\"blue\",\"blue\",\"blue\",\"blue\",\"blue\",\"blue\",\"blue\",\"blue\",\"blue\",\"blue\",\"blue\",\"blue\",\"blue\",\"blue\",\"blue\",\"blue\",\"blue\",\"blue\",\"blue\",\"blue\",\"blue\",\"blue\",\"blue\",\"blue\",\"blue\",\"blue\",\"blue\",\"blue\",\"blue\",\"blue\",\"blue\",\"blue\",\"blue\",\"blue\",\"blue\",\"blue\",\"blue\",\"blue\",\"blue\",\"blue\",\"blue\",\"blue\",\"blue\",\"blue\",\"blue\",\"blue\",\"blue\",\"blue\",\"blue\",\"blue\",\"blue\",\"blue\",\"blue\",\"blue\",\"blue\",\"blue\",\"blue\",\"blue\",\"blue\",\"blue\",\"blue\",\"blue\",\"blue\",\"blue\",\"blue\",\"blue\",\"blue\",\"blue\",\"blue\",\"blue\",\"blue\",\"blue\",\"blue\",\"blue\",\"blue\",\"blue\",\"blue\",\"blue\",\"blue\",\"blue\",\"blue\",\"blue\",\"blue\",\"blue\",\"blue\",\"blue\",\"blue\",\"blue\",\"blue\",\"blue\",\"blue\",\"blue\",\"blue\",\"blue\",\"blue\",\"blue\",\"blue\",\"blue\",\"blue\",\"blue\",\"blue\",\"blue\",\"blue\",\"blue\",\"blue\",\"blue\",\"blue\",\"blue\",\"blue\",\"blue\",\"blue\",\"blue\",\"blue\",\"blue\",\"blue\",\"blue\",\"blue\",\"blue\",\"blue\",\"blue\",\"blue\",\"blue\",\"blue\",\"blue\",\"blue\",\"blue\",\"blue\",\"blue\",\"blue\",\"blue\",\"blue\",\"blue\",\"blue\",\"blue\",\"blue\",\"blue\",\"blue\",\"blue\",\"blue\",\"blue\",\"blue\",\"blue\",\"blue\",\"blue\",\"blue\",\"blue\",\"blue\",\"blue\",\"blue\",\"blue\",\"blue\",\"blue\",\"blue\",\"blue\",\"blue\",\"blue\",\"blue\",\"blue\",\"blue\",\"blue\",\"blue\",\"blue\",\"blue\",\"blue\",\"blue\",\"blue\",\"blue\",\"blue\",\"blue\",\"blue\",\"blue\",\"blue\",\"blue\",\"blue\",\"blue\",\"blue\",\"blue\",\"blue\",\"blue\",\"blue\",\"blue\",\"blue\",\"blue\",\"blue\",\"blue\",\"blue\",\"blue\",\"blue\",\"blue\",\"blue\",\"blue\",\"blue\",\"blue\",\"blue\",\"blue\",\"blue\",\"blue\",\"blue\",\"blue\",\"blue\",\"blue\",\"blue\",\"blue\",\"blue\",\"blue\",\"blue\",\"blue\",\"blue\",\"blue\",\"blue\",\"blue\",\"blue\",\"blue\",\"blue\",\"blue\",\"blue\",\"blue\",\"blue\",\"blue\",\"blue\",\"blue\",\"blue\",\"blue\",\"blue\",\"blue\",\"blue\",\"blue\",\"blue\",\"blue\",\"blue\",\"blue\",\"blue\",\"blue\",\"blue\",\"blue\",\"blue\",\"blue\",\"blue\",\"blue\",\"blue\",\"blue\",\"blue\",\"blue\",\"blue\",\"blue\",\"blue\",\"blue\",\"blue\",\"blue\",\"blue\",\"blue\",\"blue\",\"blue\",\"blue\",\"blue\",\"blue\",\"blue\",\"blue\",\"blue\",\"blue\",\"blue\",\"blue\",\"blue\",\"blue\",\"blue\",\"blue\",\"blue\",\"blue\",\"blue\",\"blue\",\"blue\",\"blue\",\"blue\",\"blue\",\"blue\",\"blue\",\"blue\",\"blue\",\"blue\",\"blue\",\"blue\",\"blue\",\"blue\",\"blue\",\"blue\",\"blue\",\"blue\",\"blue\",\"blue\",\"blue\",\"blue\",\"blue\",\"blue\",\"blue\",\"blue\",\"blue\",\"blue\",\"blue\",\"blue\",\"blue\",\"blue\",\"blue\",\"blue\",\"blue\",\"blue\",\"blue\",\"blue\",\"blue\",\"blue\",\"blue\",\"blue\",\"blue\",\"blue\",\"blue\",\"blue\",\"blue\",\"blue\",\"blue\",\"blue\",\"blue\",\"blue\",\"blue\",\"blue\",\"blue\",\"blue\",\"blue\",\"blue\",\"blue\",\"blue\",\"blue\",\"blue\",\"blue\",\"blue\",\"blue\",\"blue\",\"blue\",\"blue\",\"blue\",\"blue\",\"blue\",\"blue\",\"blue\",\"blue\",\"blue\",\"blue\",\"blue\",\"blue\",\"blue\",\"blue\",\"blue\",\"blue\",\"blue\",\"blue\",\"blue\",\"blue\",\"blue\",\"blue\",\"blue\",\"blue\",\"blue\",\"blue\",\"blue\",\"blue\",\"blue\",\"blue\",\"blue\",\"blue\",\"blue\",\"blue\",\"blue\",\"blue\",\"blue\",\"blue\",\"blue\",\"blue\",\"blue\",\"blue\",\"blue\",\"blue\",\"blue\",\"blue\",\"blue\",\"blue\",\"blue\",\"blue\",\"blue\",\"blue\",\"blue\",\"blue\",\"blue\",\"blue\",\"blue\",\"blue\",\"blue\",\"blue\",\"blue\",\"blue\",\"blue\",\"blue\",\"blue\",\"blue\",\"blue\",\"blue\",\"blue\",\"blue\",\"blue\",\"blue\",\"blue\",\"blue\",\"blue\",\"blue\",\"blue\",\"blue\",\"blue\",\"blue\",\"blue\",\"blue\",\"blue\",\"blue\",\"blue\",\"blue\",\"blue\",\"blue\",\"blue\",\"blue\",\"blue\",\"blue\",\"blue\",\"blue\",\"blue\",\"blue\",\"blue\",\"blue\",\"blue\",\"blue\",\"blue\",\"blue\",\"blue\",\"blue\",\"blue\",\"blue\",\"blue\",\"blue\",\"blue\",\"blue\",\"blue\",\"blue\",\"blue\",\"blue\",\"blue\",\"blue\",\"blue\",\"blue\",\"blue\",\"blue\",\"blue\",\"blue\",\"blue\",\"blue\",\"blue\",\"blue\",\"blue\",\"blue\",\"blue\",\"blue\",\"blue\",\"blue\",\"blue\",\"blue\",\"blue\",\"blue\",\"blue\",\"blue\",\"blue\",\"blue\",\"blue\",\"blue\",\"blue\",\"blue\",\"blue\",\"blue\",\"blue\",\"blue\",\"blue\",\"blue\",\"blue\",\"blue\",\"blue\",\"blue\",\"blue\",\"blue\",\"blue\",\"blue\",\"blue\",\"blue\",\"blue\",\"blue\",\"blue\",\"blue\",\"blue\",\"blue\",\"blue\",\"blue\",\"blue\",\"blue\",\"blue\",\"blue\",\"blue\",\"blue\",\"blue\",\"blue\",\"blue\",\"blue\",\"blue\",\"blue\",\"blue\",\"blue\",\"blue\",\"blue\",\"blue\",\"blue\",\"blue\",\"blue\",\"blue\",\"blue\",\"blue\",\"blue\",\"blue\",\"blue\",\"blue\",\"blue\",\"blue\",\"blue\",\"blue\",\"blue\",\"blue\",\"blue\",\"blue\",\"blue\",\"blue\",\"blue\",\"blue\",\"blue\",\"blue\",\"blue\",\"blue\",\"blue\",\"blue\",\"blue\",\"blue\",\"blue\",\"blue\",\"blue\",\"blue\",\"blue\",\"blue\",\"blue\",\"blue\",\"blue\",\"blue\",\"blue\",\"blue\",\"blue\",\"blue\",\"blue\",\"blue\",\"blue\",\"blue\",\"blue\",\"blue\",\"blue\",\"blue\",\"blue\",\"blue\",\"blue\",\"blue\",\"blue\",\"blue\",\"blue\",\"blue\",\"blue\",\"blue\",\"blue\",\"blue\",\"blue\",\"blue\",\"blue\",\"blue\",\"blue\",\"blue\",\"blue\",\"blue\",\"blue\",\"blue\",\"blue\",\"blue\",\"blue\",\"blue\",\"blue\",\"blue\",\"blue\",\"blue\",\"blue\",\"blue\",\"blue\",\"blue\",\"blue\",\"blue\",\"blue\",\"blue\",\"blue\",\"blue\",\"blue\",\"blue\",\"blue\",\"blue\",\"blue\",\"blue\",\"blue\",\"blue\",\"blue\",\"blue\",\"blue\",\"blue\",\"blue\",\"blue\",\"blue\",\"blue\",\"blue\",\"blue\",\"blue\",\"blue\",\"blue\",\"blue\",\"blue\",\"blue\",\"blue\",\"blue\",\"blue\",\"blue\",\"blue\",\"blue\",\"blue\",\"blue\",\"blue\",\"blue\",\"blue\",\"blue\",\"blue\",\"blue\",\"blue\",\"blue\",\"blue\",\"blue\",\"blue\",\"blue\",\"blue\",\"blue\",\"blue\",\"blue\",\"blue\",\"blue\",\"blue\",\"blue\",\"blue\",\"blue\",\"blue\",\"blue\",\"blue\",\"blue\",\"blue\",\"blue\",\"blue\",\"blue\",\"blue\",\"blue\",\"blue\",\"blue\",\"blue\",\"blue\",\"blue\",\"blue\",\"blue\",\"blue\",\"blue\",\"blue\",\"blue\",\"blue\",\"blue\",\"blue\",\"blue\",\"blue\",\"blue\",\"blue\",\"blue\",\"blue\",\"blue\",\"blue\",\"blue\",\"blue\",\"blue\",\"blue\",\"blue\",\"blue\",\"blue\",\"blue\",\"blue\",\"blue\",\"blue\",\"blue\",\"blue\",\"blue\",\"blue\",\"blue\",\"blue\",\"blue\",\"blue\",\"blue\",\"blue\",\"blue\",\"blue\",\"blue\",\"blue\",\"blue\",\"blue\",\"blue\",\"blue\",\"blue\",\"blue\",\"blue\",\"blue\",\"blue\",\"blue\",\"blue\",\"blue\",\"blue\",\"blue\",\"blue\",\"blue\",\"blue\",\"blue\",\"blue\",\"blue\",\"blue\",\"blue\",\"blue\",\"blue\",\"blue\",\"blue\",\"blue\",\"blue\",\"blue\",\"blue\",\"blue\",\"blue\",\"blue\",\"blue\",\"blue\",\"blue\",\"blue\",\"blue\",\"blue\",\"blue\",\"blue\",\"blue\",\"blue\",\"blue\",\"blue\",\"blue\",\"blue\",\"blue\",\"blue\",\"blue\",\"blue\",\"blue\",\"blue\",\"blue\",\"blue\",\"blue\",\"blue\",\"blue\",\"blue\",\"blue\",\"blue\",\"blue\",\"blue\",\"blue\",\"blue\",\"blue\",\"blue\",\"blue\",\"blue\",\"blue\",\"blue\",\"blue\",\"blue\",\"blue\",\"blue\",\"blue\",\"blue\",\"blue\",\"blue\",\"blue\",\"blue\",\"blue\",\"blue\",\"blue\",\"blue\",\"blue\",\"blue\",\"blue\",\"blue\",\"blue\",\"blue\",\"blue\",\"blue\",\"blue\",\"blue\",\"blue\",\"blue\",\"blue\",\"blue\",\"blue\",\"blue\",\"blue\",\"blue\",\"blue\",\"blue\",\"blue\",\"blue\",\"blue\",\"blue\",\"blue\",\"blue\",\"blue\",\"blue\",\"blue\",\"blue\",\"blue\",\"blue\",\"blue\",\"blue\",\"blue\",\"blue\",\"blue\",\"blue\",\"blue\",\"blue\",\"blue\",\"blue\",\"blue\",\"blue\",\"blue\",\"blue\",\"blue\",\"blue\",\"blue\",\"blue\",\"blue\",\"blue\",\"blue\",\"blue\",\"blue\",\"blue\",\"blue\",\"blue\",\"blue\",\"blue\",\"blue\",\"blue\",\"blue\",\"blue\",\"blue\",\"blue\",\"blue\",\"blue\",\"blue\",\"blue\",\"blue\",\"blue\",\"blue\",\"blue\",\"blue\",\"blue\",\"blue\",\"blue\",\"blue\",\"blue\",\"blue\",\"blue\",\"blue\",\"blue\",\"blue\",\"blue\",\"blue\",\"blue\",\"blue\",\"blue\",\"blue\",\"blue\",\"blue\",\"blue\",\"blue\",\"blue\",\"blue\",\"blue\",\"blue\",\"blue\",\"blue\",\"blue\",\"blue\",\"blue\",\"blue\",\"blue\",\"blue\",\"blue\",\"blue\",\"blue\",\"blue\",\"blue\",\"blue\",\"blue\",\"blue\",\"blue\",\"blue\",\"blue\",\"blue\",\"blue\",\"blue\",\"blue\",\"blue\",\"blue\",\"blue\",\"blue\",\"blue\",\"blue\",\"blue\",\"blue\",\"blue\",\"blue\",\"blue\",\"blue\",\"blue\",\"blue\",\"blue\",\"blue\",\"blue\",\"blue\",\"blue\",\"blue\",\"blue\",\"blue\",\"blue\",\"blue\",\"blue\",\"blue\",\"blue\",\"blue\",\"blue\",\"blue\",\"blue\",\"blue\",\"blue\",\"blue\",\"blue\",\"blue\",\"blue\",\"blue\",\"blue\",\"blue\",\"blue\",\"blue\",\"blue\",\"blue\",\"blue\",\"blue\",\"blue\",\"blue\",\"blue\",\"blue\",\"blue\",\"blue\",\"blue\",\"blue\",\"blue\",\"blue\",\"blue\",\"blue\",\"blue\",\"blue\",\"blue\",\"blue\",\"blue\",\"blue\",\"blue\",\"blue\",\"blue\",\"blue\",\"blue\",\"blue\",\"blue\",\"blue\",\"blue\",\"blue\",\"blue\",\"blue\",\"blue\",\"blue\",\"blue\",\"blue\",\"blue\",\"blue\",\"blue\",\"blue\",\"blue\",\"blue\",\"blue\",\"blue\",\"blue\",\"blue\",\"blue\",\"blue\",\"blue\",\"blue\",\"blue\",\"blue\",\"blue\",\"blue\",\"blue\",\"blue\",\"blue\",\"blue\",\"blue\",\"blue\",\"blue\",\"blue\",\"blue\",\"blue\",\"blue\",\"blue\",\"blue\",\"blue\",\"blue\",\"blue\",\"blue\",\"blue\",\"blue\",\"blue\",\"blue\",\"blue\",\"blue\",\"blue\",\"blue\",\"blue\",\"blue\",\"blue\",\"blue\",\"blue\",\"blue\",\"blue\",\"blue\",\"blue\",\"blue\",\"blue\",\"blue\",\"blue\",\"blue\",\"blue\",\"blue\",\"blue\",\"blue\",\"blue\",\"blue\",\"blue\",\"blue\",\"blue\",\"blue\",\"blue\",\"blue\",\"blue\",\"blue\",\"blue\",\"blue\",\"blue\",\"blue\",\"blue\",\"blue\",\"blue\",\"blue\",\"blue\",\"blue\",\"blue\",\"blue\",\"blue\",\"blue\",\"blue\",\"blue\",\"blue\",\"blue\",\"blue\",\"blue\",\"blue\",\"blue\",\"blue\",\"blue\",\"blue\",\"blue\",\"blue\",\"blue\",\"blue\",\"blue\",\"blue\",\"blue\",\"blue\",\"blue\",\"blue\",\"blue\",\"blue\",\"blue\",\"blue\",\"blue\",\"blue\",\"blue\",\"blue\",\"blue\",\"blue\",\"blue\",\"blue\",\"blue\",\"blue\",\"blue\",\"blue\",\"blue\",\"blue\",\"blue\",\"blue\",\"blue\",\"blue\",\"blue\",\"blue\",\"blue\",\"blue\",\"blue\",\"blue\",\"blue\",\"blue\",\"blue\",\"blue\",\"blue\",\"blue\",\"blue\",\"blue\",\"blue\",\"blue\",\"blue\",\"blue\",\"blue\",\"blue\",\"blue\",\"blue\",\"blue\",\"blue\",\"blue\",\"blue\",\"blue\",\"blue\",\"blue\",\"blue\",\"blue\",\"blue\",\"blue\",\"blue\",\"blue\",\"blue\",\"blue\",\"blue\",\"blue\",\"blue\",\"blue\",\"blue\",\"blue\",\"blue\",\"blue\",\"blue\",\"blue\",\"blue\",\"blue\",\"blue\",\"blue\",\"blue\",\"blue\",\"blue\",\"blue\",\"blue\",\"blue\",\"blue\",\"blue\",\"blue\",\"blue\",\"blue\",\"blue\",\"blue\",\"blue\",\"blue\",\"blue\",\"blue\",\"blue\",\"blue\",\"blue\",\"blue\",\"blue\",\"blue\",\"blue\",\"blue\",\"blue\",\"blue\",\"blue\",\"blue\",\"blue\",\"blue\",\"blue\",\"blue\",\"blue\",\"blue\",\"blue\",\"blue\",\"blue\",\"blue\",\"blue\",\"blue\",\"blue\",\"blue\",\"blue\",\"blue\",\"blue\",\"blue\",\"blue\",\"blue\",\"blue\",\"blue\",\"blue\",\"blue\",\"blue\",\"blue\",\"blue\",\"blue\",\"blue\",\"blue\",\"blue\",\"blue\",\"blue\",\"blue\",\"blue\",\"blue\",\"blue\",\"blue\",\"blue\",\"blue\",\"blue\",\"blue\",\"blue\",\"blue\",\"blue\",\"blue\",\"blue\",\"blue\",\"blue\",\"blue\",\"blue\",\"blue\",\"blue\",\"blue\",\"blue\",\"blue\",\"blue\",\"blue\",\"blue\",\"blue\",\"blue\",\"blue\",\"blue\",\"blue\",\"blue\",\"blue\",\"blue\",\"blue\",\"blue\",\"blue\",\"blue\",\"blue\",\"blue\",\"blue\",\"blue\",\"blue\",\"blue\",\"blue\",\"blue\",\"blue\",\"blue\",\"blue\",\"blue\",\"blue\",\"blue\",\"blue\",\"blue\",\"blue\",\"blue\",\"blue\",\"blue\",\"blue\",\"blue\",\"blue\",\"blue\",\"blue\",\"blue\",\"blue\",\"blue\",\"blue\",\"blue\",\"blue\",\"blue\",\"blue\",\"blue\",\"blue\",\"blue\",\"blue\",\"blue\",\"blue\",\"blue\",\"blue\",\"blue\",\"blue\",\"blue\",\"blue\",\"blue\",\"blue\",\"blue\",\"blue\",\"blue\",\"blue\",\"blue\",\"blue\",\"blue\",\"blue\",\"blue\",\"blue\",\"blue\",\"blue\",\"blue\",\"blue\",\"blue\",\"blue\",\"blue\",\"blue\",\"blue\",\"blue\",\"blue\",\"blue\",\"blue\",\"blue\",\"blue\",\"blue\",\"blue\",\"blue\",\"blue\",\"blue\",\"blue\",\"blue\",\"blue\",\"blue\",\"blue\",\"blue\",\"blue\",\"blue\",\"blue\",\"blue\",\"blue\",\"blue\",\"blue\",\"blue\",\"blue\",\"blue\",\"blue\",\"blue\",\"blue\",\"blue\",\"blue\",\"blue\",\"blue\",\"blue\",\"blue\",\"blue\",\"blue\",\"blue\",\"blue\",\"blue\",\"blue\",\"blue\",\"blue\",\"blue\",\"blue\",\"blue\",\"blue\",\"blue\",\"blue\",\"blue\",\"blue\",\"blue\",\"blue\",\"blue\",\"blue\",\"blue\",\"blue\",\"blue\",\"blue\",\"blue\",\"blue\",\"blue\",\"blue\",\"blue\",\"blue\",\"blue\",\"blue\",\"blue\",\"blue\",\"blue\",\"blue\",\"blue\",\"blue\",\"blue\",\"blue\",\"blue\",\"blue\",\"blue\",\"blue\",\"blue\",\"blue\",\"blue\",\"blue\",\"blue\",\"blue\",\"blue\",\"blue\",\"blue\",\"blue\",\"blue\",\"blue\",\"blue\",\"blue\",\"blue\",\"blue\",\"blue\",\"blue\",\"blue\",\"blue\",\"blue\",\"blue\",\"blue\",\"blue\",\"blue\",\"blue\",\"blue\",\"blue\",\"blue\",\"blue\",\"blue\",\"blue\",\"blue\",\"blue\",\"blue\",\"blue\",\"blue\",\"blue\",\"blue\",\"blue\",\"blue\",\"blue\",\"blue\",\"blue\",\"blue\",\"blue\",\"blue\",\"blue\",\"blue\",\"blue\",\"blue\",\"blue\",\"blue\",\"blue\",\"blue\",\"blue\",\"blue\",\"blue\",\"blue\",\"blue\",\"blue\",\"blue\",\"blue\",\"blue\",\"blue\",\"blue\",\"blue\",\"blue\",\"blue\",\"blue\",\"blue\",\"blue\",\"blue\"]],[\"token\",[\"verified\",\"2gb\",\"illinois\",\"jazz\",\"checking\",\"telescope\",\"seasons\",\"astrologer\",\"contribution\",\"homemade\",\"heroes\",\"warcraft\",\"kumar\",\"tester\",\"politically\",\"conquer\",\"columbia\",\"quiet\",\"repeat\",\"kapil\",\"involve\",\"mckinsey\",\"switched\",\"att\",\"instance\",\"innocent\",\"portuguese\",\"subscribers\",\"cabinet\",\"terror\",\"85\",\"rotation\",\"shirts\",\"drawn\",\"bi\",\"aspergers\",\"inspiration\",\"beats\",\"\\u00a3\",\"approximately\",\"asset\",\"empathy\",\"rooting\",\"ia\",\"dandruff\",\"slab\",\"operator\",\"horrible\",\"dominant\",\"ocd\",\"spacetime\",\"blow\",\"installing\",\"learnt\",\"separation\",\"institution\",\"temples\",\"hons\",\"pound\",\"removing\",\"unemployment\",\"greenlit\",\"audit\",\"supplement\",\"roller\",\"dota\",\"tiny\",\"equally\",\"braces\",\"aggressive\",\"corn\",\"camps\",\"additional\",\"consent\",\"granted\",\"welfare\",\"myths\",\"stations\",\"timeline\",\"psychologist\",\"nagpur\",\"herself\",\"cooper\",\"exgirlfriend\",\"intercourse\",\"flip\",\"hurts\",\"lpa\",\"nerve\",\"tvs\",\"halloween\",\"screenshot\",\"biomedical\",\"covered\",\"milky\",\"onsite\",\"aside\",\"meaningful\",\"stretch\",\"joker\",\"encounter\",\"tone\",\"founders\",\"talked\",\"respectively\",\"downloads\",\"cocaine\",\"toxic\",\"sword\",\"fuck\",\"trainer\",\"partition\",\"boxing\",\"grid\",\"practicing\",\"menu\",\"cms\",\"indore\",\"ate\",\"volunteer\",\"misconceptions\",\"pics\",\"flies\",\"instantly\",\"trans\",\"friday\",\"sociopaths\",\"ctc\",\"hoax\",\"detailed\",\"sizes\",\"rejection\",\"limitations\",\"bharat\",\"kissing\",\"renewable\",\"oriented\",\"countrys\",\"dumps\",\"spiders\",\"technological\",\"advertisement\",\"headache\",\"zodiac\",\"accommodation\",\"venus\",\"calcium\",\"passenger\",\"falls\",\"overnight\",\"pickup\",\"gary\",\"transportation\",\"odds\",\"jupiter\",\"purchasing\",\"fluently\",\"flu\",\"photons\",\"conductor\",\"ohio\",\"balaji\",\"mcdonalds\",\"betting\",\"irrational\",\"sachin\",\"deactivate\",\"estimate\",\"hairs\",\"fluent\",\"errors\",\"remaining\",\"marriages\",\"medieval\",\"charles\",\"spider\",\"oxford\",\"gita\",\"races\",\"liquor\",\"poland\",\"lease\",\"co2\",\"selenium\",\"attempts\",\"crystal\",\"manaphy\",\"knight\",\"collapsed\",\"wheels\",\"behaviour\",\"bitcoins\",\"parliament\",\"himher\",\"handsome\",\"thousands\",\"caring\",\"kings\",\"lucky\",\"workplace\",\"condom\",\"intuitive\",\"chronic\",\"eyesight\",\"simulation\",\"prank\",\"quickest\",\"concert\",\"popularity\",\"connections\",\"disorders\",\"scripting\",\"appearance\",\"js\",\"depth\",\"cheque\",\"longterm\",\"documentaries\",\"dioxide\",\"bright\",\"info\",\"diseases\",\"appeal\",\"snap\",\"smoked\",\"singers\",\"boil\",\"probably\",\"temperatures\",\"appearing\",\"olive\",\"ntse\",\"telecom\",\"brief\",\"discrimination\",\"ethnic\",\"cache\",\"passionate\",\"shoulder\",\"assault\",\"marshmallow\",\"momentum\",\"yr\",\"migrate\",\"retire\",\"cet\",\"canvas\",\"vietnamese\",\"institutions\",\"meter\",\"roots\",\"integer\",\"imported\",\"ants\",\"lyft\",\"piercing\",\"il\",\"poop\",\"organisms\",\"ve\",\"entropy\",\"calm\",\"saddest\",\"toward\",\"myth\",\"sight\",\"filling\",\"hdmi\",\"satisfied\",\"transactions\",\"pharmacy\",\"nursing\",\"correlation\",\"regression\",\"awake\",\"md\",\"nri\",\"recommendations\",\"bin\",\"finland\",\"multi\",\"voted\",\"discovery\",\"edward\",\"touching\",\"immigrant\",\"geometry\",\"indicate\",\"ourselves\",\"texting\",\"seek\",\"expecting\",\"dj\",\"brake\",\"helicopter\",\"blonde\",\"triple\",\"ladies\",\"vivekananda\",\"switching\",\"prostitution\",\"banana\",\"magazines\",\"shippuden\",\"lucknow\",\"2019\",\"failing\",\"elizabeth\",\"irish\",\"ebook\",\"temporary\",\"governor\",\"wasting\",\"weekends\",\"cpt\",\"wax\",\"labor\",\"instruments\",\"instrumentation\",\"hates\",\"hip\",\"arnab\",\"bubble\",\"employers\",\"aadhaar\",\"boyfriends\",\"jake\",\"explained\",\"yesterday\",\"beta\",\"extrovert\",\"andhra\",\"micromax\",\"vertical\",\"lay\",\"nonprofit\",\"dubbed\",\"typing\",\"automotive\",\"thomas\",\"procedures\",\"priority\",\"funded\",\"arabs\",\"siblings\",\"guinea\",\"missile\",\"luck\",\"strategic\",\"defend\",\"module\",\"tuition\",\"acids\",\"controller\",\"committee\",\"housing\",\"integral\",\"peaceful\",\"refugees\",\"prescription\",\"interns\",\"supported\",\"womans\",\"dentist\",\"wives\",\"village\",\"affecting\",\"lte\",\"beaches\",\"austin\",\"substance\",\"engagement\",\"trainee\",\"measures\",\"trailer\",\"purchased\",\"15000\",\"uttar\",\"glue\",\"dtu\",\"medal\",\"photon\",\"engg\",\"violin\",\"column\",\"somehow\",\"rotate\",\"3000\",\"virat\",\"forgotten\",\"fingers\",\"slim\",\"arrest\",\"covalent\",\"ncert\",\"kernel\",\"da\",\"alarm\",\"ngo\",\"4gb\",\"productivity\",\"planned\",\"district\",\"berlin\",\"lists\",\"leads\",\"slang\",\"defence\",\"aspiring\",\"56\",\"enemy\",\"farming\",\"muller\",\"pays\",\"liver\",\"membrane\",\"secretly\",\"plug\",\"gum\",\"eclipse\",\"chewing\",\"labs\",\"zombie\",\"authority\",\"males\",\"argentina\",\"tasks\",\"fell\",\"nails\",\"palestine\",\"tanks\",\"identical\",\"deck\",\"qualification\",\"leadership\",\"kohli\",\"pronunciation\",\"hello\",\"violent\",\"sabha\",\"respiration\",\"transform\",\"warranty\",\"faculty\",\"adolf\",\"expenses\",\"jersey\",\"mercury\",\"whiskey\",\"tackle\",\"tweet\",\"blame\",\"cruise\",\"mahindra\",\"discharge\",\"reduced\",\"vodka\",\"mahatma\",\"bass\",\"compete\",\"stains\",\"pill\",\"swim\",\"ali\",\"gf\",\"ford\",\"prince\",\"sweat\",\"performing\",\"limits\",\"leonardo\",\"cow\",\"resolve\",\"matters\",\"pharmaceutical\",\"ray\",\"remotely\",\"pf\",\"clinical\",\"bpo\",\"homeless\",\"husbands\",\"rising\",\"newtons\",\"outcome\",\"derivative\",\"alpha\",\"grown\",\"capitalism\",\"astronaut\",\"hybrid\",\"palm\",\"teens\",\"hits\",\"airplanes\",\"none\",\"admin\",\"applicable\",\"amcat\",\"spam\",\"neutrality\",\"pixel\",\"festival\",\"faces\",\"molar\",\"snakes\",\"sip\",\"kik\",\"farm\",\"ltd\",\"votes\",\"publishing\",\"comfort\",\"frontend\",\"spin\",\"diagnosed\",\"buildings\",\"\\u00b0\",\"cashless\",\"addictive\",\"extinct\",\"ugc\",\"coke\",\"llb\",\"phrases\",\"struggle\",\"drives\",\"fiber\",\"grocery\",\"achieved\",\"penny\",\"bath\",\"allies\",\"uninstall\",\"ny\",\"appears\",\"effort\",\"satellites\",\"confirmed\",\"loneliness\",\"illuminati\",\"uri\",\"lucid\",\"preferably\",\"neither\",\"\\u221a\",\"pacific\",\"americas\",\"bs\",\"graduated\",\"bills\",\"tube\",\"germans\",\"assume\",\"cleared\",\"mate\",\"divide\",\"versions\",\"fallen\",\"journey\",\"anthem\",\"certificates\",\"looked\",\"sponsor\",\"useless\",\"dependent\",\"invite\",\"guru\",\"keyword\",\"aipmt\",\"clone\",\"kgs\",\"chip\",\"origins\",\"wide\",\"motivational\",\"elite\",\"wanna\",\"unity\",\"cough\",\"connecting\",\"mystery\",\"kim\",\"syrian\",\"voldemort\",\"responsibilities\",\"molecules\",\"boobs\",\"holidays\",\"tutorial\",\"circumstances\",\"fiitjee\",\"islands\",\"bypass\",\"slowly\",\"mixture\",\"aluminum\",\"salesforce\",\"twin\",\"iot\",\"remedy\",\"sheets\",\"pole\",\"hated\",\"females\",\"protected\",\"irs\",\"insecure\",\"entering\",\"neuroscience\",\"offices\",\"delta\",\"suggestion\",\"snapdeal\",\"backstory\",\"periodic\",\"cancelled\",\"mans\",\"complicated\",\"bitsat\",\"pleasure\",\"loop\",\"dropbox\",\"selfish\",\"nude\",\"20000\",\"voter\",\"variables\",\"victory\",\"closest\",\"compensation\",\"extended\",\"locations\",\"cracked\",\"perks\",\"ended\",\"exit\",\"awareness\",\"pakistanis\",\"ebooks\",\"bull\",\"unblock\",\"100000\",\"entrepreneurship\",\"infrastructure\",\"scotland\",\"guest\",\"attacked\",\"hurting\",\"lion\",\"reject\",\"purposes\",\"knife\",\"thai\",\"ipl\",\"knee\",\"accepting\",\"spent\",\"punjabi\",\"tab\",\"quoras\",\"caffeine\",\"athletes\",\"ink\",\"cooked\",\"improving\",\"invaded\",\"allah\",\"thermodynamics\",\"mortgage\",\"firsttime\",\"achievements\",\"issued\",\"breath\",\"award\",\"llc\",\"legends\",\"mood\",\"influenced\",\"proteins\",\"holy\",\"performed\",\"pee\",\"blocks\",\"molecule\",\"interests\",\"imei\",\"requires\",\"cisco\",\"moves\",\"marrying\",\"mca\",\"perfectly\",\"iisc\",\"corporation\",\"shiva\",\"viruses\",\"difficulty\",\"50000\",\"volte\",\"shampoo\",\"secular\",\"transplant\",\"ghz\",\"ahead\",\"crew\",\"interact\",\"depend\",\"hawaii\",\"hiv\",\"evening\",\"vegetable\",\"revenge\",\"suppose\",\"busy\",\"label\",\"rogue\",\"rational\",\"hillstation\",\"brains\",\"urdu\",\"imagine\",\"salaries\",\"survey\",\"g4\",\"butt\",\"manufacturers\",\"saas\",\"residency\",\"recommendation\",\"purple\",\"fault\",\"aadhar\",\"aging\",\"bhopal\",\"conducted\",\"loses\",\"infection\",\"forest\",\"impacts\",\"collection\",\"fridge\",\"diamond\",\"mis\",\"recorded\",\"march\",\"conditioner\",\"signature\",\"listed\",\"branches\",\"manchester\",\"wanting\",\"perception\",\"absolutely\",\"servers\",\"soluble\",\"swami\",\"lumia\",\"directors\",\"52\",\"2008\",\"gaining\",\"stereotypes\",\"homes\",\"vegas\",\"jam\",\"behave\",\"relatively\",\"forum\",\"ib\",\"earphones\",\"facilities\",\"april\",\"finally\",\"tail\",\"capacitor\",\"tiger\",\"deaf\",\"deliver\",\"django\",\"expand\",\"skip\",\"nearly\",\"maybe\",\"task\",\"gateway\",\"strangest\",\"abstract\",\"adding\",\"suck\",\"tim\",\"printed\",\"sigma\",\"immigrate\",\"decline\",\"arrested\",\"95\",\"narcissistic\",\"freelancing\",\"patterns\",\"expired\",\"casual\",\"tablets\",\"patients\",\"lean\",\"pieces\",\"laymans\",\"whatever\",\"polish\",\"lemon\",\"abortion\",\"i3\",\"theorem\",\"h\",\"compulsory\",\"helped\",\"sons\",\"feminism\",\"compiler\",\"tested\",\"enhance\",\"adhd\",\"manhattan\",\"iii\",\"nail\",\"eee\",\"deals\",\"excellent\",\"ipo\",\"folder\",\"sand\",\"continuous\",\"capable\",\"libraries\",\"aggregate\",\"64\",\"bsnl\",\"profiles\",\"spirit\",\"pulled\",\"owns\",\"deloitte\",\"therapist\",\"acts\",\"millions\",\"authors\",\"marathi\",\"dvd\",\"coconut\",\"swiss\",\"interaction\",\"ncr\",\"kannada\",\"smallest\",\"advisable\",\"smartest\",\"sorry\",\"normally\",\"ends\",\"rome\",\"spectrum\",\"cousin\",\"75\",\"suzuki\",\"nights\",\"cap\",\"enable\",\"counselling\",\"proxy\",\"margin\",\"shops\",\"hackers\",\"tatkal\",\"opened\",\"cinema\",\"consumption\",\"coal\",\"silent\",\"choosing\",\"introduction\",\"electromagnetic\",\"hcl\",\"complaint\",\"puppies\",\"vc\",\"symbols\",\"lenses\",\"username\",\"arrow\",\"adopted\",\"affects\",\"sudden\",\"pcm\",\"gel\",\"affair\",\"pinterest\",\"statements\",\"supplements\",\"justified\",\"turns\",\"santa\",\"shoe\",\"trek\",\"headphone\",\"girlfriends\",\"verizon\",\"rocket\",\"conference\",\"ego\",\"srm\",\"afghanistan\",\"nucleus\",\"generated\",\"chinas\",\"ww1\",\"consultancy\",\"socially\",\"allen\",\"berkeley\",\"missed\",\"crying\",\"introduced\",\"ps3\",\"flour\",\"brought\",\"elder\",\"minecraft\",\"9th\",\"freelancer\",\"circles\",\"scars\",\"entertainment\",\"turbine\",\"deeply\",\"rom\",\"evolved\",\"nato\",\"strengths\",\"ide\",\"tweets\",\"scholarships\",\"mentor\",\"collect\",\"hdfc\",\"mandarin\",\"solo\",\"terrible\",\"influential\",\"professionals\",\"65\",\"recognition\",\"nvidia\",\"cia\",\"designs\",\"10k\",\"creation\",\"tom\",\"rated\",\"introverts\",\"boiling\",\"communism\",\"treaty\",\"whereas\",\"thanks\",\"cigarette\",\"bengaluru\",\"oneplus\",\"reserve\",\"advertise\",\"nits\",\"helping\",\"bruce\",\"mp3\",\"severe\",\"proposal\",\"cultures\",\"tap\",\"animated\",\"planes\",\"hall\",\"cognitive\",\"supports\",\"keys\",\"gotten\",\"feedback\",\"recording\",\"proceed\",\"membership\",\"console\",\"overseas\",\"hows\",\"william\",\"billionaires\",\"updated\",\"pre\",\"organizations\",\"messi\",\"unexpected\",\"nitrogen\",\"hungry\",\"nigeria\",\"sync\",\"arduino\",\"gross\",\"outer\",\"searching\",\"workers\",\"outlook\",\"europeans\",\"founder\",\"lectures\",\"legitimate\",\"camp\",\"ordinary\",\"investments\",\"bone\",\"raising\",\"quite\",\"ages\",\"joint\",\"johnson\",\"destination\",\"concerned\",\"belief\",\"refrigerator\",\"implications\",\"manga\",\"mandatory\",\"obamas\",\"lawyers\",\"bedroom\",\"icon\",\"qualifications\",\"qa\",\"bikes\",\"boston\",\"holding\",\"session\",\"appointment\",\"weaknesses\",\"iphones\",\"motorcycle\",\"schizophrenia\",\"5th\",\"intellectual\",\"eaten\",\"attending\",\"medals\",\"adsense\",\"nda\",\"6th\",\"kali\",\"georgia\",\"wechat\",\"earlier\",\"drone\",\"truck\",\"horse\",\"merchant\",\"torque\",\"seed\",\"backend\",\"holmes\",\"graduating\",\"400\",\"bones\",\"sufficient\",\"participate\",\"rifle\",\"shock\",\"downloaded\",\"earthquake\",\"breasts\",\"secretary\",\"insert\",\"damaged\",\"massive\",\"standing\",\"remainder\",\"programme\",\"holocaust\",\"totally\",\"belt\",\"affairs\",\"nokia\",\"mechanism\",\"pin\",\"scan\",\"fought\",\"superpower\",\"poetry\",\"signals\",\"educated\",\"scariest\",\"trains\",\"closer\",\"weapon\",\"icici\",\"serial\",\"bicycle\",\"terminal\",\"finished\",\"stolen\",\"inspiring\",\"cuisine\",\"spark\",\"sounds\",\"pricing\",\"click\",\"underwear\",\"kidney\",\"bengal\",\"invention\",\"discount\",\"chase\",\"evaluate\",\"distributed\",\"themes\",\"amd\",\"stem\",\"st\",\"genre\",\"vegetables\",\"council\",\"bihar\",\"thick\",\"mouse\",\"worry\",\"newly\",\"updates\",\"candy\",\"prepaid\",\"wet\",\"rap\",\"motors\",\"implemented\",\"theoretical\",\"fabric\",\"mexican\",\"portfolio\",\"technique\",\"icse\",\"expansion\",\"evolutionary\",\"justify\",\"trick\",\"attached\",\"lightning\",\"pitch\",\"armed\",\"einstein\",\"conversion\",\"iitjee\",\"declared\",\"admit\",\"acquisition\",\"innovation\",\"runs\",\"wwe\",\"trial\",\"memories\",\"refuse\",\"netherlands\",\"committed\",\"fraud\",\"jailbreak\",\"settle\",\"badly\",\"approved\",\"eligibility\",\"trend\",\"increases\",\"comic\",\"quorans\",\"cellular\",\"matches\",\"receiving\",\"bmw\",\"vlsi\",\"signed\",\"lakes\",\"350\",\"communications\",\"pork\",\"joined\",\"anyway\",\"differentiate\",\"actresses\",\"29\",\"ethics\",\"premier\",\"hearing\",\"vehicles\",\"drama\",\"instant\",\"lips\",\"dates\",\"july\",\"holiday\",\"coach\",\"malayalam\",\"superior\",\"soviet\",\"plate\",\"throw\",\"worship\",\"bars\",\"sharma\",\"mothers\",\"integrated\",\"clubs\",\"bug\",\"melbourne\",\"co\",\"bisexual\",\"regions\",\"lesson\",\"heads\",\"reader\",\"snake\",\"qualify\",\"paul\",\"causing\",\"disappear\",\"era\",\"lets\",\"qualified\",\"spiritual\",\"wolf\",\"requirement\",\"journalism\",\"studied\",\"lowest\",\"vader\",\"coursera\",\"stark\",\"configuration\",\"verbal\",\"undergrad\",\"dimensions\",\"transition\",\"efficiently\",\"interstellar\",\"locked\",\"summary\",\"chandigarh\",\"ghosts\",\"included\",\"operate\",\"dimension\",\"mount\",\"noticed\",\"rating\",\"somewhere\",\"martin\",\"bra\",\"bird\",\"zuckerberg\",\"sensor\",\"audience\",\"dirty\",\"starbucks\",\"permission\",\"residential\",\"wholesale\",\"assets\",\"clearly\",\"km\",\"invade\",\"ipcc\",\"fb\",\"shell\",\"shave\",\"loud\",\"tip\",\"seeds\",\"sets\",\"polar\",\"although\",\"june\",\"judaism\",\"anti\",\"instrument\",\"seven\",\"shooting\",\"j\",\"portal\",\"tower\",\"github\",\"linked\",\"admitted\",\"punishment\",\"mid\",\"micro\",\"cured\",\"lifestyle\",\"nor\",\"upset\",\"challenge\",\"soap\",\"standards\",\"integration\",\"lottery\",\"lab\",\"williams\",\"odd\",\"soil\",\"sensitive\",\"route\",\"tattoos\",\"coin\",\"declare\",\"frame\",\"differential\",\"bowl\",\"softwares\",\"notifications\",\"maintenance\",\"inner\",\"apples\",\"converted\",\"recruiter\",\"bombay\",\"command\",\"posting\",\"controlled\",\"balls\",\"personally\",\"poker\",\"extract\",\"hired\",\"bugs\",\"providers\",\"loans\",\"calculator\",\"attractions\",\"torrents\",\"keywords\",\"profession\",\"blogging\",\"transport\",\"sue\",\"anonymously\",\"compounds\",\"robot\",\"buddhism\",\"sweet\",\"defense\",\"nobody\",\"uc\",\"defined\",\"division\",\"bags\",\"epic\",\"unhealthy\",\"craziest\",\"urban\",\"combination\",\"pair\",\"laugh\",\"cv\",\"usd\",\"launched\",\"usps\",\"visited\",\"nexus\",\"regularly\",\"brothers\",\"broker\",\"concentrate\",\"agreement\",\"nervous\",\"frozen\",\"detail\",\"sir\",\"situations\",\"borderline\",\"angularjs\",\"abusive\",\"tourism\",\"relate\",\"august\",\"communist\",\"accountant\",\"dumb\",\"arab\",\"b2b\",\"du\",\"thermal\",\"asians\",\"threat\",\"karma\",\"passive\",\"homosexuality\",\"putting\",\"quantitative\",\"relativity\",\"sanskrit\",\"opinions\",\"verify\",\"bear\",\"roll\",\"expanding\",\"teenage\",\"jeans\",\"providing\",\"shared\",\"extreme\",\"mi\",\"vr\",\"progress\",\"greece\",\"cpu\",\"ips\",\"merge\",\"reputation\",\"loving\",\"salman\",\"iss\",\"warm\",\"dental\",\"extension\",\"attraction\",\"fictional\",\"journal\",\"login\",\"secondary\",\"recognize\",\"southern\",\"ph\",\"lunch\",\"wallet\",\"ronaldo\",\"larger\",\"actions\",\"fathers\",\"adopt\",\"claims\",\"bottom\",\"therapy\",\"patient\",\"described\",\"virginity\",\"functional\",\"ionic\",\"chartered\",\"discover\",\"55\",\"21st\",\"biased\",\"mad\",\"northern\",\"onto\",\"liberals\",\"premium\",\"neutral\",\"detect\",\"diagram\",\"sperm\",\"ga\",\"bleach\",\"spread\",\"contributions\",\"activate\",\"prior\",\"safest\",\"holder\",\"360\",\"aim\",\"rental\",\"families\",\"everybody\",\"shut\",\"payments\",\"150\",\"cube\",\"vegan\",\"newspaper\",\"beef\",\"houses\",\"preferred\",\"simultaneously\",\"marked\",\"reactions\",\"emergency\",\"protection\",\"cab\",\"forex\",\"norway\",\"immigrants\",\"googles\",\"ssb\",\"wing\",\"yrs\",\"ensure\",\"spy\",\"reasoning\",\"strange\",\"forgive\",\"turkish\",\"tag\",\"ranking\",\"platforms\",\"fox\",\"existed\",\"walmart\",\"lazy\",\"ears\",\"clock\",\"beam\",\"rare\",\"bush\",\"2011\",\"stops\",\"batteries\",\"certified\",\"naked\",\"worldwide\",\"staying\",\"lifetime\",\"ted\",\"lake\",\"wealthy\",\"transit\",\"stephen\",\"rural\",\"versa\",\"pets\",\"commonly\",\"adults\",\"ultimate\",\"genius\",\"vinegar\",\"allows\",\"aid\",\"retirement\",\"airtel\",\"sciences\",\"mountain\",\"drinks\",\"tour\",\"wind\",\"seattle\",\"disabled\",\"bodies\",\"lesbian\",\"governments\",\"kinetic\",\"tumblr\",\"absolute\",\"author\",\"toilet\",\"whey\",\"sleepy\",\"molecular\",\"watches\",\"inventions\",\"rain\",\"34\",\"angular\",\"o\",\"dish\",\"however\",\"agents\",\"abs\",\"switzerland\",\"transformer\",\"clearing\",\"consciousness\",\"broadband\",\"uae\",\"automatic\",\"opposed\",\"geography\",\"astronauts\",\"decisions\",\"cement\",\"induction\",\"luxury\",\"upvotes\",\"politicians\",\"posted\",\"toefl\",\"kitchen\",\"noise\",\"radius\",\"dye\",\"miles\",\"risks\",\"scientifically\",\"mnc\",\"propose\",\"prepared\",\"iiit\",\"mention\",\"equipment\",\"darth\",\"january\",\"surname\",\"raised\",\"attitude\",\"gta\",\"david\",\"hike\",\"awkward\",\"proven\",\"productive\",\"lg\",\"filled\",\"atmosphere\",\"lee\",\"irctc\",\"addicted\",\"dynamic\",\"employment\",\"weekend\",\"replacement\",\"singing\",\"owners\",\"bipolar\",\"tomorrow\",\"poems\",\"default\",\"kvpy\",\"sauce\",\"competitors\",\"russians\",\"sample\",\"crimes\",\"hang\",\"inspired\",\"furniture\",\"throughout\",\"presence\",\"efficiency\",\"leg\",\"biological\",\"pilani\",\"conversations\",\"inspirational\",\"bachelor\",\"centers\",\"withdraw\",\"fundamental\",\"comparison\",\"november\",\"fifa\",\"penalty\",\"algebra\",\"joke\",\"htc\",\"pilots\",\"collapse\",\"texts\",\"vocabulary\",\"moved\",\"sc\",\"smile\",\"october\",\"dot\",\"genetic\",\"architect\",\"url\",\"51\",\"sore\",\"uniform\",\"re\",\"rails\",\"smaller\",\"marine\",\"terrorists\",\"nazi\",\"breast\",\"politician\",\"subtitles\",\"chosen\",\"egypt\",\"thin\",\"packages\",\"editor\",\"bands\",\"mythology\",\"reasonable\",\"permit\",\"acceptable\",\"seriously\",\"iraq\",\"fever\",\"visitor\",\"honest\",\"friction\",\"offering\",\"smarter\",\"ahmedabad\",\"replaced\",\"resolution\",\"burning\",\"bridge\",\"catholic\",\"calendar\",\"resident\",\"policies\",\"forced\",\"leading\",\"arm\",\"deserve\",\"context\",\"coolest\",\"arranged\",\"arizona\",\"comics\",\"harm\",\"democrats\",\"jail\",\"breed\",\"anywhere\",\"psu\",\"christ\",\"violence\",\"agriculture\",\"objective\",\"moments\",\"infinity\",\"supporting\",\"critical\",\"trees\",\"beyond\",\"bag\",\"vitamin\",\"assembly\",\"solved\",\"array\",\"perspective\",\"pas\",\"wwii\",\"skinny\",\"contains\",\"lift\",\"cleaning\",\"peter\",\"aap\",\"pimples\",\"initial\",\"lesserknown\",\"sights\",\"principles\",\"realize\",\"millionaire\",\"faux\",\"orbit\",\"desire\",\"hi\",\"prophet\",\"suits\",\"careers\",\"thinks\",\"quantity\",\"spots\",\"wage\",\"asleep\",\"sociology\",\"guard\",\"units\",\"structural\",\"operation\",\"pants\",\"w\",\"bulk\",\"possibly\",\"drunk\",\"fired\",\"accident\",\"inch\",\"bottle\",\"aerospace\",\"narcissist\",\"ux\",\"angeles\",\"wood\",\"index\",\"safely\",\"robotics\",\"edition\",\"metals\",\"practices\",\"scheme\",\"interior\",\"diabetes\",\"nobel\",\"youth\",\"lived\",\"september\",\"chief\",\"proposed\",\"assuming\",\"sin\",\"counter\",\"disable\",\"introduce\",\"restore\",\"swimming\",\"intern\",\"answering\",\"mentioned\",\"crash\",\"laser\",\"teenagers\",\"presentation\",\"quran\",\"classified\",\"demonetisation\",\"communicate\",\"cotton\",\"autism\",\"anger\",\"environmental\",\"stable\",\"7th\",\"bread\",\"invited\",\"wisdom\",\"wrote\",\"widely\",\"minor\",\"formal\",\"dreaming\",\"managers\",\"escape\",\"pollution\",\"taiwan\",\"verification\",\"los\",\"figures\",\"26\",\"illness\",\"sides\",\"compatible\",\"pack\",\"conspiracy\",\"hedge\",\"flights\",\"dropped\",\"former\",\"suffer\",\"aware\",\"designers\",\"mahabharata\",\"evolve\",\"weigh\",\"dies\",\"fruits\",\"cc\",\"butter\",\"sharing\",\"atoms\",\"tongue\",\"transaction\",\"poverty\",\"suffering\",\"presidents\",\"resistance\",\"adam\",\"civilization\",\"mining\",\"toronto\",\"stick\",\"increased\",\"wild\",\"freelance\",\"removal\",\"aws\",\"rio\",\"principle\",\"asus\",\"cute\",\"consumer\",\"pool\",\"variable\",\"tutorials\",\"advance\",\"keeping\",\"visible\",\"cognizant\",\"equations\",\"rooms\",\"krishna\",\"printer\",\"tooth\",\"mentally\",\"realistic\",\"automobile\",\"cake\",\"tie\",\"beach\",\"ghost\",\"comfortable\",\"mysql\",\"oral\",\"closed\",\"helps\",\"maharashtra\",\"admissions\",\"i5\",\"partners\",\"axis\",\"beliefs\",\"neck\",\"clans\",\"hidden\",\"cyber\",\"voting\",\"bacteria\",\"layer\",\"chhattisgarh\",\"5000\",\"sitting\",\"murder\",\"argument\",\"f\",\"privacy\",\"syndrome\",\"2010\",\"bite\",\"vacation\",\"isro\",\"trouble\",\"records\",\"answered\",\"digit\",\"defeat\",\"childhood\",\"5s\",\"gates\",\"f1\",\"town\",\"anal\",\"copper\",\"talks\",\"affiliate\",\"sociopath\",\"installed\",\"static\",\"copyright\",\"animation\",\"donate\",\"stranger\",\"bcom\",\"destroyed\",\"gujarat\",\"foundation\",\"prize\",\"components\",\"foreigner\",\"arms\",\"unlimited\",\"needing\",\"settings\",\"item\",\"eve\",\"competition\",\"landing\",\"beard\",\"patent\",\"ending\",\"2020\",\"incident\",\"petroleum\",\"florida\",\"particularly\",\"ups\",\"generator\",\"leather\",\"heal\",\"experiment\",\"28\",\"passing\",\"talent\",\"remote\",\"300\",\"published\",\"impossible\",\"steam\",\"80\",\"washing\",\"guilty\",\"punjab\",\"70\",\"album\",\"bullet\",\"paris\",\"interface\",\"agencies\",\"mission\",\"digits\",\"modis\",\"recruitment\",\"manipal\",\"telling\",\"meal\",\"orange\",\"stone\",\"links\",\"ab\",\"upper\",\"cameras\",\"p\",\"combat\",\"passion\",\"shower\",\"thailand\",\"beings\",\"grad\",\"27\",\"finger\",\"jump\",\"lights\",\"ui\",\"bba\",\"sweden\",\"arrive\",\"4th\",\"amendment\",\"window\",\"satellite\",\"al\",\"matlab\",\"jokes\",\"muhammad\",\"expression\",\"booking\",\"dinner\",\"skype\",\"lots\",\"2018\",\"teen\",\"finish\",\"dslr\",\"mens\",\"proud\",\"entrepreneurs\",\"ukraine\",\"coins\",\"scenario\",\"transmission\",\"ignore\",\"pride\",\"contribute\",\"grand\",\"curve\",\"false\",\"operations\",\"breakup\",\"eventually\",\"acquire\",\"commission\",\"lies\",\"spoken\",\"pills\",\"masturbating\",\"jackson\",\"airbnb\",\"delivered\",\"disk\",\"radiation\",\"plays\",\"marvel\",\"particle\",\"breakfast\",\"smartphones\",\"relevant\",\"quota\",\"refund\",\"inches\",\"telugu\",\"angel\",\"eastern\",\"inflation\",\"predict\",\"annoying\",\"obc\",\"tough\",\"conduct\",\"originate\",\"notification\",\"backup\",\"harder\",\"richest\",\"pronounce\",\"sri\",\"wheel\",\"wasnt\",\"oldest\",\"sheet\",\"soda\",\"20s\",\"wipro\",\"awesome\",\"facial\",\"z\",\"noida\",\"confident\",\"fbi\",\"corrupt\",\"succeed\",\"reddit\",\"associate\",\"input\",\"guns\",\"rahul\",\"baking\",\"description\",\"musical\",\"apache\",\"nowadays\",\"fluid\",\"capacity\",\"loose\",\"freshman\",\"cfa\",\"optional\",\"theres\",\"ps4\",\"trends\",\"jon\",\"richard\",\"legit\",\"nodejs\",\"document\",\"sexually\",\"particles\",\"singer\",\"printing\",\"captain\",\"valuable\",\"several\",\"aiims\",\"boot\",\"sit\",\"zone\",\"billionaire\",\"floor\",\"gravitational\",\"export\",\"motivation\",\"golden\",\"transgender\",\"healthcare\",\"heaven\",\"81\",\"leaves\",\"listening\",\"overall\",\"press\",\"dishes\",\"railways\",\"warming\",\"enfield\",\"extent\",\"acceleration\",\"afford\",\"bonds\",\"border\",\"registration\",\"cast\",\"hope\",\"shipping\",\"karnataka\",\"specifically\",\"opportunity\",\"arabia\",\"pump\",\"pg\",\"carrier\",\"plot\",\"kingdom\",\"contract\",\"painful\",\"kindle\",\"boring\",\"essential\",\"disney\",\"charger\",\"seconds\",\"measured\",\"honda\",\"ba\",\"makeup\",\"\\u2013\",\"mini\",\"annual\",\"traits\",\"retrieve\",\"willing\",\"swift\",\"consume\",\"hindus\",\"psychopath\",\"tells\",\"solving\",\"conditions\",\"artists\",\"spotify\",\"bomb\",\"integrate\",\"stuck\",\"nikon\",\"gadgets\",\"womens\",\"judge\",\"republicans\",\"vacuum\",\"felt\",\"putin\",\"tennis\",\"concentration\",\"fans\",\"constantly\",\"matrix\",\"secrets\",\"spot\",\"soft\",\"stored\",\"neural\",\"submit\",\"scores\",\"ola\",\"wire\",\"gdp\",\"jaipur\",\"typically\",\"airline\",\"roles\",\"cheaper\",\"machines\",\"shift\",\"impress\",\"basics\",\"32\",\"conservative\",\"birds\",\"tend\",\"duty\",\"setup\",\"rude\",\"pink\",\"church\",\"mine\",\"jack\",\"sending\",\"cooking\",\"versus\",\"expert\",\"olympic\",\"biotechnology\",\"gurgaon\",\"worked\",\"codes\",\"successfully\",\"hardware\",\"faith\",\"pr\",\"television\",\"compound\",\"vit\",\"universal\",\"thank\",\"grammatically\",\"chicago\",\"ivy\",\"worried\",\"enterprise\",\"sodium\",\"railway\",\"remedies\",\"racism\",\"tracking\",\"psychological\",\"apartment\",\"magazine\",\"martial\",\"beauty\",\"waiting\",\"attacks\",\"horror\",\"fantasy\",\"ma\",\"select\",\"increasing\",\"metro\",\"opt\",\"map\",\"watched\",\"gear\",\"icloud\",\"james\",\"comedy\",\"lollipop\",\"ireland\",\"upcoming\",\"italian\",\"oven\",\"emotionally\",\"decided\",\"lakh\",\"grey\",\"kept\",\"produced\",\"mouth\",\"manual\",\"dhoni\",\"fill\",\"throat\",\"shoot\",\"liked\",\"innovative\",\"immediately\",\"lonely\",\"fighting\",\"max\",\"accidentally\",\"schedule\",\"orgasm\",\"rape\",\"ride\",\"muscles\",\"graduates\",\"taller\",\"boost\",\"lakhs\",\"microwave\",\"electrons\",\"upon\",\"attract\",\"ap\",\"abuse\",\"earths\",\"forever\",\"underrated\",\"facing\",\"terrorist\",\"alien\",\"celebrity\",\"frequently\",\"vpn\",\"wales\",\"powder\",\"superman\",\"mixed\",\"caught\",\"goods\",\"beginning\",\"starts\",\"atomic\",\"associated\",\"triangle\",\"parties\",\"banning\",\"k\",\"honey\",\"monitor\",\"graph\",\"leaders\",\"embedded\",\"juice\",\"split\",\"lady\",\"sequence\",\"911\",\"harassment\",\"nepal\",\"pop\",\"habit\",\"setting\",\"edge\",\"ww2\",\"gps\",\"federal\",\"charged\",\"lying\",\"empty\",\"whenever\",\"airplane\",\"jet\",\"destroy\",\"ies\",\"wouldnt\",\"quick\",\"decrease\",\"robert\",\"pradesh\",\"professors\",\"massage\",\"held\",\"spending\",\"markets\",\"objects\",\"chart\",\"mechanics\",\"silver\",\"usage\",\"basketball\",\"gen\",\"periods\",\"identity\",\"individuals\",\"css\",\"soul\",\"ipod\",\"chest\",\"understanding\",\"coast\",\"classic\",\"spain\",\"babies\",\"sd\",\"hostel\",\"shirt\",\"further\",\"logical\",\"franchise\",\"obtain\",\"foreigners\",\"fully\",\"region\",\"designed\",\"cheated\",\"beneficial\",\"shes\",\"accent\",\"couldnt\",\"queen\",\"sick\",\"blowing\",\"properly\",\"stronger\",\"returns\",\"condition\",\"musk\",\"ugly\",\"teams\",\"filter\",\"snow\",\"glasses\",\"employer\",\"solid\",\"followed\",\"embarrassing\",\"auto\",\"meeting\",\"belong\",\"strike\",\"internships\",\"bachelors\",\"administration\",\"temple\",\"wealth\",\"retail\",\"speakers\",\"electoral\",\"headphones\",\"streaming\",\"mirror\",\"diesel\",\"republic\",\"antivirus\",\"customers\",\"atm\",\"vagina\",\"cigarettes\",\"aptitude\",\"lewis\",\"saudi\",\"puppy\",\"recovery\",\"jimmy\",\"obsessed\",\"domestic\",\"pen\",\"batch\",\"de\",\"drawing\",\"ai\",\"medium\",\"simply\",\"photoshop\",\"sms\",\"turning\",\"nadu\",\"appropriate\",\"adobe\",\"substitute\",\"fruit\",\"recipes\",\"fighter\",\"saving\",\"greater\",\"cheat\",\"routine\",\"push\",\"sherlock\",\"arguments\",\"sony\",\"import\",\"soldiers\",\"charges\",\"emotions\",\"ibm\",\"un\",\"innovations\",\"itunes\",\"consultant\",\"iims\",\"relations\",\"psychopaths\",\"existing\",\"angle\",\"clash\",\"bus\",\"australian\",\"crazy\",\"pull\",\"theories\",\"savings\",\"suit\",\"contrast\",\"calculus\",\"pi\",\"credits\",\"bluetooth\",\"himself\",\"traveling\",\"criminal\",\"xiaomi\",\"zealand\",\"seats\",\"electron\",\"script\",\"11th\",\"lessons\",\"programmers\",\"december\",\"flag\",\"singh\",\"arabic\",\"sale\",\"nfl\",\"grammar\",\"killing\",\"virgin\",\"differently\",\"poem\",\"provided\",\"automation\",\"shy\",\"translation\",\"mathematical\",\"45\",\"celebrities\",\"spring\",\"downloading\",\"dr\",\"organization\",\"majority\",\"clients\",\"hd\",\"motivate\",\"thats\",\"thesis\",\"door\",\"weakest\",\"saw\",\"canon\",\"younger\",\"costs\",\"river\",\"rings\",\"factory\",\"decent\",\"clintons\",\"holes\",\"desert\",\"divorce\",\"sold\",\"cheese\",\"atom\",\"taught\",\"minute\",\"ocean\",\"crisis\",\"represent\",\"surgical\",\"parent\",\"brexit\",\"possibility\",\"longest\",\"edit\",\"scholarship\",\"motivated\",\"chocolate\",\"faced\",\"90\",\"parallel\",\"foot\",\"examination\",\"friendly\",\"kinds\",\"wins\",\"islamic\",\"degrees\",\"registered\",\"distribution\",\"junior\",\"gave\",\"sing\",\"articles\",\"hadoop\",\"saved\",\"hero\",\"ear\",\"asks\",\"improved\",\"teenager\",\"forms\",\"wash\",\"provides\",\"washington\",\"strikes\",\"binary\",\"syria\",\"indonesia\",\"powers\",\"highly\",\"heshe\",\"happiness\",\"director\",\"citizenship\",\"knew\",\"humanity\",\"translate\",\"nba\",\"permanently\",\"soccer\",\"todays\",\"challenges\",\"barack\",\"title\",\"latin\",\"fitness\",\"genuine\",\"investor\",\"dislike\",\"scenes\",\"hacker\",\"bangladesh\",\"ebay\",\"earning\",\"dell\",\"paytm\",\"spouse\",\"bored\",\"roman\",\"official\",\"dragon\",\"park\",\"except\",\"habits\",\"quote\",\"astrology\",\"congress\",\"automatically\",\"island\",\"religions\",\"christianity\",\"supreme\",\"owner\",\"hell\",\"wikipedia\",\"cancel\",\"industries\",\"actress\",\"client\",\"visual\",\"michael\",\"remain\",\"ability\",\"concrete\",\"conflict\",\"string\",\"linear\",\"supposed\",\"engines\",\"2012\",\"\\u2018\",\"lesser\",\"traditional\",\"episodes\",\"goals\",\"tata\",\"opening\",\"target\",\"weak\",\"anonymous\",\"bjp\",\"resource\",\"concepts\",\"ruby\",\"friendship\",\"nyc\",\"pretty\",\"implement\",\"painting\",\"ill\",\"agency\",\"reverse\",\"confused\",\"italy\",\"response\",\"yellow\",\"dance\",\"contain\",\"vice\",\"editing\",\"acting\",\"weirdest\",\"feels\",\"govt\",\"accounting\",\"rise\",\"wise\",\"leaving\",\"lens\",\"artist\",\"arvind\",\"pattern\",\"scared\",\"attention\",\"airlines\",\"sky\",\"malaysia\",\"port\",\"attempt\",\"element\",\"classical\",\"shown\",\"safety\",\"including\",\"tablet\",\"la\",\"terrorism\",\"commit\",\"maps\",\"african\",\"viewed\",\"calling\",\"6s\",\"agent\",\"output\",\"justice\",\"don\",\"addiction\",\"lock\",\"vegetarian\",\"britain\",\"percent\",\"meditation\",\"ibps\",\"monthly\",\"writers\",\"forward\",\"stuff\",\"mr\",\"ready\",\"forgot\",\"flying\",\"recommended\",\"fields\",\"blind\",\"l\",\"hinduism\",\"desktop\",\"host\",\"tattoo\",\"maintain\",\"boards\",\"helpful\",\"semester\",\"load\",\"tier\",\"agree\",\"factor\",\"elon\",\"freshers\",\"sql\",\"cases\",\"exact\",\"confidence\",\"behavior\",\"hacked\",\"quotes\",\"hydrogen\",\"pakistani\",\"masturbate\",\"divided\",\"skill\",\"fine\",\"falling\",\"chess\",\"charging\",\"pages\",\"vector\",\"supporters\",\"waste\",\"sanders\",\"affordable\",\"unlock\",\"techniques\",\"wine\",\"keyboard\",\"cm\",\"wireless\",\"lawyer\",\"egg\",\"cope\",\"mindblowing\",\"recipe\",\"corruption\",\"scored\",\"secure\",\"teaching\",\"opposite\",\"educational\",\"bernie\",\"y\",\"library\",\"models\",\"kid\",\"stack\",\"separate\",\"19\",\"extremely\",\"properties\",\"cable\",\"magic\",\"removed\",\"computing\",\"hospital\",\"beer\",\"christians\",\"twice\",\"kg\",\"consulting\",\"whose\",\"serious\",\"petrol\",\"travelling\",\"revolution\",\"custom\",\"structures\",\"guide\",\"celebrate\",\"lenovo\",\"turned\",\"ielts\",\"grades\",\"fuel\",\"relative\",\"oracle\",\"academy\",\"lack\",\"passed\",\"relation\",\"values\",\"movement\",\"strategies\",\"eu\",\"emotional\",\"legs\",\"pokemon\",\"3g\",\"iran\",\"mostly\",\"jewish\",\"offered\",\"log\",\"hasnt\",\"explanation\",\"signal\",\"stores\",\"syllabus\",\"bits\",\"yoga\",\"weapons\",\"gods\",\"10000\",\"delivery\",\"gb\",\"sum\",\"letters\",\"venture\",\"selection\",\"winning\",\"35\",\"comment\",\"consequences\",\"sport\",\"items\",\"seems\",\"ring\",\"jealous\",\"laptops\",\"criteria\",\"fresh\",\"reference\",\"bitcoin\",\"infinite\",\"perform\",\"brazil\",\"density\",\"plans\",\"hosting\",\"clothing\",\"hong\",\"dying\",\"heavy\",\"steve\",\"gone\",\"damage\",\"missing\",\"ethical\",\"republican\",\"contacts\",\"activity\",\"electronic\",\"qualities\",\"piano\",\"hisher\",\"repair\",\"posts\",\"disease\",\"winter\",\"ten\",\"publish\",\"paint\",\"physically\",\"executive\",\"deposit\",\"elements\",\"xbox\",\"ceo\",\"visitors\",\"discovered\",\"tickets\",\"literature\",\"primary\",\"naturally\",\"senior\",\"u\",\"hardest\",\"debate\",\"frequency\",\"vietnam\",\"cry\",\"assistant\",\"gifts\",\"practical\",\"funny\",\"valid\",\"liberal\",\"refer\",\"beat\",\"shape\",\"institutes\",\"msc\",\"internal\",\"located\",\"significant\",\"scientists\",\"g\",\"ship\",\"proper\",\"independence\",\"added\",\"hes\",\"catch\",\"urine\",\"effectively\",\"named\",\"responsible\",\"strength\",\"whos\",\"immigration\",\"vehicle\",\"tesla\",\"kong\",\"meth\",\"england\",\"huge\",\"pizza\",\"rejected\",\"george\",\"fan\",\"salt\",\"browser\",\"sat\",\"loved\",\"fees\",\"walking\",\"symbol\",\"equity\",\"ubuntu\",\"alternatives\",\"theme\",\"virus\",\"manufacturing\",\"cutoff\",\"pure\",\"22\",\"introvert\",\"unable\",\"greek\",\"rice\",\"gst\",\"happening\",\"centre\",\"kiss\",\"prison\",\"bigger\",\"font\",\"construction\",\"exercises\",\"keeps\",\"gmat\",\"offers\",\"cross\",\"nasa\",\"unit\",\"advertising\",\"cup\",\"fixed\",\"limited\",\"billion\",\"subjects\",\"arts\",\"worlds\",\"stupid\",\"breaking\",\"funding\",\"tank\",\"generate\",\"efficient\",\"exists\",\"atheist\",\"entrepreneur\",\"direction\",\"broken\",\"offline\",\"firms\",\"station\",\"magnetic\",\"include\",\"aliens\",\"tinder\",\"logo\",\"photography\",\"worse\",\"besides\",\"path\",\"somebody\",\"interviews\",\"persons\",\"figure\",\"placed\",\"nation\",\"knows\",\"unmarried\",\"hp\",\"profitable\",\"tricks\",\"boss\",\"reply\",\"scam\",\"circle\",\"processor\",\"debt\",\"growing\",\"royal\",\"fiction\",\"department\",\"mistake\",\"weird\",\"graphics\",\"external\",\"article\",\"volume\",\"scratch\",\"chain\",\"protect\",\"storage\",\"texas\",\"liquid\",\"circuit\",\"graphic\",\"tired\",\"weather\",\"oxygen\",\"velocity\",\"dad\",\"band\",\"teachers\",\"drugs\",\"complex\",\"studio\",\"accenture\",\"leader\",\"levels\",\"goal\",\"logic\",\"acne\",\"plastic\",\"motion\",\"button\",\"peoples\",\"vision\",\"gap\",\"dollar\",\"computers\",\"stomach\",\"sources\",\"constant\",\"draw\",\"dress\",\"calculated\",\"sort\",\"3rd\",\"club\",\"channels\",\"creating\",\"candidates\",\"kejriwal\",\"broke\",\"sentences\",\"format\",\"emails\",\"raw\",\"stanford\",\"completed\",\"documents\",\"pan\",\"showing\",\"enter\",\"unknown\",\"bought\",\"router\",\"claim\",\"six\",\"technologies\",\"\\u20b9\",\"flipkart\",\"infosys\",\"mutual\",\"angry\",\"iits\",\"affected\",\"prices\",\"shares\",\"naruto\",\"processing\",\"finding\",\"democratic\",\"evolution\",\"harmful\",\"dual\",\"virtual\",\"member\",\"wave\",\"actual\",\"extra\",\"radio\",\"citizens\",\"e\",\"hr\",\"previous\",\"stopped\",\"walk\",\"redmi\",\"speaker\",\"torrent\",\"smoke\",\"mistakes\",\"flash\",\"iron\",\"entire\",\"individual\",\"express\",\"flow\",\"mode\",\"aircraft\",\"section\",\"planets\",\"10th\",\"respond\",\"easier\",\"evil\",\"percentile\",\"seeing\",\"calories\",\"upgrade\",\"professor\",\"v\",\"launch\",\"staff\",\"till\",\"silicon\",\"entry\",\"constitution\",\"century\",\"notice\",\"ie\",\"atheists\",\"tests\",\"21\",\"became\",\"kerala\",\"truly\",\"count\",\"essay\",\"papers\",\"accurate\",\"colors\",\"respect\",\"ideal\",\"rock\",\"reliance\",\"peace\",\"masturbation\",\"audio\",\"random\",\"independent\",\"colour\",\"hotels\",\"presidency\",\"generation\",\"paypal\",\"shot\",\"central\",\"released\",\"occur\",\"display\",\"industrial\",\"particular\",\"risk\",\"eg\",\"belly\",\"pet\",\"similarities\",\"organic\",\"marijuana\",\"networks\",\"aspects\",\"flat\",\"d\",\"comments\",\"nose\",\"identify\",\"rbi\",\"improvement\",\"directly\",\"framework\",\"suggestions\",\"designing\",\"brands\",\"religious\",\"influence\",\"novels\",\"statistics\",\"historical\",\"ground\",\"commerce\",\"pregnancy\",\"romantic\",\"failure\",\"wearing\",\"john\",\"apart\",\"bay\",\"symptoms\",\"200\",\"couple\",\"60\",\"canadian\",\"lie\",\"print\",\"carry\",\"gender\",\"experienced\",\"pounds\",\"reservation\",\"either\",\"stage\",\"artificial\",\"fit\",\"blogs\",\"developing\",\"environment\",\"learned\",\"copy\",\"phase\",\"bond\",\"democracy\",\"cgpa\",\"operating\",\"surface\",\"officers\",\"h1b\",\"ip\",\"workout\",\"fee\",\"elected\",\"hands\",\"largest\",\"sad\",\"shouldnt\",\"seat\",\"sister\",\"developers\",\"despite\",\"scene\",\"po\",\"diploma\",\"request\",\"empire\",\"ratio\",\"considering\",\"academic\",\"tree\",\"register\",\"advantage\",\"eligible\",\"nit\",\"shop\",\"intel\",\"funniest\",\"alternative\",\"fail\",\"ads\",\"nature\",\"miss\",\"involved\",\"overrated\",\"attend\",\"freedom\",\"dna\",\"beginners\",\"raise\",\"dry\",\"failed\",\"legally\",\"batman\",\"upload\",\"carbon\",\"regret\",\"applied\",\"points\",\"investors\",\"pick\",\"equivalent\",\"connected\",\"christmas\",\"lyrics\",\"nations\",\"caused\",\"bsc\",\"1st\",\"action\",\"activities\",\"biology\",\"hide\",\"asia\",\"takes\",\"require\",\"alive\",\"mom\",\"cycle\",\"generally\",\"campaign\",\"fair\",\"wake\",\"bit\",\"rules\",\"olympics\",\"racist\",\"areas\",\"eggs\",\"feature\",\"sap\",\"taxes\",\"ad\",\"shall\",\"theyre\",\"species\",\"pilot\",\"firm\",\"fish\",\"define\",\"doctors\",\"piece\",\"itself\",\"bang\",\"solutions\",\"iim\",\"2013\",\"wanted\",\"length\",\"burn\",\"waves\",\"bar\",\"gives\",\"forces\",\"christian\",\"anybody\",\"relationships\",\"nice\",\"wedding\",\"various\",\"brother\",\"films\",\"cream\",\"suddenly\",\"philippines\",\"fashion\",\"truth\",\"gpa\",\"cgl\",\"tall\",\"goa\",\"hacking\",\"statement\",\"reset\",\"materials\",\"played\",\"match\",\"usb\",\"novel\",\"unusual\",\"knowing\",\"selected\",\"valley\",\"chrome\",\"couples\",\"becomes\",\"died\",\"cheating\",\"community\",\"groups\",\"category\",\"pursuing\",\"writer\",\"mexico\",\"anymore\",\"sugar\",\"climate\",\"brown\",\"players\",\"ii\",\"reviews\",\"took\",\"led\",\"connection\",\"begin\",\"html\",\"changing\",\"received\",\"plants\",\"debit\",\"record\",\"revenue\",\"mars\",\"strongest\",\"members\",\"formed\",\"union\",\"thought\",\"existence\",\"kashmir\",\"gandhi\",\"pdf\",\"banned\",\"0\",\"plane\",\"treated\",\"electricity\",\"scale\",\"basis\",\"moral\",\"images\",\"methods\",\"certification\",\"voltage\",\"style\",\"base\",\"excel\",\"amazing\",\"regarding\",\"result\",\"rates\",\"hold\",\"indias\",\"airport\",\"businesses\",\"feet\",\"built\",\"linkedin\",\"signs\",\"above\",\"networking\",\"r\",\"shopping\",\"looks\",\"went\",\"placements\",\"bed\",\"experiences\",\"daughter\",\"tourist\",\"employee\",\"caste\",\"wait\",\"direct\",\"especially\",\"feed\",\"continue\",\"expected\",\"algorithm\",\"depressed\",\"shoes\",\"soon\",\"supply\",\"stress\",\"24\",\"inr\",\"foods\",\"rent\",\"architecture\",\"ban\",\"entrance\",\"actors\",\"messenger\",\"unique\",\"kolkata\",\"funds\",\"rupee\",\"promote\",\"rupees\",\"jews\",\"23\",\"cook\",\"cultural\",\"accepted\",\"hear\",\"glass\",\"road\",\"joining\",\"measure\",\"havent\",\"metal\",\"resume\",\"afraid\",\"turkey\",\"meat\",\"goes\",\"installation\",\"netflix\",\"benefit\",\"demand\",\"release\",\"produce\",\"report\",\"cover\",\"changes\",\"double\",\"2nd\",\"reaction\",\"killed\",\"steel\",\"requirements\",\"france\",\"exchange\",\"ac\",\"quantum\",\"reliable\",\"box\",\"results\",\"lives\",\"treatment\",\"4g\",\"ece\",\"probability\",\"sleeping\",\"philosophy\",\"handle\",\"forget\",\"driver\",\"demonetization\",\"algorithms\",\"trade\",\"rule\",\"muscle\",\"calls\",\"tried\",\"mental\",\"sure\",\"quit\",\"navy\",\"achieve\",\"francisco\",\"location\",\"until\",\"sense\",\"anxiety\",\"wordpress\",\"focus\",\"fact\",\"production\",\"conversation\",\"motor\",\"five\",\"attracted\",\"hit\",\"analyst\",\"moto\",\"isis\",\"chicken\",\"sector\",\"permanent\",\"along\",\"king\",\"slow\",\"candidate\",\"minutes\",\"purchase\",\"gun\",\"selling\",\"usually\",\"\\u2026\",\"fly\",\"round\",\"panel\",\"error\",\"stocks\",\"api\",\"remember\",\"africa\",\"paying\",\"hitler\",\"3d\",\"regular\",\"losing\",\"mail\",\"yahoo\",\"cheapest\",\"older\",\"concept\",\"characters\",\"definition\",\"lines\",\"pm\",\"cloud\",\"cats\",\"russian\",\"ipad\",\"korean\",\"proof\",\"battle\",\"stars\",\"stream\",\"recent\",\"typical\",\"performance\",\"harvard\",\"restaurant\",\"origin\",\"listen\",\"smell\",\"decide\",\"serve\",\"undergraduate\",\"profit\",\"situation\",\"surgery\",\"asking\",\"plant\",\"link\",\"square\",\"completing\",\"four\",\"trust\",\"payment\",\"gym\",\"andor\",\"worklife\",\"guitar\",\"elections\",\"half\",\"investing\",\"scientist\",\"street\",\"needs\",\"native\",\"thoughts\",\"reality\",\"40\",\"medicine\",\"race\",\"choice\",\"longer\",\"came\",\"applying\",\"hiring\",\"west\",\"weed\",\"hacks\",\"step\",\"sea\",\"crime\",\"devices\",\"event\",\"citizen\",\"14\",\"17\",\"ticket\",\"fund\",\"equation\",\"suicide\",\"whom\",\"met\",\"almost\",\"designer\",\"local\",\"departments\",\"khan\",\"customer\",\"banking\",\"javascript\",\"trip\",\"issue\",\"react\",\"cannot\",\"dubai\",\"wall\",\"touch\",\"parts\",\"loves\",\"clothes\",\"straight\",\"sexual\",\"active\",\"inpatient\",\"dreams\",\"protein\",\"table\",\"exercise\",\"lord\",\"mtech\",\"creative\",\"ball\",\"speaking\",\"son\",\"receive\",\"dollars\",\"domain\",\"prospects\",\"hour\",\"graduation\",\"commercial\",\"themselves\",\"factors\",\"jesus\",\"programmer\",\"recommend\",\"replace\",\"chat\",\"placement\",\"episode\",\"fastest\",\"restaurants\",\"object\",\"drivers\",\"gaming\",\"mark\",\"taste\",\"seem\",\"perfect\",\"potential\",\"trumps\",\"appear\",\"rights\",\"equal\",\"rest\",\"package\",\"meant\",\"drop\",\"cool\",\"material\",\"potter\",\"events\",\"convince\",\"completely\",\"n\",\"zero\",\"significance\",\"lower\",\"feelings\",\"followers\",\"evidence\",\"certain\",\"later\",\"original\",\"bible\",\"disorder\",\"testing\",\"via\",\"stand\",\"actor\",\"characteristics\",\"cities\",\"reach\",\"ago\",\"mbbs\",\"speech\",\"electric\",\"approach\",\"scientific\",\"root\",\"analytics\",\"below\",\"grade\",\"mains\",\"topic\",\"fun\",\"ancient\",\"adult\",\"standard\",\"ice\",\"everyday\",\"population\",\"invented\",\"european\",\"intelligent\",\"11\",\"subject\",\"rehab\",\"background\",\"giving\",\"platform\",\"flight\",\"thrones\",\"maths\",\"dc\",\"teeth\",\"mit\",\"weeks\",\"east\",\"means\",\"programs\",\"beginner\",\"heat\",\"third\",\"tea\",\"range\",\"london\",\"maximum\",\"enjoy\",\"2000\",\"cells\",\"quickly\",\"here\",\"expensive\",\"phrase\",\"partner\",\"league\",\"anime\",\"latest\",\"specific\",\"whether\",\"functions\",\"os\",\"fire\",\"saying\",\"secret\",\"13\",\"planet\",\"hole\",\"super\",\"teacher\",\"strong\",\"accounts\",\"minister\",\"database\",\"economic\",\"channel\",\"estate\",\"ram\",\"switch\",\"asian\",\"smoking\",\"branch\",\"israel\",\"18\",\"features\",\"success\",\"lead\",\"total\",\"key\",\"master\",\"ok\",\"favourite\",\"psychology\",\"pok\\u00e9mon\",\"nothing\",\"clean\",\"25\",\"politics\",\"drinking\",\"sometimes\",\"recently\",\"korea\",\"sent\",\"poor\",\"hindu\",\"hollywood\",\"survive\",\"cure\",\"property\",\"return\",\"narendra\",\"budget\",\"sports\",\"limit\",\"arent\",\"boys\",\"driving\",\"whole\",\"cash\",\"smartphone\",\"php\",\"developed\",\"ssc\",\"hot\",\"attractive\",\"tool\",\"physical\",\"ecommerce\",\"sbi\",\"morning\",\"animal\",\"multiple\",\"loan\",\"acid\",\"fresher\",\"spanish\",\"moving\",\"decision\",\"county\",\"determined\",\"becoming\",\"seo\",\"summer\",\"manage\",\"server\",\"competitive\",\"milk\",\"importance\",\"banks\",\"cheap\",\"powerful\",\"issues\",\"penis\",\"according\",\"analysis\",\"bike\",\"position\",\"western\",\"advanced\",\"campus\",\"highest\",\"front\",\"court\",\"status\",\"gravity\",\"positions\",\"comes\",\"steps\",\"complete\",\"electronics\",\"won\",\"hurt\",\"certificate\",\"temperature\",\"player\",\"someones\",\"communication\",\"million\",\"talking\",\"preparing\",\"finance\",\"cancer\",\"9\",\"harry\",\"accept\",\"2014\",\"plus\",\"born\",\"tcs\",\"license\",\"bring\",\"teach\",\"practice\",\"trading\",\"m\",\"might\",\"opportunities\",\"global\",\"wish\",\"outside\",\"attack\",\"procedure\",\"needed\",\"update\",\"coffee\",\"provider\",\"rather\",\"16\",\"allow\",\"tamil\",\"mix\",\"connect\",\"room\",\"watching\",\"deep\",\"york\",\"image\",\"birth\",\"sign\",\"birthday\",\"playing\",\"wars\",\"grads\",\"hire\",\"phones\",\"cbse\",\"details\",\"clear\",\"cricket\",\"dangerous\",\"track\",\"corporate\",\"voice\",\"upsc\",\"content\",\"okay\",\"san\",\"heart\",\"far\",\"heard\",\"prove\",\"positive\",\"moment\",\"sales\",\"opinion\",\"engineers\",\"block\",\"diet\",\"coding\",\"core\",\"baby\",\"father\",\"little\",\"large\",\"blocked\",\"distance\",\"land\",\"simple\",\"husband\",\"told\",\"traffic\",\"prevent\",\"pictures\",\"planning\",\"fear\",\"classes\",\"towards\",\"technical\",\"building\",\"trying\",\"photo\",\"early\",\"uses\",\"sydney\",\"startups\",\"act\",\"id\",\"describe\",\"12th\",\"may\",\"formula\",\"gets\",\"present\",\"wont\",\"cut\",\"treat\",\"mathematics\",\"visiting\",\"eye\",\"policy\",\"close\",\"cse\",\"suitable\",\"version\",\"tools\",\"head\",\"minimum\",\"chennai\",\"easily\",\"method\",\"intelligence\",\"gre\",\"mother\",\"doctor\",\"macbook\",\"deleted\",\"gas\",\"suggest\",\"cards\",\"files\",\"loss\",\"art\",\"easiest\",\"late\",\"among\",\"together\",\"depression\",\"higher\",\"alone\",\"economics\",\"dead\",\"growth\",\"insurance\",\"gold\",\"necessary\",\"neet\",\"blog\",\"example\",\"memory\",\"crack\",\"consider\",\"works\",\"currency\",\"recruit\",\"pursue\",\"strategy\",\"young\",\"cs\",\"projects\",\"50\",\"manager\",\"abroad\",\"schools\",\"illegal\",\"inside\",\"stories\",\"hand\",\"t\",\"greatest\",\"personality\",\"galaxy\",\"device\",\"views\",\"user\",\"chemistry\",\"cars\",\"iq\",\"prefer\",\"picture\",\"nuclear\",\"middle\",\"applications\",\"gmail\",\"laws\",\"final\",\"capital\",\"kids\",\"society\",\"fake\",\"bill\",\"save\",\"though\",\"likely\",\"determine\",\"shows\",\"character\",\"snapchat\",\"youre\",\"eyes\",\"islam\",\"marry\",\"brand\",\"yet\",\"impact\",\"speak\",\"within\",\"rich\",\"resources\",\"net\",\"non\",\"pressure\",\"changed\",\"allowed\",\"obama\",\"cold\",\"running\",\"feeling\",\"jio\",\"football\",\"gift\",\"written\",\"buying\",\"mac\",\"spend\",\"prime\",\"blue\",\"train\",\"studies\",\"negative\",\"thinking\",\"solution\",\"sun\",\"least\",\"following\",\"install\",\"else\",\"muslims\",\"camera\",\"vote\",\"linux\",\"expect\",\"german\",\"recover\",\"starting\",\"crush\",\"coming\",\"muslim\",\"modern\",\"battery\",\"provide\",\"access\",\"presidential\",\"interest\",\"dating\",\"pro\",\"likes\",\"french\",\"singapore\",\"useful\",\"already\",\"professional\",\"percentage\",\"drink\",\"created\",\"board\",\"passport\",\"structure\",\"case\",\"height\",\"microsoft\",\"break\",\"screen\",\"names\",\"chance\",\"special\",\"30\",\"skin\",\"natural\",\"color\",\"interested\",\"amount\",\"pain\",\"healthy\",\"hack\",\"messages\",\"ias\",\"gay\",\"disadvantages\",\"pass\",\"moon\",\"systems\",\"hindi\",\"financial\",\"taken\",\"yes\",\"sim\",\"pregnant\",\"faster\",\"animals\",\"internship\",\"let\",\"photos\",\"balance\",\"sound\",\"due\",\"knowledge\",\"charge\",\"message\",\"officer\",\"solar\",\"military\",\"meet\",\"option\",\"reading\",\"across\",\"overcome\",\"everyone\",\"everything\",\"wife\",\"reduce\",\"chances\",\"samsung\",\"income\",\"bollywood\",\"season\",\"europe\",\"boy\",\"currently\",\"ex\",\"smart\",\"california\",\"engine\",\"paid\",\"army\",\"contact\",\"address\",\"wants\",\"ones\",\"gain\",\"reasons\",\"avoid\",\"please\",\"note\",\"known\",\"pune\",\"film\",\"national\",\"once\",\"users\",\"porn\",\"scope\",\"twitter\",\"drug\",\"rank\",\"japan\",\"fight\",\"transfer\",\"political\",\"green\",\"news\",\"self\",\"uber\",\"basic\",\"british\",\"religion\",\"hyderabad\",\"topics\",\"explain\",\"phd\",\"eating\",\"letter\",\"calculate\",\"ive\",\"tech\",\"personal\",\"japanese\",\"check\",\"hotel\",\"wifi\",\"beautiful\",\"difficult\",\"paper\",\"languages\",\"investment\",\"develop\",\"north\",\"electrical\",\"ios\",\"alcohol\",\"exactly\",\"profile\",\"past\",\"exams\",\"ca\",\"convert\",\"vs\",\"understand\",\"care\",\"dream\",\"try\",\"americans\",\"lost\",\"chemical\",\"source\",\"b\",\"admission\",\"easy\",\"must\",\"three\",\"effect\",\"view\",\"options\",\"page\",\"away\",\"red\",\"said\",\"line\",\"short\",\"happy\",\"security\",\"dark\",\"preparation\",\"second\",\"fat\",\"matter\",\"few\",\"since\",\"role\",\"pc\",\"office\",\"team\",\"delete\",\"cell\",\"election\",\"economy\",\"term\",\"dogs\",\"text\",\"female\",\"effective\",\"brain\",\"share\",\"digital\",\"btech\",\"russia\",\"\\u201c\",\"party\",\"numbers\",\"20\",\"store\",\"male\",\"mass\",\"turn\",\"left\",\"married\",\"rs\",\"taking\",\"those\",\"password\",\"follow\",\"advice\",\"isnt\",\"15\",\"types\",\"network\",\"\\u201d\",\"week\",\"purpose\",\"related\",\"fix\",\"started\",\"courses\",\"masters\",\"grow\",\"8\",\"fast\",\"leave\",\"100\",\"often\",\"found\",\"pros\",\"marriage\",\"cons\",\"quality\",\"words\",\"kill\",\"price\",\"near\",\"modi\",\"enough\",\"search\",\"python\",\"x\",\"blood\",\"math\",\"yourself\",\"drive\",\"size\",\"star\",\"graduate\",\"majors\",\"500\",\"model\",\"studying\",\"general\",\"oil\",\"colleges\",\"area\",\"developer\",\"germany\",\"industry\",\"full\",\"training\",\"says\",\"period\",\"videos\",\"universe\",\"fall\",\"daily\",\"information\",\"foreign\",\"credit\",\"force\",\"12\",\"youve\",\"south\",\"offer\",\"set\",\"add\",\"send\",\"australia\",\"center\",\"1000\",\"famous\",\"2015\",\"lot\",\"function\",\"tax\",\"correct\",\"solve\",\"advantages\",\"coaching\",\"institute\",\"effects\",\"guys\",\"again\",\"group\",\"hours\",\"side\",\"sentence\",\"low\",\"similar\",\"plan\",\"children\",\"answers\",\"talk\",\"marks\",\"ideas\",\"theory\",\"death\",\"compared\",\"night\",\"remove\",\"dog\",\"anything\",\"single\",\"successful\",\"gate\",\"indians\",\"put\",\"problems\",\"move\",\"writing\",\"point\",\"invest\",\"asked\",\"biggest\",\"others\",\"stock\",\"notes\",\"story\",\"machine\",\"private\",\"sell\",\"seen\",\"required\",\"field\",\"file\",\"rate\",\"humans\",\"application\",\"face\",\"sites\",\"mind\",\"facts\",\"mumbai\",\"post\",\"stay\",\"child\",\"terms\",\"products\",\"control\",\"legal\",\"police\",\"didnt\",\"level\",\"worst\",\"hate\",\"visit\",\"called\",\"amazon\",\"causes\",\"health\",\"form\",\"physics\",\"iit\",\"skills\",\"times\",\"medical\",\"based\",\"list\",\"websites\",\"die\",\"part\",\"less\",\"benefits\",\"apple\",\"instead\",\"these\",\"boyfriend\",\"sleep\",\"canada\",\"reason\",\"education\",\"cause\",\"jee\",\"value\",\"today\",\"media\",\"public\",\"happened\",\"product\",\"research\",\"main\",\"behind\",\"international\",\"project\",\"uk\",\"differ\",\"7\",\"places\",\"wear\",\"order\",\"date\",\"etc\",\"small\",\"songs\",\"apps\",\"email\",\"given\",\"wrong\",\"site\",\"normal\",\"culture\",\"also\",\"civil\",\"city\",\"available\",\"house\",\"exist\",\"startup\",\"services\",\"ms\",\"both\",\"down\",\"2017\",\"run\",\"cat\",\"well\",\"space\",\"join\",\"deal\",\"games\",\"visa\",\"rid\",\"air\",\"speed\",\"popular\",\"problem\",\"support\",\"current\",\"pakistan\",\"choose\",\"build\",\"idea\",\"america\",\"whatsapp\",\"affect\",\"law\",\"technology\",\"call\",\"6\",\"universities\",\"family\",\"marketing\",\"major\",\"actually\",\"favorite\",\"light\",\"bangalore\",\"woman\",\"because\",\"type\",\"program\",\"looking\",\"living\",\"open\",\"believe\",\"month\",\"able\",\"management\",\"travel\",\"degree\",\"show\",\"interesting\",\"score\",\"months\",\"series\",\"chinese\",\"development\",\"end\",\"code\",\"design\",\"per\",\"employees\",\"review\",\"clinton\",\"common\",\"kind\",\"internet\",\"song\",\"download\",\"course\",\"parents\",\"jobs\",\"such\",\"increase\",\"java\",\"god\",\"another\",\"united\",\"girlfriend\",\"mechanical\",\"always\",\"next\",\"never\",\"around\",\"tips\",\"mba\",\"myself\",\"hillary\",\"apply\",\"answer\",\"something\",\"considered\",\"making\",\"differences\",\"market\",\"compare\",\"great\",\"keep\",\"test\",\"s\",\"win\",\"against\",\"states\",\"earn\",\"youtube\",\"worth\",\"delhi\",\"energy\",\"laptop\",\"american\",\"lose\",\"each\",\"hard\",\"makes\",\"age\",\"ask\",\"safe\",\"body\",\"power\",\"salary\",\"4\",\"watch\",\"white\",\"windows\",\"instagram\",\"history\",\"pay\",\"every\",\"last\",\"create\",\"relationship\",\"music\",\"too\",\"meaning\",\"state\",\"average\",\"earth\",\"got\",\"process\",\"class\",\"tv\",\"eat\",\"done\",\"happens\",\"days\",\"big\",\"off\",\"improve\",\"future\",\"place\",\"man\",\"human\",\"government\",\"play\",\"countries\",\"food\",\"service\",\"students\",\"weight\",\"game\",\"engineer\",\"write\",\"very\",\"interview\",\"web\",\"tell\",\"social\",\"girls\",\"video\",\"look\",\"having\",\"guy\",\"home\",\"hair\",\"usa\",\"doesnt\",\"word\",\"bank\",\"friend\",\"true\",\"experience\",\"career\",\"president\",\"question\",\"own\",\"china\",\"come\",\"under\",\"working\",\"him\",\"doing\",\"donald\",\"friends\",\"right\",\"5\",\"cost\",\"mobile\",\"even\",\"movies\",\"then\",\"c\",\"\\u2019\",\"exam\",\"men\",\"learning\",\"card\",\"war\",\"read\",\"programming\",\"black\",\"anyone\",\"high\",\"10\",\"companies\",\"car\",\"getting\",\"give\",\"important\",\"questions\",\"cant\",\"iphone\",\"website\",\"top\",\"water\",\"prepare\",\"during\",\"real\",\"say\",\"system\",\"name\",\"through\",\"two\",\"1\",\"our\",\"study\",\"3\",\"university\",\"made\",\"back\",\"happen\",\"stop\",\"student\",\"sex\",\"bad\",\"language\",\"going\",\"same\",\"before\",\"software\",\"school\",\"live\",\"country\",\"android\",\"science\",\"help\",\"she\",\"see\",\"thing\",\"women\",\"over\",\"data\",\"examples\",\"computer\",\"had\",\"ways\",\"change\",\"while\",\"book\",\"english\",\"account\",\"still\",\"movie\",\"books\",\"2016\",\"facebook\",\"free\",\"number\",\"college\",\"app\",\"2\",\"just\",\"now\",\"no\",\"trump\",\"company\",\"only\",\"old\",\"been\",\"google\",\"phone\",\"long\",\"different\",\"girl\",\"his\",\"her\",\"years\",\"really\",\"them\",\"using\",\"business\",\"need\",\"being\",\"buy\",\"day\",\"person\",\"things\",\"possible\",\"could\",\"were\",\"its\",\"love\",\"engineering\",\"im\",\"used\",\"online\",\"go\",\"year\",\"he\",\"into\",\"feel\",\"dont\",\"first\",\"up\"]]]}}},\"view\":{\"type\":\"object\",\"name\":\"CDSView\",\"id\":\"p1045\",\"attributes\":{\"filter\":{\"type\":\"object\",\"name\":\"AllIndices\",\"id\":\"p1046\"}}},\"glyph\":{\"type\":\"object\",\"name\":\"Scatter\",\"id\":\"p1041\",\"attributes\":{\"x\":{\"type\":\"field\",\"field\":\"x\"},\"y\":{\"type\":\"field\",\"field\":\"y\"},\"size\":{\"type\":\"value\",\"value\":10},\"line_color\":{\"type\":\"field\",\"field\":\"color\"},\"line_alpha\":{\"type\":\"value\",\"value\":0.25},\"fill_color\":{\"type\":\"field\",\"field\":\"color\"},\"fill_alpha\":{\"type\":\"value\",\"value\":0.25},\"hatch_color\":{\"type\":\"field\",\"field\":\"color\"},\"hatch_alpha\":{\"type\":\"value\",\"value\":0.25}}},\"nonselection_glyph\":{\"type\":\"object\",\"name\":\"Scatter\",\"id\":\"p1042\",\"attributes\":{\"x\":{\"type\":\"field\",\"field\":\"x\"},\"y\":{\"type\":\"field\",\"field\":\"y\"},\"size\":{\"type\":\"value\",\"value\":10},\"line_color\":{\"type\":\"field\",\"field\":\"color\"},\"line_alpha\":{\"type\":\"value\",\"value\":0.1},\"fill_color\":{\"type\":\"field\",\"field\":\"color\"},\"fill_alpha\":{\"type\":\"value\",\"value\":0.1},\"hatch_color\":{\"type\":\"field\",\"field\":\"color\"},\"hatch_alpha\":{\"type\":\"value\",\"value\":0.1}}},\"muted_glyph\":{\"type\":\"object\",\"name\":\"Scatter\",\"id\":\"p1043\",\"attributes\":{\"x\":{\"type\":\"field\",\"field\":\"x\"},\"y\":{\"type\":\"field\",\"field\":\"y\"},\"size\":{\"type\":\"value\",\"value\":10},\"line_color\":{\"type\":\"field\",\"field\":\"color\"},\"line_alpha\":{\"type\":\"value\",\"value\":0.2},\"fill_color\":{\"type\":\"field\",\"field\":\"color\"},\"fill_alpha\":{\"type\":\"value\",\"value\":0.2},\"hatch_color\":{\"type\":\"field\",\"field\":\"color\"},\"hatch_alpha\":{\"type\":\"value\",\"value\":0.2}}}}}],\"toolbar\":{\"type\":\"object\",\"name\":\"Toolbar\",\"id\":\"p1012\",\"attributes\":{\"tools\":[{\"type\":\"object\",\"name\":\"PanTool\",\"id\":\"p1025\"},{\"type\":\"object\",\"name\":\"WheelZoomTool\",\"id\":\"p1026\",\"attributes\":{\"renderers\":\"auto\"}},{\"type\":\"object\",\"name\":\"BoxZoomTool\",\"id\":\"p1027\",\"attributes\":{\"overlay\":{\"type\":\"object\",\"name\":\"BoxAnnotation\",\"id\":\"p1028\",\"attributes\":{\"syncable\":false,\"line_color\":\"black\",\"line_alpha\":1.0,\"line_width\":2,\"line_dash\":[4,4],\"fill_color\":\"lightgrey\",\"fill_alpha\":0.5,\"level\":\"overlay\",\"visible\":false,\"left\":{\"type\":\"number\",\"value\":\"nan\"},\"right\":{\"type\":\"number\",\"value\":\"nan\"},\"top\":{\"type\":\"number\",\"value\":\"nan\"},\"bottom\":{\"type\":\"number\",\"value\":\"nan\"},\"left_units\":\"canvas\",\"right_units\":\"canvas\",\"top_units\":\"canvas\",\"bottom_units\":\"canvas\",\"handles\":{\"type\":\"object\",\"name\":\"BoxInteractionHandles\",\"id\":\"p1034\",\"attributes\":{\"all\":{\"type\":\"object\",\"name\":\"AreaVisuals\",\"id\":\"p1033\",\"attributes\":{\"fill_color\":\"white\",\"hover_fill_color\":\"lightgray\"}}}}}}}},{\"type\":\"object\",\"name\":\"SaveTool\",\"id\":\"p1035\"},{\"type\":\"object\",\"name\":\"ResetTool\",\"id\":\"p1036\"},{\"type\":\"object\",\"name\":\"HelpTool\",\"id\":\"p1037\"},{\"type\":\"object\",\"name\":\"HoverTool\",\"id\":\"p1047\",\"attributes\":{\"renderers\":\"auto\",\"tooltips\":[[\"token\",\"@token\"]]}}],\"active_scroll\":{\"id\":\"p1026\"}}},\"left\":[{\"type\":\"object\",\"name\":\"LinearAxis\",\"id\":\"p1020\",\"attributes\":{\"ticker\":{\"type\":\"object\",\"name\":\"BasicTicker\",\"id\":\"p1021\",\"attributes\":{\"mantissas\":[1,2,5]}},\"formatter\":{\"type\":\"object\",\"name\":\"BasicTickFormatter\",\"id\":\"p1022\"},\"major_label_policy\":{\"type\":\"object\",\"name\":\"AllLabels\",\"id\":\"p1023\"}}}],\"below\":[{\"type\":\"object\",\"name\":\"LinearAxis\",\"id\":\"p1015\",\"attributes\":{\"ticker\":{\"type\":\"object\",\"name\":\"BasicTicker\",\"id\":\"p1016\",\"attributes\":{\"mantissas\":[1,2,5]}},\"formatter\":{\"type\":\"object\",\"name\":\"BasicTickFormatter\",\"id\":\"p1017\"},\"major_label_policy\":{\"type\":\"object\",\"name\":\"AllLabels\",\"id\":\"p1018\"}}}],\"center\":[{\"type\":\"object\",\"name\":\"Grid\",\"id\":\"p1019\",\"attributes\":{\"axis\":{\"id\":\"p1015\"}}},{\"type\":\"object\",\"name\":\"Grid\",\"id\":\"p1024\",\"attributes\":{\"dimension\":1,\"axis\":{\"id\":\"p1020\"}}}]}}]}};\n  const render_items = [{\"docid\":\"c091e9eb-3641-41d6-97b1-db37783d0b24\",\"roots\":{\"p1004\":\"f74da55e-90fe-4439-8d23-e48ade8d51c9\"},\"root_ids\":[\"p1004\"]}];\n  void root.Bokeh.embed.embed_items_notebook(docs_json, render_items);\n  }\n  if (root.Bokeh !== undefined) {\n    embed_document(root);\n  } else {\n    let attempts = 0;\n    const timer = setInterval(function(root) {\n      if (root.Bokeh !== undefined) {\n        clearInterval(timer);\n        embed_document(root);\n      } else {\n        attempts++;\n        if (attempts > 100) {\n          clearInterval(timer);\n          console.log(\"Bokeh: ERROR: Unable to run BokehJS code because BokehJS library is missing\");\n        }\n      }\n    }, 10, root)\n  }\n})(window);",
      "application/vnd.bokehjs_exec.v0+json": ""
     },
     "metadata": {
      "application/vnd.bokehjs_exec.v0+json": {
       "id": "p1004"
      }
     },
     "output_type": "display_data"
    },
    {
     "data": {
      "text/html": [
       "<div style=\"display: table;\"><div style=\"display: table-row;\"><div style=\"display: table-cell;\"><b title=\"bokeh.plotting._figure.figure\">figure</b>(</div><div style=\"display: table-cell;\">id&nbsp;=&nbsp;'p1004', <span id=\"p1051\" style=\"cursor: pointer;\">&hellip;)</span></div></div><div class=\"p1050\" style=\"display: none;\"><div style=\"display: table-cell;\"></div><div style=\"display: table-cell;\">above&nbsp;=&nbsp;[],</div></div><div class=\"p1050\" style=\"display: none;\"><div style=\"display: table-cell;\"></div><div style=\"display: table-cell;\">align&nbsp;=&nbsp;'auto',</div></div><div class=\"p1050\" style=\"display: none;\"><div style=\"display: table-cell;\"></div><div style=\"display: table-cell;\">aspect_ratio&nbsp;=&nbsp;None,</div></div><div class=\"p1050\" style=\"display: none;\"><div style=\"display: table-cell;\"></div><div style=\"display: table-cell;\">aspect_scale&nbsp;=&nbsp;1,</div></div><div class=\"p1050\" style=\"display: none;\"><div style=\"display: table-cell;\"></div><div style=\"display: table-cell;\">attribution&nbsp;=&nbsp;[],</div></div><div class=\"p1050\" style=\"display: none;\"><div style=\"display: table-cell;\"></div><div style=\"display: table-cell;\">background_fill_alpha&nbsp;=&nbsp;1.0,</div></div><div class=\"p1050\" style=\"display: none;\"><div style=\"display: table-cell;\"></div><div style=\"display: table-cell;\">background_fill_color&nbsp;=&nbsp;'#ffffff',</div></div><div class=\"p1050\" style=\"display: none;\"><div style=\"display: table-cell;\"></div><div style=\"display: table-cell;\">below&nbsp;=&nbsp;[LinearAxis(id='p1015', ...)],</div></div><div class=\"p1050\" style=\"display: none;\"><div style=\"display: table-cell;\"></div><div style=\"display: table-cell;\">border_fill_alpha&nbsp;=&nbsp;1.0,</div></div><div class=\"p1050\" style=\"display: none;\"><div style=\"display: table-cell;\"></div><div style=\"display: table-cell;\">border_fill_color&nbsp;=&nbsp;'#ffffff',</div></div><div class=\"p1050\" style=\"display: none;\"><div style=\"display: table-cell;\"></div><div style=\"display: table-cell;\">center&nbsp;=&nbsp;[Grid(id='p1019', ...), Grid(id='p1024', ...)],</div></div><div class=\"p1050\" style=\"display: none;\"><div style=\"display: table-cell;\"></div><div style=\"display: table-cell;\">context_menu&nbsp;=&nbsp;None,</div></div><div class=\"p1050\" style=\"display: none;\"><div style=\"display: table-cell;\"></div><div style=\"display: table-cell;\">css_classes&nbsp;=&nbsp;[],</div></div><div class=\"p1050\" style=\"display: none;\"><div style=\"display: table-cell;\"></div><div style=\"display: table-cell;\">css_variables&nbsp;=&nbsp;{},</div></div><div class=\"p1050\" style=\"display: none;\"><div style=\"display: table-cell;\"></div><div style=\"display: table-cell;\">disabled&nbsp;=&nbsp;False,</div></div><div class=\"p1050\" style=\"display: none;\"><div style=\"display: table-cell;\"></div><div style=\"display: table-cell;\">elements&nbsp;=&nbsp;[],</div></div><div class=\"p1050\" style=\"display: none;\"><div style=\"display: table-cell;\"></div><div style=\"display: table-cell;\">extra_x_ranges&nbsp;=&nbsp;{},</div></div><div class=\"p1050\" style=\"display: none;\"><div style=\"display: table-cell;\"></div><div style=\"display: table-cell;\">extra_x_scales&nbsp;=&nbsp;{},</div></div><div class=\"p1050\" style=\"display: none;\"><div style=\"display: table-cell;\"></div><div style=\"display: table-cell;\">extra_y_ranges&nbsp;=&nbsp;{},</div></div><div class=\"p1050\" style=\"display: none;\"><div style=\"display: table-cell;\"></div><div style=\"display: table-cell;\">extra_y_scales&nbsp;=&nbsp;{},</div></div><div class=\"p1050\" style=\"display: none;\"><div style=\"display: table-cell;\"></div><div style=\"display: table-cell;\">flow_mode&nbsp;=&nbsp;'block',</div></div><div class=\"p1050\" style=\"display: none;\"><div style=\"display: table-cell;\"></div><div style=\"display: table-cell;\">frame_align&nbsp;=&nbsp;True,</div></div><div class=\"p1050\" style=\"display: none;\"><div style=\"display: table-cell;\"></div><div style=\"display: table-cell;\">frame_height&nbsp;=&nbsp;None,</div></div><div class=\"p1050\" style=\"display: none;\"><div style=\"display: table-cell;\"></div><div style=\"display: table-cell;\">frame_width&nbsp;=&nbsp;None,</div></div><div class=\"p1050\" style=\"display: none;\"><div style=\"display: table-cell;\"></div><div style=\"display: table-cell;\">height&nbsp;=&nbsp;400,</div></div><div class=\"p1050\" style=\"display: none;\"><div style=\"display: table-cell;\"></div><div style=\"display: table-cell;\">height_policy&nbsp;=&nbsp;'auto',</div></div><div class=\"p1050\" style=\"display: none;\"><div style=\"display: table-cell;\"></div><div style=\"display: table-cell;\">hidpi&nbsp;=&nbsp;True,</div></div><div class=\"p1050\" style=\"display: none;\"><div style=\"display: table-cell;\"></div><div style=\"display: table-cell;\">hold_render&nbsp;=&nbsp;False,</div></div><div class=\"p1050\" style=\"display: none;\"><div style=\"display: table-cell;\"></div><div style=\"display: table-cell;\">js_event_callbacks&nbsp;=&nbsp;{},</div></div><div class=\"p1050\" style=\"display: none;\"><div style=\"display: table-cell;\"></div><div style=\"display: table-cell;\">js_property_callbacks&nbsp;=&nbsp;{},</div></div><div class=\"p1050\" style=\"display: none;\"><div style=\"display: table-cell;\"></div><div style=\"display: table-cell;\">left&nbsp;=&nbsp;[LinearAxis(id='p1020', ...)],</div></div><div class=\"p1050\" style=\"display: none;\"><div style=\"display: table-cell;\"></div><div style=\"display: table-cell;\">lod_factor&nbsp;=&nbsp;10,</div></div><div class=\"p1050\" style=\"display: none;\"><div style=\"display: table-cell;\"></div><div style=\"display: table-cell;\">lod_interval&nbsp;=&nbsp;300,</div></div><div class=\"p1050\" style=\"display: none;\"><div style=\"display: table-cell;\"></div><div style=\"display: table-cell;\">lod_threshold&nbsp;=&nbsp;2000,</div></div><div class=\"p1050\" style=\"display: none;\"><div style=\"display: table-cell;\"></div><div style=\"display: table-cell;\">lod_timeout&nbsp;=&nbsp;500,</div></div><div class=\"p1050\" style=\"display: none;\"><div style=\"display: table-cell;\"></div><div style=\"display: table-cell;\">margin&nbsp;=&nbsp;None,</div></div><div class=\"p1050\" style=\"display: none;\"><div style=\"display: table-cell;\"></div><div style=\"display: table-cell;\">match_aspect&nbsp;=&nbsp;False,</div></div><div class=\"p1050\" style=\"display: none;\"><div style=\"display: table-cell;\"></div><div style=\"display: table-cell;\">max_height&nbsp;=&nbsp;None,</div></div><div class=\"p1050\" style=\"display: none;\"><div style=\"display: table-cell;\"></div><div style=\"display: table-cell;\">max_width&nbsp;=&nbsp;None,</div></div><div class=\"p1050\" style=\"display: none;\"><div style=\"display: table-cell;\"></div><div style=\"display: table-cell;\">min_border&nbsp;=&nbsp;5,</div></div><div class=\"p1050\" style=\"display: none;\"><div style=\"display: table-cell;\"></div><div style=\"display: table-cell;\">min_border_bottom&nbsp;=&nbsp;None,</div></div><div class=\"p1050\" style=\"display: none;\"><div style=\"display: table-cell;\"></div><div style=\"display: table-cell;\">min_border_left&nbsp;=&nbsp;None,</div></div><div class=\"p1050\" style=\"display: none;\"><div style=\"display: table-cell;\"></div><div style=\"display: table-cell;\">min_border_right&nbsp;=&nbsp;None,</div></div><div class=\"p1050\" style=\"display: none;\"><div style=\"display: table-cell;\"></div><div style=\"display: table-cell;\">min_border_top&nbsp;=&nbsp;None,</div></div><div class=\"p1050\" style=\"display: none;\"><div style=\"display: table-cell;\"></div><div style=\"display: table-cell;\">min_height&nbsp;=&nbsp;None,</div></div><div class=\"p1050\" style=\"display: none;\"><div style=\"display: table-cell;\"></div><div style=\"display: table-cell;\">min_width&nbsp;=&nbsp;None,</div></div><div class=\"p1050\" style=\"display: none;\"><div style=\"display: table-cell;\"></div><div style=\"display: table-cell;\">name&nbsp;=&nbsp;None,</div></div><div class=\"p1050\" style=\"display: none;\"><div style=\"display: table-cell;\"></div><div style=\"display: table-cell;\">outline_line_alpha&nbsp;=&nbsp;1.0,</div></div><div class=\"p1050\" style=\"display: none;\"><div style=\"display: table-cell;\"></div><div style=\"display: table-cell;\">outline_line_cap&nbsp;=&nbsp;'butt',</div></div><div class=\"p1050\" style=\"display: none;\"><div style=\"display: table-cell;\"></div><div style=\"display: table-cell;\">outline_line_color&nbsp;=&nbsp;'#e5e5e5',</div></div><div class=\"p1050\" style=\"display: none;\"><div style=\"display: table-cell;\"></div><div style=\"display: table-cell;\">outline_line_dash&nbsp;=&nbsp;[],</div></div><div class=\"p1050\" style=\"display: none;\"><div style=\"display: table-cell;\"></div><div style=\"display: table-cell;\">outline_line_dash_offset&nbsp;=&nbsp;0,</div></div><div class=\"p1050\" style=\"display: none;\"><div style=\"display: table-cell;\"></div><div style=\"display: table-cell;\">outline_line_join&nbsp;=&nbsp;'bevel',</div></div><div class=\"p1050\" style=\"display: none;\"><div style=\"display: table-cell;\"></div><div style=\"display: table-cell;\">outline_line_width&nbsp;=&nbsp;1,</div></div><div class=\"p1050\" style=\"display: none;\"><div style=\"display: table-cell;\"></div><div style=\"display: table-cell;\">output_backend&nbsp;=&nbsp;'canvas',</div></div><div class=\"p1050\" style=\"display: none;\"><div style=\"display: table-cell;\"></div><div style=\"display: table-cell;\">renderers&nbsp;=&nbsp;[GlyphRenderer(id='p1044', ...)],</div></div><div class=\"p1050\" style=\"display: none;\"><div style=\"display: table-cell;\"></div><div style=\"display: table-cell;\">reset_policy&nbsp;=&nbsp;'standard',</div></div><div class=\"p1050\" style=\"display: none;\"><div style=\"display: table-cell;\"></div><div style=\"display: table-cell;\">resizable&nbsp;=&nbsp;False,</div></div><div class=\"p1050\" style=\"display: none;\"><div style=\"display: table-cell;\"></div><div style=\"display: table-cell;\">right&nbsp;=&nbsp;[],</div></div><div class=\"p1050\" style=\"display: none;\"><div style=\"display: table-cell;\"></div><div style=\"display: table-cell;\">sizing_mode&nbsp;=&nbsp;None,</div></div><div class=\"p1050\" style=\"display: none;\"><div style=\"display: table-cell;\"></div><div style=\"display: table-cell;\">styles&nbsp;=&nbsp;{},</div></div><div class=\"p1050\" style=\"display: none;\"><div style=\"display: table-cell;\"></div><div style=\"display: table-cell;\">stylesheets&nbsp;=&nbsp;[],</div></div><div class=\"p1050\" style=\"display: none;\"><div style=\"display: table-cell;\"></div><div style=\"display: table-cell;\">subscribed_events&nbsp;=&nbsp;PropertyValueSet(),</div></div><div class=\"p1050\" style=\"display: none;\"><div style=\"display: table-cell;\"></div><div style=\"display: table-cell;\">syncable&nbsp;=&nbsp;True,</div></div><div class=\"p1050\" style=\"display: none;\"><div style=\"display: table-cell;\"></div><div style=\"display: table-cell;\">tags&nbsp;=&nbsp;[],</div></div><div class=\"p1050\" style=\"display: none;\"><div style=\"display: table-cell;\"></div><div style=\"display: table-cell;\">title&nbsp;=&nbsp;Title(id='p1011', ...),</div></div><div class=\"p1050\" style=\"display: none;\"><div style=\"display: table-cell;\"></div><div style=\"display: table-cell;\">title_location&nbsp;=&nbsp;'above',</div></div><div class=\"p1050\" style=\"display: none;\"><div style=\"display: table-cell;\"></div><div style=\"display: table-cell;\">toolbar&nbsp;=&nbsp;Toolbar(id='p1012', ...),</div></div><div class=\"p1050\" style=\"display: none;\"><div style=\"display: table-cell;\"></div><div style=\"display: table-cell;\">toolbar_inner&nbsp;=&nbsp;False,</div></div><div class=\"p1050\" style=\"display: none;\"><div style=\"display: table-cell;\"></div><div style=\"display: table-cell;\">toolbar_location&nbsp;=&nbsp;'right',</div></div><div class=\"p1050\" style=\"display: none;\"><div style=\"display: table-cell;\"></div><div style=\"display: table-cell;\">toolbar_sticky&nbsp;=&nbsp;True,</div></div><div class=\"p1050\" style=\"display: none;\"><div style=\"display: table-cell;\"></div><div style=\"display: table-cell;\">visible&nbsp;=&nbsp;True,</div></div><div class=\"p1050\" style=\"display: none;\"><div style=\"display: table-cell;\"></div><div style=\"display: table-cell;\">width&nbsp;=&nbsp;600,</div></div><div class=\"p1050\" style=\"display: none;\"><div style=\"display: table-cell;\"></div><div style=\"display: table-cell;\">width_policy&nbsp;=&nbsp;'auto',</div></div><div class=\"p1050\" style=\"display: none;\"><div style=\"display: table-cell;\"></div><div style=\"display: table-cell;\">x_range&nbsp;=&nbsp;DataRange1d(id='p1005', ...),</div></div><div class=\"p1050\" style=\"display: none;\"><div style=\"display: table-cell;\"></div><div style=\"display: table-cell;\">x_scale&nbsp;=&nbsp;LinearScale(id='p1013', ...),</div></div><div class=\"p1050\" style=\"display: none;\"><div style=\"display: table-cell;\"></div><div style=\"display: table-cell;\">y_range&nbsp;=&nbsp;DataRange1d(id='p1006', ...),</div></div><div class=\"p1050\" style=\"display: none;\"><div style=\"display: table-cell;\"></div><div style=\"display: table-cell;\">y_scale&nbsp;=&nbsp;LinearScale(id='p1014', ...))</div></div></div>\n",
       "<script>\n",
       "(function() {\n",
       "  let expanded = false;\n",
       "  const ellipsis = document.getElementById(\"p1051\");\n",
       "  ellipsis.addEventListener(\"click\", function() {\n",
       "    const rows = document.getElementsByClassName(\"p1050\");\n",
       "    for (let i = 0; i < rows.length; i++) {\n",
       "      const el = rows[i];\n",
       "      el.style.display = expanded ? \"none\" : \"table-row\";\n",
       "    }\n",
       "    ellipsis.innerHTML = expanded ? \"&hellip;)\" : \"&lsaquo;&lsaquo;&lsaquo;\";\n",
       "    expanded = !expanded;\n",
       "  });\n",
       "})();\n",
       "</script>\n"
      ],
      "text/plain": [
       "figure(id='p1004', ...)"
      ]
     },
     "execution_count": 59,
     "metadata": {},
     "output_type": "execute_result"
    }
   ],
   "source": [
    "draw_vectors(embedding[:, 0], embedding[:, 1], token=top_words)"
   ]
  }
 ],
 "metadata": {
  "colab": {
   "provenance": []
  },
  "kernelspec": {
   "display_name": "Python 3",
   "language": "python",
   "name": "python3"
  },
  "language_info": {
   "codemirror_mode": {
    "name": "ipython",
    "version": 3
   },
   "file_extension": ".py",
   "mimetype": "text/x-python",
   "name": "python",
   "nbconvert_exporter": "python",
   "pygments_lexer": "ipython3",
   "version": "3.12.6"
  }
 },
 "nbformat": 4,
 "nbformat_minor": 0
}
